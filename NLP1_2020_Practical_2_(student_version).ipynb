{
  "nbformat": 4,
  "nbformat_minor": 0,
  "metadata": {
    "accelerator": "GPU",
    "colab": {
      "name": "NLP1_2020_Practical_2_(student_version).ipynb",
      "provenance": [],
      "collapsed_sections": [],
      "include_colab_link": true
    },
    "kernelspec": {
      "name": "python3",
      "display_name": "Python 3"
    }
  },
  "cells": [
    {
      "cell_type": "markdown",
      "metadata": {
        "id": "view-in-github",
        "colab_type": "text"
      },
      "source": [
        "<a href=\"https://colab.research.google.com/github/shin-ee-chen/Abstractive_Summarization/blob/master/NLP1_2020_Practical_2_(student_version).ipynb\" target=\"_parent\"><img src=\"https://colab.research.google.com/assets/colab-badge.svg\" alt=\"Open In Colab\"/></a>"
      ]
    },
    {
      "cell_type": "markdown",
      "metadata": {
        "id": "ptMZZMQlfn7c"
      },
      "source": [
        "------\n",
        "**You cannot apply any changes to this file, so please make sure to save it on your Google Colab drive or download it as a .ipynb file.**\n",
        "\n",
        "------\n"
      ]
    },
    {
      "cell_type": "markdown",
      "metadata": {
        "id": "jILqpPLlE9r0"
      },
      "source": [
        "# Practical 2: Representing Sentences with Neural Models"
      ]
    },
    {
      "cell_type": "markdown",
      "metadata": {
        "id": "8JXOZ5uhQ8Qq"
      },
      "source": [
        "In this second practical, we will train neural network models to obtain sentence representations. We can then use these sentence representations for a downstream task such as sentiment classification. \n",
        "\n",
        "In this notebook, we will help you to develop models for your experiments. But this time, next to completing the notebook, **you are expected to write a four-page scientific report with your findings**. Please still submit the notebook together with your scientific report so that we can reproduce your experiments. (Note: if you find it useful, you can split this notebook into multiple notebooks. If you do so, keep it mind that it should be possible for your TAs to reproduce the entire content of the notebooks without having to ask for clarifications or to copy and paste functions from one sub-notebook to another.)\n",
        "\n",
        "**Important!** The main purpose of this lab is for you to learn how to answer research questions by experimenting and then writing a scientific report.\n",
        "So you will be *judged by the quality of your report* but will lose points if your experiments are not reproducible.\n",
        "You can find the requirements for the report at the end of this notebook.\n",
        "\n",
        "\n",
        "### Data set\n",
        "We will use the [Stanford Sentiment Treebank](https://nlp.stanford.edu/sentiment/) (SST), which provides sentences, their binary tree structure, and fine-grained sentiment scores.\n",
        "This dataset is different from the one we used in the first practical. \n",
        "In Practical 1, a review consisted of several sentences, and we had one sentiment score for the whole review. Now, a review consists of a single sentence, and we have a sentiment score for each node in the binary tree that makes up the sentence, including the root node (i.e., we still have an overall sentiment score for the entire review). We will look at an example below.\n",
        "\n",
        "In the first part of this practical we will only make use of the sentence tokens whereas in the second part we will also exploit the tree structure that is provided by the SST.\n",
        "\n",
        "We will cover the following approaches:\n",
        "\n",
        "- Bag-of-words (BOW)\n",
        "- Continuous bag-of-words (CBOW)\n",
        "- Deep continuous bag-of-words (Deep CBOW)\n",
        "- LSTM\n",
        "- Tree-LSTM\n"
      ]
    },
    {
      "cell_type": "markdown",
      "metadata": {
        "id": "YbNKef3lymaj"
      },
      "source": [
        "## Preparing the data"
      ]
    },
    {
      "cell_type": "markdown",
      "metadata": {
        "id": "9jxTkpg59FlU"
      },
      "source": [
        "Let's first download the data set and take a look."
      ]
    },
    {
      "cell_type": "code",
      "metadata": {
        "id": "l8ehCjlqqV2-"
      },
      "source": [
        "# !pip install nltk"
      ],
      "execution_count": null,
      "outputs": []
    },
    {
      "cell_type": "code",
      "metadata": {
        "id": "WZp53HmMP3F2"
      },
      "source": [
        "import re\n",
        "import random\n",
        "import time\n",
        "import math\n",
        "import numpy as np\n",
        "import nltk\n",
        "import matplotlib.pyplot as plt\n",
        "plt.style.use('default')"
      ],
      "execution_count": null,
      "outputs": []
    },
    {
      "cell_type": "code",
      "metadata": {
        "id": "TovFkDTgE_d6",
        "colab": {
          "base_uri": "https://localhost:8080/"
        },
        "outputId": "85dce820-dbff-4772-c058-987430b887e5"
      },
      "source": [
        "!wget http://nlp.stanford.edu/sentiment/trainDevTestTrees_PTB.zip\n",
        "!unzip trainDevTestTrees_PTB.zip"
      ],
      "execution_count": null,
      "outputs": [
        {
          "output_type": "stream",
          "text": [
            "--2020-12-12 20:01:23--  http://nlp.stanford.edu/sentiment/trainDevTestTrees_PTB.zip\n",
            "Resolving nlp.stanford.edu (nlp.stanford.edu)... 171.64.67.140\n",
            "Connecting to nlp.stanford.edu (nlp.stanford.edu)|171.64.67.140|:80... connected.\n",
            "HTTP request sent, awaiting response... 302 Found\n",
            "Location: https://nlp.stanford.edu/sentiment/trainDevTestTrees_PTB.zip [following]\n",
            "--2020-12-12 20:01:23--  https://nlp.stanford.edu/sentiment/trainDevTestTrees_PTB.zip\n",
            "Connecting to nlp.stanford.edu (nlp.stanford.edu)|171.64.67.140|:443... connected.\n",
            "HTTP request sent, awaiting response... 200 OK\n",
            "Length: 789539 (771K) [application/zip]\n",
            "Saving to: ‘trainDevTestTrees_PTB.zip.2’\n",
            "\n",
            "trainDevTestTrees_P 100%[===================>] 771.03K   916KB/s    in 0.8s    \n",
            "\n",
            "2020-12-12 20:01:24 (916 KB/s) - ‘trainDevTestTrees_PTB.zip.2’ saved [789539/789539]\n",
            "\n",
            "Archive:  trainDevTestTrees_PTB.zip\n",
            "replace trees/dev.txt? [y]es, [n]o, [A]ll, [N]one, [r]ename: "
          ],
          "name": "stdout"
        }
      ]
    },
    {
      "cell_type": "code",
      "metadata": {
        "id": "0IpAphkBO5eW"
      },
      "source": [
        "# this function reads in a textfile and fixes an issue with \"\\\\\"\n",
        "def filereader(path): \n",
        "  with open(path, mode=\"r\", encoding=\"utf-8\") as f:\n",
        "    for line in f:\n",
        "      yield line.strip().replace(\"\\\\\",\"\")"
      ],
      "execution_count": null,
      "outputs": []
    },
    {
      "cell_type": "markdown",
      "metadata": {
        "id": "yP_jpquiprH8"
      },
      "source": [
        "Let's look at a data point. It is a **flattened binary tree**, with sentiment scores at every node, and words as the leaves (or *terminal nodes*)."
      ]
    },
    {
      "cell_type": "code",
      "metadata": {
        "id": "ylkIopm0QJML"
      },
      "source": [
        "s = next(filereader(\"trees/dev.txt\"))\n",
        "print(s)"
      ],
      "execution_count": null,
      "outputs": []
    },
    {
      "cell_type": "code",
      "metadata": {
        "id": "7_U7HTFwdrWt"
      },
      "source": [
        "# We can use NLTK to better visualise the tree structure of the sentence\n",
        "from nltk import Tree\n",
        "from nltk.treeprettyprinter import TreePrettyPrinter\n",
        "tree = Tree.fromstring(s)\n",
        "print(TreePrettyPrinter(tree))"
      ],
      "execution_count": null,
      "outputs": []
    },
    {
      "cell_type": "markdown",
      "metadata": {
        "id": "ekAWKsji9t93"
      },
      "source": [
        "The sentiment scores range from 0 (very negative) to 5 (very positive). Again, as you can see, every node in the tree is labeled with a sentiment score. For now, we will only use the score at the **root node**, i.e., the sentiment score for the complete sentence."
      ]
    },
    {
      "cell_type": "code",
      "metadata": {
        "id": "DKynLm0xPKr2"
      },
      "source": [
        "# Let's first make a function that extracts the tokens (the leaves).\n",
        "\n",
        "def tokens_from_treestring(s):\n",
        "  \"\"\"extract the tokens from a sentiment tree\"\"\"\n",
        "  return re.sub(r\"\\([0-9] |\\)\", \"\", s).split()\n",
        " \n",
        "# let's try it on our example tree\n",
        "tokens = tokens_from_treestring(s)\n",
        "print(tokens)\n",
        "print(len(tokens))"
      ],
      "execution_count": null,
      "outputs": []
    },
    {
      "cell_type": "markdown",
      "metadata": {
        "id": "B8vFkeqN-NLP"
      },
      "source": [
        "> *Warning: you could also parse a treestring using NLTK and ask it to return the leaves, but there seems to be an issue with NLTK not always correctly parsing the input, so do not rely on it.*"
      ]
    },
    {
      "cell_type": "code",
      "metadata": {
        "id": "Akr9K_Mv4dym"
      },
      "source": [
        "# We will also need the following function, but you can ignore this for now.\n",
        "# It is explained later on.\n",
        "\n",
        "SHIFT = 0\n",
        "REDUCE = 1\n",
        "\n",
        "\n",
        "def transitions_from_treestring(s):\n",
        "  s = re.sub(\"\\([0-5] ([^)]+)\\)\", \"0\", s)\n",
        "  s = re.sub(\"\\)\", \" )\", s)\n",
        "  s = re.sub(\"\\([0-4] \", \"\", s)\n",
        "  s = re.sub(\"\\([0-4] \", \"\", s)\n",
        "  s = re.sub(\"\\)\", \"1\", s)\n",
        "  return list(map(int, s.split()))"
      ],
      "execution_count": null,
      "outputs": []
    },
    {
      "cell_type": "code",
      "metadata": {
        "id": "mNtPdlwPgRat"
      },
      "source": [
        "# Now let's first see how large our data sets are.\n",
        "for path in (\"trees/train.txt\", \"trees/dev.txt\", \"trees/test.txt\"):\n",
        "  print(\"{:16s} {:4d}\".format(path, sum(1 for _ in filereader(path))))"
      ],
      "execution_count": null,
      "outputs": []
    },
    {
      "cell_type": "markdown",
      "metadata": {
        "id": "HexlSqTR_UrY"
      },
      "source": [
        "You can see that the number of sentences is not very large. That's probably because the data set required so much manual annotation. However, it is large enough to train a neural network on."
      ]
    },
    {
      "cell_type": "markdown",
      "metadata": {
        "id": "IfRjelOcsXuC"
      },
      "source": [
        "It will be useful to store each data example in an `Example` object,\n",
        "containing everything that we may need for each data point.\n",
        "It will contain the tokens, the tree, the top-level sentiment label, and \n",
        "the transitions (explained later)."
      ]
    },
    {
      "cell_type": "code",
      "metadata": {
        "id": "4I07Hb_-q8wg",
        "colab": {
          "base_uri": "https://localhost:8080/"
        },
        "outputId": "26230915-dfe2-41cb-bd6b-4e7c9c908475"
      },
      "source": [
        "from collections import namedtuple\n",
        "from nltk import Tree\n",
        "\n",
        "# A simple way to define a class is using namedtuple.\n",
        "Example = namedtuple(\"Example\", [\"tokens\", \"tree\", \"label\", \"transitions\"])\n",
        "\n",
        "   \n",
        "def examplereader(path, lower=False):\n",
        "  \"\"\"Returns all examples in a file one by one.\"\"\"\n",
        "  for line in filereader(path):\n",
        "    line = line.lower() if lower else line\n",
        "    tokens = tokens_from_treestring(line)\n",
        "    tree = Tree.fromstring(line)  # use NLTK's Tree\n",
        "    label = int(line[1])\n",
        "    trans = transitions_from_treestring(line)\n",
        "    yield Example(tokens=tokens, tree=tree, label=label, transitions=trans)\n",
        "  \n",
        "\n",
        "# Let's load the data into memory.\n",
        "LOWER = False  # we will keep the original casing\n",
        "train_data = list(examplereader(\"trees/train.txt\", lower=LOWER))\n",
        "dev_data = list(examplereader(\"trees/dev.txt\", lower=LOWER))\n",
        "test_data = list(examplereader(\"trees/test.txt\", lower=LOWER))\n",
        "\n",
        "print(\"train\", len(train_data))\n",
        "print(\"dev\", len(dev_data))\n",
        "print(\"test\", len(test_data))"
      ],
      "execution_count": 217,
      "outputs": [
        {
          "output_type": "stream",
          "text": [
            "train 8544\n",
            "dev 1101\n",
            "test 2210\n"
          ],
          "name": "stdout"
        }
      ]
    },
    {
      "cell_type": "markdown",
      "metadata": {
        "id": "6KM0bDyeVZtP"
      },
      "source": [
        "Let's check out an `Example` object."
      ]
    },
    {
      "cell_type": "code",
      "metadata": {
        "id": "J8mwcaZwxP1c"
      },
      "source": [
        "example = dev_data[0]\n",
        "print(\"First example:\", example)\n",
        "print(\"First example tokens:\", example.tokens)\n",
        "print(\"First example label:\",  example.label)"
      ],
      "execution_count": null,
      "outputs": []
    },
    {
      "cell_type": "markdown",
      "metadata": {
        "id": "-WDSprDBVcr-"
      },
      "source": [
        "#### Vocabulary \n",
        "A first step in most NLP tasks is collecting all the word types that appear in the data into a vocabulary, and counting the frequency of their occurrences. On the one hand, this will give us an overview of the word distribution of the data set (what are the most frequent words, how many rare words are there, ...). On the other hand, we will also use the vocabulary to map each word to a unique numeric ID, which is a more handy index than a string."
      ]
    },
    {
      "cell_type": "code",
      "metadata": {
        "id": "VvNgKx7usRSt"
      },
      "source": [
        "# Here we first define a class that can map a word to an ID (w2i)\n",
        "# and back (i2w).\n",
        "\n",
        "from collections import Counter, OrderedDict, defaultdict\n",
        "\n",
        "\n",
        "class OrderedCounter(Counter, OrderedDict):\n",
        "  \"\"\"Counter that remembers the order elements are first seen\"\"\"\n",
        "  def __repr__(self):\n",
        "    return '%s(%r)' % (self.__class__.__name__,\n",
        "                      OrderedDict(self))\n",
        "  def __reduce__(self):\n",
        "    return self.__class__, (OrderedDict(self),)\n",
        "\n",
        "\n",
        "class Vocabulary:\n",
        "  \"\"\"A vocabulary, assigns IDs to tokens\"\"\"\n",
        "  \n",
        "  def __init__(self):\n",
        "    self.freqs = OrderedCounter()\n",
        "    self.w2i = {}\n",
        "    self.i2w = []\n",
        "\n",
        "  def count_token(self, t):\n",
        "    self.freqs[t] += 1\n",
        "    \n",
        "  def add_token(self, t):\n",
        "    self.w2i[t] = len(self.w2i)\n",
        "    self.i2w.append(t)    \n",
        "    \n",
        "  def build(self, min_freq=0):\n",
        "    '''\n",
        "    min_freq: minimum number of occurrences for a word to be included  \n",
        "              in the vocabulary\n",
        "    '''\n",
        "    self.add_token(\"<unk>\")  # reserve 0 for <unk> (unknown words)\n",
        "    self.add_token(\"<pad>\")  # reserve 1 for <pad> (discussed later)   \n",
        "    \n",
        "    tok_freq = list(self.freqs.items())\n",
        "    tok_freq.sort(key=lambda x: x[1], reverse=True)\n",
        "    for tok, freq in tok_freq:\n",
        "      if freq >= min_freq:\n",
        "        self.add_token(tok)"
      ],
      "execution_count": null,
      "outputs": []
    },
    {
      "cell_type": "markdown",
      "metadata": {
        "id": "kOvkH_llVsoW"
      },
      "source": [
        "The vocabulary has by default an `<unk>` token and a `<pad>` token. The `<unk>` token is reserved for all words which do not appear in the training data (and for which, therefore, we cannot learn word representations). The function of the `<pad>` token will be explained later.\n",
        "\n",
        "\n",
        "Let's build the vocabulary!\n"
      ]
    },
    {
      "cell_type": "code",
      "metadata": {
        "id": "GwGQgQQBNUSq"
      },
      "source": [
        "# This process should be deterministic and should have the same result \n",
        "# if run multiple times on the same data set.\n",
        "\n",
        "v = Vocabulary()\n",
        "for data_set in (train_data,):\n",
        "  for ex in data_set:\n",
        "    for token in ex.tokens:\n",
        "      v.count_token(token)\n",
        "\n",
        "v.build()\n",
        "print(\"Vocabulary size:\", len(v.w2i))"
      ],
      "execution_count": null,
      "outputs": []
    },
    {
      "cell_type": "markdown",
      "metadata": {
        "id": "-UNIedPrPdCw"
      },
      "source": [
        "Let's have a closer look at the properties of our vocabulary. Having a good idea of what it is like can facilitate data analysis and debugging later on."
      ]
    },
    {
      "cell_type": "code",
      "metadata": {
        "id": "oJyuogmh0CA7"
      },
      "source": [
        "# What is the ID for \"century?\"\n",
        "v.w2i[\"century\"]"
      ],
      "execution_count": null,
      "outputs": []
    },
    {
      "cell_type": "code",
      "metadata": {
        "id": "O8OkPQ8Zv-rI"
      },
      "source": [
        "# What are the first 10 words in the vocabulary (based on their IDs)?\n",
        "v.i2w[:10]"
      ],
      "execution_count": null,
      "outputs": []
    },
    {
      "cell_type": "code",
      "metadata": {
        "id": "kmXwu02lOLWI"
      },
      "source": [
        "# What are the 10 most common words?\n",
        "sorted(v.freqs.items(), key=lambda x: x[1], reverse=True)[:10]"
      ],
      "execution_count": null,
      "outputs": []
    },
    {
      "cell_type": "code",
      "metadata": {
        "id": "__NDPaCeOT_m"
      },
      "source": [
        "# And how many words are there with frequency 1?\n",
        "# (A fancy name for these is hapax legomena.)\n",
        "Counter(v.freqs.values())[1]"
      ],
      "execution_count": null,
      "outputs": []
    },
    {
      "cell_type": "code",
      "metadata": {
        "id": "xKHocugctZGM"
      },
      "source": [
        "# Finally 20 random words from the vocabulary.\n",
        "# This is a simple way to get a feeling for the data. \n",
        "# You could use the `choice` function from the already imported `random` package\n",
        "\n",
        "random.choices(v.i2w, k = 20)"
      ],
      "execution_count": null,
      "outputs": []
    },
    {
      "cell_type": "markdown",
      "metadata": {
        "id": "nGWaZahKV_dH"
      },
      "source": [
        "#### Sentiment label vocabulary"
      ]
    },
    {
      "cell_type": "code",
      "metadata": {
        "id": "AmTC-rvQelpl"
      },
      "source": [
        "# Now let's map the sentiment labels 0-4 to a more readable form\n",
        "i2t = [\"very negative\", \"negative\", \"neutral\", \"positive\", \"very positive\"]\n",
        "print(i2t)\n",
        "print(i2t[4])"
      ],
      "execution_count": null,
      "outputs": []
    },
    {
      "cell_type": "code",
      "metadata": {
        "id": "D7UI26DP2dr2"
      },
      "source": [
        "# And let's also create the opposite mapping.\n",
        "# We won't use a Vocabulary for this (although we could), since the labels\n",
        "# are already numeric.\n",
        "t2i = OrderedDict({p : i for p, i in zip(i2t, range(len(i2t)))})\n",
        "print(t2i)\n",
        "print(t2i['very positive'])"
      ],
      "execution_count": null,
      "outputs": []
    },
    {
      "cell_type": "markdown",
      "metadata": {
        "id": "y0067ax54-rd"
      },
      "source": [
        "## PyTorch\n",
        "\n",
        "In Colab notebooks, the last available version of PyTorch is already installed.The current stable version is 1.7.\n",
        "\n",
        "*For installing PyTorch in your own computer, follow the instructions on [pytorch.org](pytorch.org) instead. This is for Google Colab only.*"
      ]
    },
    {
      "cell_type": "code",
      "metadata": {
        "id": "qKQMGtkR5KWr"
      },
      "source": [
        "import torch\n",
        "print(\"Using torch\", torch.__version__) # should say 1.7.0+cu101"
      ],
      "execution_count": null,
      "outputs": []
    },
    {
      "cell_type": "code",
      "metadata": {
        "id": "mnvPcd_E1xH8"
      },
      "source": [
        "# Let's also import torch.nn, a PyTorch package that  \n",
        "# makes building neural networks more convenient.\n",
        "from torch import nn"
      ],
      "execution_count": null,
      "outputs": []
    },
    {
      "cell_type": "code",
      "metadata": {
        "id": "BYt8uTyGCKc7"
      },
      "source": [
        "# PyTorch can run on CPU or on Nvidia GPU (video card) using CUDA\n",
        "# This cell selects the GPU if one is available.\n",
        "device = torch.device('cuda' if torch.cuda.is_available() else 'cpu')\n",
        "device"
      ],
      "execution_count": null,
      "outputs": []
    },
    {
      "cell_type": "code",
      "metadata": {
        "id": "2d1VMOOYx1Bw"
      },
      "source": [
        "# Seed manually to make runs reproducible\n",
        "# You need to set this again if you do multiple runs of the same model\n",
        "torch.manual_seed(0)\n",
        "\n",
        "# When running on the CuDNN backend two further options must be set for reproducibility\n",
        "if torch.cuda.is_available():\n",
        "  torch.backends.cudnn.deterministic = True\n",
        "  torch.backends.cudnn.benchmark = False"
      ],
      "execution_count": null,
      "outputs": []
    },
    {
      "cell_type": "markdown",
      "metadata": {
        "id": "uWBTzkuE3CtZ"
      },
      "source": [
        "# BOW"
      ]
    },
    {
      "cell_type": "markdown",
      "metadata": {
        "id": "TBAjYYySOA5W"
      },
      "source": [
        "Our first model is a rather simple neural **bag-of-words (BOW) model**.\n",
        "Unlike the bag-of-words model that you used in the previous lab, where we would look at the presence / frequency of words in a text, here we associate each word with a multi-dimensional vector which expresses what sentiment is conveyed by the word. In particular, our BOW vectors will be of size 5, exactly our number of sentiment classes. \n",
        "\n",
        "To classify a sentence, we **sum** the vectors of the words in the sentence and a bias vector. Because we sum the vectors, we lose word order: that's why we call this a neural bag-of-words model.\n",
        "\n",
        "```\n",
        "this   [0.0, 0.1, 0.1, 0.1, 0.0]\n",
        "movie  [0.0, 0.1, 0.1, 0.2, 0.1]\n",
        "is     [0.0, 0.1, 0.0, 0.0, 0.0]\n",
        "stupid [0.9, 0.5, 0.1, 0.0, 0.0]\n",
        "\n",
        "bias   [0.0, 0.0, 0.0, 0.0, 0.0]\n",
        "--------------------------------\n",
        "sum    [0.9, 0.8, 0.3, 0.3, 0.1]\n",
        "\n",
        "argmax: 0 (very negative)\n",
        "```\n",
        "\n",
        "The **argmax** of this sum is our predicted label.\n",
        "\n",
        "We initialize all vectors *randomly* and train them using cross-entropy loss."
      ]
    },
    {
      "cell_type": "markdown",
      "metadata": {
        "id": "rLtBAIQGynkB"
      },
      "source": [
        "#### Model class"
      ]
    },
    {
      "cell_type": "code",
      "metadata": {
        "id": "QZfNklWf3tvs"
      },
      "source": [
        "class BOW(nn.Module):\n",
        "  \"\"\"A simple bag-of-words model\"\"\"\n",
        "\n",
        "  def __init__(self, vocab_size, embedding_dim, vocab):\n",
        "    super(BOW, self).__init__()\n",
        "    self.vocab = vocab\n",
        "    \n",
        "    # this is a trainable look-up table with word embeddings\n",
        "    self.embed = nn.Embedding(vocab_size, embedding_dim)\n",
        "    \n",
        "    # this is a trainable bias term\n",
        "    self.bias = nn.Parameter(torch.zeros(embedding_dim), requires_grad=True)        \n",
        "\n",
        "  def forward(self, inputs):\n",
        "    # this is the forward pass of the neural network\n",
        "    # it applies a function to the input and returns the output\n",
        "\n",
        "    # this looks up the embeddings for each word ID in inputs\n",
        "    # the result is a sequence of word embeddings\n",
        "    embeds = self.embed(inputs)\n",
        "    \n",
        "    # the output is the sum across the time dimension (1)\n",
        "    # with the bias term added\n",
        "    logits = embeds.sum(1) + self.bias\n",
        "\n",
        "    return logits"
      ],
      "execution_count": null,
      "outputs": []
    },
    {
      "cell_type": "code",
      "metadata": {
        "id": "eKHvBnoBAr6z"
      },
      "source": [
        "# Let's create a model.\n",
        "vocab_size = len(v.w2i)\n",
        "n_classes = len(t2i)\n",
        "bow_model = BOW(vocab_size, n_classes, v)\n",
        "print(bow_model)"
      ],
      "execution_count": null,
      "outputs": []
    },
    {
      "cell_type": "markdown",
      "metadata": {
        "id": "vfCx-HvMH1qQ"
      },
      "source": [
        "> **Hey, wait, where is the bias vector?**\n",
        "> PyTorch does not print Parameters, only Modules!\n",
        "\n",
        "> We can print it ourselves though, to check that it is there."
      ]
    },
    {
      "cell_type": "code",
      "metadata": {
        "id": "Fhvk5HenAroT"
      },
      "source": [
        "\n",
        "# Here we print each parameter name, shape, and if it is trainable.\n",
        "def print_parameters(model):\n",
        "  total = 0\n",
        "  for name, p in model.named_parameters():\n",
        "    total += np.prod(p.shape)\n",
        "    print(\"{:24s} {:12s} requires_grad={}\".format(name, str(list(p.shape)), p.requires_grad))\n",
        "  print(\"\\nTotal number of parameters: {}\\n\".format(total))\n",
        "    \n",
        "\n",
        "print_parameters(bow_model)"
      ],
      "execution_count": null,
      "outputs": []
    },
    {
      "cell_type": "markdown",
      "metadata": {
        "id": "WSAw292WxuP4"
      },
      "source": [
        "#### Preparing an example for input\n",
        "\n",
        "To feed sentences to our PyTorch model, we need to convert a sequence of tokens to a sequence of IDs. The `prepare_example` function below takes care of this for us. We then use these IDs as indices for the word embedding table. "
      ]
    },
    {
      "cell_type": "code",
      "metadata": {
        "id": "YWeGTC_OGReV"
      },
      "source": [
        "def prepare_example(example, vocab, shuffle = \"False\"):\n",
        "  \"\"\"\n",
        "  Map tokens to their IDs for a single example\n",
        "  \"\"\"\n",
        "  \n",
        "  # vocab returns 0 if the word is not there (i2w[0] = <unk>)\n",
        "  x = [vocab.w2i.get(t, 0) for t in example.tokens]\n",
        "  \n",
        "  x = torch.LongTensor([x])\n",
        "  x = x.to(device)\n",
        "  \n",
        "  y = torch.LongTensor([example.label])\n",
        "  y = y.to(device)\n",
        "  \n",
        "  if shuffle == \"True\":\n",
        "    idx = torch.randperm(x.nelement())\n",
        "    x = x.view(-1)[idx].view(x.size())\n",
        "    # x = random.shuffle(x[0])\n",
        "\n",
        "  return x, y"
      ],
      "execution_count": 104,
      "outputs": []
    },
    {
      "cell_type": "code",
      "metadata": {
        "id": "oE0UCnyDqV3J"
      },
      "source": [
        "dev_data[0]"
      ],
      "execution_count": null,
      "outputs": []
    },
    {
      "cell_type": "code",
      "metadata": {
        "id": "sfbdv9px3uFF"
      },
      "source": [
        "x, y = prepare_example(dev_data[0], v)\n",
        "print('x:', x)\n",
        "print('y:', y)"
      ],
      "execution_count": null,
      "outputs": []
    },
    {
      "cell_type": "markdown",
      "metadata": {
        "id": "oKNQjEc0yXnJ"
      },
      "source": [
        "#### Evaluation\n",
        "We now need to define an evaluation metric.\n",
        "How many predictions do we get right? The accuracy will tell us.\n",
        "Make sure that you understand this code block.\n"
      ]
    },
    {
      "cell_type": "code",
      "metadata": {
        "id": "yGmQLcVYKZsh"
      },
      "source": [
        "def simple_evaluate(model, data, prep_fn=prepare_example, **kwargs):\n",
        "  \"\"\"Accuracy of a model on given data set.\"\"\"\n",
        "  correct = 0\n",
        "  total = 0\n",
        "  model.eval()  # disable dropout (explained later)\n",
        "\n",
        "  for example in data:\n",
        "    \n",
        "    # convert the example input and label to PyTorch tensors\n",
        "    x, target = prep_fn(example, model.vocab)\n",
        "\n",
        "    # forward pass without backpropagation (no_grad)\n",
        "    # get the output from the neural network for input x\n",
        "    with torch.no_grad():\n",
        "      logits = model(x)\n",
        "    \n",
        "    # get the prediction\n",
        "    prediction = logits.argmax(dim=-1)\n",
        "    \n",
        "    # add the number of correct predictions to the total correct\n",
        "    correct += (prediction == target).sum().item()\n",
        "    total += 1\n",
        "\n",
        "  return correct, total, correct / float(total)"
      ],
      "execution_count": null,
      "outputs": []
    },
    {
      "cell_type": "markdown",
      "metadata": {
        "id": "5KlIGFXllWWm"
      },
      "source": [
        "We are using accuracy as a handy evaluation metric. Please consider using [alternative metrics](https://scikit-learn.org/stable/modules/classes.html#classification-metrics) for your experiments if that makes more theoretical sense (see, e.g., Q3.3 in Practical 1). "
      ]
    },
    {
      "cell_type": "markdown",
      "metadata": {
        "id": "dIk6OtSdzGRP"
      },
      "source": [
        "#### Example feed\n",
        "For stochastic gradient descent (SGD) we will need a random training example for every update.\n",
        "We implement this by shuffling the training data and returning examples one by one using `yield`.\n",
        "\n",
        "Shuffling is optional so that we get to use this function to get validation and test examples, too."
      ]
    },
    {
      "cell_type": "code",
      "metadata": {
        "id": "dxDFOZLfCXvJ"
      },
      "source": [
        "def get_examples(data, shuffle=True, **kwargs):\n",
        "  \"\"\"Shuffle data set and return 1 example at a time (until nothing left)\"\"\"\n",
        "  if shuffle:\n",
        "    print(\"Shuffling training data\")\n",
        "    random.shuffle(data)  # shuffle training data each epoch\n",
        "  for example in data:\n",
        "    yield example"
      ],
      "execution_count": null,
      "outputs": []
    },
    {
      "cell_type": "markdown",
      "metadata": {
        "id": "g09SM8yb2cjx"
      },
      "source": [
        "#### Exercise: Training function\n",
        "\n",
        "Your task is now to complete the training loop below.\n",
        "Before you do so, please read the section about optimisation."
      ]
    },
    {
      "cell_type": "markdown",
      "metadata": {
        "id": "TVfUukVdM_1c"
      },
      "source": [
        "**Optimisation**\n",
        "\n",
        "As mentioned in the \"Intro to PyTorch\" notebook, one of the perks of using PyTorch is automatic differentiation. We will use it to train our BOW model. \n",
        "\n",
        "We train our model by feeding it an input, performing a **forward** pass, obtaining an output prediction, and calculating a **loss** with our loss function.\n",
        "After the gradients are computed in the **backward** pass, we can take a step on the surface of the loss function towards more optimal parameter settings (gradient descent). \n",
        "\n",
        "The package we will use to do this optimisation is [torch.optim](https://pytorch.org/docs/stable/optim.html). "
      ]
    },
    {
      "cell_type": "code",
      "metadata": {
        "id": "KhQigDrQ--YU"
      },
      "source": [
        "from torch import optim"
      ],
      "execution_count": null,
      "outputs": []
    },
    {
      "cell_type": "markdown",
      "metadata": {
        "id": "wGIvcTZU_Cez"
      },
      "source": [
        "Besides implementations of stochastic gradient descent (SGD), this package also implements the optimisation algorithm Adam, which we'll be using in this practical. \n",
        "For the purposes of this assignment you do not need to know what Adam does besides that it uses gradient information to update our model parameters by calling: \n",
        "\n",
        "```\n",
        "optimizer.step()\n",
        "```\n",
        "Remember when we updated our parameters in the PyTorch tutorial in a loop?\n",
        "\n",
        "\n",
        "```python\n",
        "# update weights\n",
        "learning_rate = 0.5\n",
        "for f in net.parameters():\n",
        "    # for each parameter, take a small step in the opposite dir of the gradient\n",
        "    p.data = p.data - p.grad.data * learning_rate\n",
        "\n",
        "```\n",
        "The function call optimizer.step() does effectively the same thing.\n",
        "\n",
        "*(If you want to know more about optimisation algorithms using gradient information, [this blog](http://ruder.io/optimizing-gradient-descent/.) gives a nice intuitive overview.)*"
      ]
    },
    {
      "cell_type": "code",
      "metadata": {
        "id": "ktFnKBux25lD"
      },
      "source": [
        "def train_model(model, optimizer, num_iterations=10000, \n",
        "                print_every=1000, eval_every=1000,\n",
        "                batch_fn=get_examples, \n",
        "                prep_fn=prepare_example,\n",
        "                eval_fn=simple_evaluate,\n",
        "                batch_size=1, eval_batch_size=None, shuffle = \"False\"):\n",
        "  \"\"\"Train a model.\"\"\"  \n",
        "  iter_i = 0\n",
        "  train_loss = 0.\n",
        "  print_num = 0\n",
        "  start = time.time()\n",
        "  criterion = nn.CrossEntropyLoss() # loss function\n",
        "  best_eval = 0.\n",
        "  best_iter = 0\n",
        "  \n",
        "  # store train loss and validation accuracy during training\n",
        "  # so we can plot them afterwards\n",
        "  losses = []\n",
        "  accuracies = []\n",
        "  predictions = []\n",
        "  \n",
        "  if eval_batch_size is None:\n",
        "    eval_batch_size = batch_size\n",
        "  \n",
        "  while True:  # when we run out of examples, shuffle and continue\n",
        "    for batch in batch_fn(train_data, batch_size=batch_size):\n",
        "\n",
        "      # forward pass\n",
        "      model.train()\n",
        "\n",
        "      if shuffle == \"True\":\n",
        "        x, targets = prep_fn(batch, model.vocab, shuffle)\n",
        "      else:\n",
        "        x, targets = prep_fn(batch, model.vocab)\n",
        "      logits = model(x)\n",
        "\n",
        "      B = targets.size(0)  # later we will use B examples per update\n",
        "      \n",
        "      # compute cross-entropy loss (our criterion)\n",
        "      # note that the cross entropy loss function computes the softmax for us\n",
        "      loss = criterion(logits.view([B, -1]), targets.view(-1))\n",
        "      train_loss += loss.item()\n",
        "      predictions.append(logits.view(-1))\n",
        "\n",
        "#       print(\"THIS: \", targets.view(-1))\n",
        "      # backward pass (tip: check the Introduction to PyTorch notebook)\n",
        "\n",
        "      # erase previous gradients\n",
        "      model.zero_grad()\n",
        "      # YOUR CODE HERE\n",
        "      \n",
        "      # compute gradients\n",
        "      loss.backward()\n",
        "\n",
        "      # update weights - take a small step in the opposite dir of the gradient\n",
        "      optimizer.step()\n",
        "\n",
        "      print_num += 1\n",
        "      iter_i += 1\n",
        "\n",
        "      # print info\n",
        "      if iter_i % print_every == 0:\n",
        "        print(\"Iter %r: loss=%.4f, time=%.2fs\" % \n",
        "              (iter_i, train_loss, time.time()-start))\n",
        "        \n",
        "        losses.append(train_loss)\n",
        "        ############################################################## NU ar trebui sa fie train_loss / print_every? (averaged)\n",
        "        print_num = 0        \n",
        "        train_loss = 0.\n",
        "\n",
        "      # evaluate\n",
        "      if iter_i % eval_every == 0:\n",
        "        _, _, accuracy = eval_fn(model, dev_data, batch_size=eval_batch_size,\n",
        "                                 batch_fn=batch_fn, prep_fn=prep_fn)\n",
        "        accuracies.append(accuracy)\n",
        "        print(\"iter %r: dev acc=%.4f\" % (iter_i, accuracy))       \n",
        "        \n",
        "        # save best model parameters\n",
        "        if accuracy > best_eval:\n",
        "          print(\"new highscore\")\n",
        "          best_eval = accuracy\n",
        "          best_iter = iter_i\n",
        "          path = \"{}.pt\".format(model.__class__.__name__)\n",
        "          ckpt = {\n",
        "              \"state_dict\": model.state_dict(),\n",
        "              \"optimizer_state_dict\": optimizer.state_dict(),\n",
        "              \"best_eval\": best_eval,\n",
        "              \"best_iter\": best_iter\n",
        "          }\n",
        "          torch.save(ckpt, path)\n",
        "\n",
        "      # done training\n",
        "      if iter_i == num_iterations:\n",
        "        print(\"Done training\")\n",
        "        \n",
        "        # evaluate on train, dev, and test with best model\n",
        "        print(\"Loading best model\")\n",
        "        path = \"{}.pt\".format(model.__class__.__name__)        \n",
        "        ckpt = torch.load(path)\n",
        "        model.load_state_dict(ckpt[\"state_dict\"])\n",
        "        \n",
        "        _, _, train_acc = eval_fn(\n",
        "            model, train_data, batch_size=eval_batch_size, \n",
        "            batch_fn=batch_fn, prep_fn=prep_fn)\n",
        "        _, _, dev_acc = eval_fn(\n",
        "            model, dev_data, batch_size=eval_batch_size,\n",
        "            batch_fn=batch_fn, prep_fn=prep_fn)\n",
        "        _, _, test_acc = eval_fn(\n",
        "            model, test_data, batch_size=eval_batch_size, \n",
        "            batch_fn=batch_fn, prep_fn=prep_fn)\n",
        "        \n",
        "        print(\"best model iter {:d}: \"\n",
        "              \"train acc={:.4f}, dev acc={:.4f}, test acc={:.4f}\".format(\n",
        "                  best_iter, train_acc, dev_acc, test_acc))\n",
        "        \n",
        "        return losses, accuracies"
      ],
      "execution_count": null,
      "outputs": []
    },
    {
      "cell_type": "markdown",
      "metadata": {
        "id": "XEPsLvI-3D5b"
      },
      "source": [
        "### Training the BOW model"
      ]
    },
    {
      "cell_type": "code",
      "metadata": {
        "id": "9luJnNuN_d3q"
      },
      "source": [
        "# If everything is in place we can now train our first model!\n",
        "# bow_model = BOW(len(v.w2i), len(t2i), vocab=v)\n",
        "# print(bow_model)\n",
        "\n",
        "# bow_model = bow_model.to(device)\n",
        "\n",
        "# optimizer = optim.Adam(bow_model.parameters(), lr=0.0005)\n",
        "# bow_losses, bow_accuracies = train_model(\n",
        "#     bow_model, optimizer, num_iterations=3000, \n",
        "#     print_every=1000, eval_every=1000, shuffle = \"False\")"
      ],
      "execution_count": null,
      "outputs": []
    },
    {
      "cell_type": "code",
      "metadata": {
        "id": "0tPmgGWxqV3L"
      },
      "source": [
        "# import os\n",
        "# torch.save(bow_model.state_dict(), os.path.join(\"models\", \"bow_model.pth\"))"
      ],
      "execution_count": null,
      "outputs": []
    },
    {
      "cell_type": "code",
      "metadata": {
        "id": "dvYLj8LIAzfS"
      },
      "source": [
        "# This will plot the validation accuracies across time.\n",
        "# plt.plot(bow_accuracies)"
      ],
      "execution_count": null,
      "outputs": []
    },
    {
      "cell_type": "code",
      "metadata": {
        "id": "vUHm9JfSI4po"
      },
      "source": [
        "# This will plot the training loss over time.\n",
        "# plt.plot(bow_losses)"
      ],
      "execution_count": null,
      "outputs": []
    },
    {
      "cell_type": "markdown",
      "metadata": {
        "id": "Psxh-Le1BMDQ"
      },
      "source": [
        "Please note that we set the number of iterations to 30K as an indicative value, after which we simply stop training without checking for convergence. You should choose an appropriate number of iterations and motivate your decision. **This holds for all pre-set numbers of iteration in the following code blocks.**"
      ]
    },
    {
      "cell_type": "markdown",
      "metadata": {
        "id": "E9mB1_XhMPNN"
      },
      "source": [
        "# CBOW"
      ]
    },
    {
      "cell_type": "markdown",
      "metadata": {
        "id": "pWk78FvNMw4o"
      },
      "source": [
        "We now continue with a **continuous bag-of-words (CBOW)** model. (*This is not the same as the word2vec CBOW model!*)\n",
        "\n",
        "It is similar to the BOW model above, but now embeddings can have a dimension of *arbitrary size*. \n",
        "This means that we can choose a higher dimensionality and learn more aspects of each word. We will still sum word vectors to get a sentence representation, but now the size of the resulting vector will no longer correspond to the number of sentiment classes. \n",
        "\n",
        "So to turn the size of our summed vector into the number of output classes, we can *learn* a parameter matrix $W$ and multiply it by the sum vector $x$: $$Wx$$\n",
        "If the size of $x$ is `d x 1`, we can set $W$ to be `5 x d`, so that the output of the matrix multiplication will be the of the desired size, `5 x 1`. Then, just like for the BOW model, we can obtain a prediction using the argmax function."
      ]
    },
    {
      "cell_type": "markdown",
      "metadata": {
        "id": "gIjrCPfCwsXI"
      },
      "source": [
        "## Exercise: implement and train the CBOW model\n",
        "\n",
        "Write a class `CBOW` that:\n",
        "\n",
        "- has word embeddings with size 300\n",
        "- sums the word vectors for the input words (just like in `BOW`)\n",
        "- projects the resulting vector down to 5 units using a linear layer and a bias term (check out `nn.Linear`)\n",
        "\n",
        "Train your CBOW model and plot the validation accuracy and training loss over time."
      ]
    },
    {
      "cell_type": "code",
      "metadata": {
        "id": "PEV22aR2MP0Q"
      },
      "source": [
        "class CBOW(nn.Module):\n",
        "\n",
        "  def __init__(self, vocab_size, n_classes, vocab, embedding_dim):\n",
        "    super(CBOW, self).__init__()\n",
        "    self.vocab = vocab\n",
        "    \n",
        "    # this is a trainable look-up table with word embeddings\n",
        "    self.embed = nn.Embedding(vocab_size, embedding_dim)\n",
        "    \n",
        "    # this is a trainable bias term\n",
        "    self.bias = nn.Parameter(torch.zeros(embedding_dim), requires_grad=True)    \n",
        "    \n",
        "    self.project = nn.Linear(embedding_dim, n_classes)\n",
        "    self.project_bias = nn.Parameter(torch.zeros(n_classes), requires_grad=True)    \n",
        "\n",
        "  def forward(self, inputs):\n",
        "    # this is the forward pass of the neural network\n",
        "    # it applies a function to the input and returns the output\n",
        "\n",
        "    # this looks up the embeddings for each word ID in inputs\n",
        "    # the result is a sequence of word embeddings\n",
        "    embeds = self.embed(inputs)\n",
        "    \n",
        "    # the output is the sum across the time dimension (1)\n",
        "    # with the bias term added\n",
        "    x = embeds.sum(1) + self.bias\n",
        "    logits = self.project(x) + self.project_bias\n",
        "\n",
        "\n",
        "    return logits"
      ],
      "execution_count": null,
      "outputs": []
    },
    {
      "cell_type": "code",
      "metadata": {
        "id": "arnUAiYDqV3M"
      },
      "source": [
        "# Let's create a model.\n",
        "vocab_size = len(v.w2i)\n",
        "n_classes = len(t2i)\n",
        "bow_model = CBOW(vocab_size, n_classes, v, embedding_dim = 300)\n",
        "print(bow_model)"
      ],
      "execution_count": null,
      "outputs": []
    },
    {
      "cell_type": "code",
      "metadata": {
        "id": "0-QUzUROqV3N"
      },
      "source": [
        "# cbow_model = CBOW(len(v.w2i), len(t2i), vocab=v, embedding_dim = 300)\n",
        "# print(cbow_model)\n",
        "\n",
        "# cbow_model = cbow_model.to(device)\n",
        "# print(device)\n",
        "\n",
        "# optimizer = optim.Adam(cbow_model.parameters(), lr=0.0005)\n",
        "# cbow_losses, cbow_accuracies = train_model(\n",
        "#     cbow_model, optimizer, num_iterations=30000, \n",
        "#     print_every=1000, eval_every=1000)"
      ],
      "execution_count": null,
      "outputs": []
    },
    {
      "cell_type": "code",
      "metadata": {
        "id": "HK7ukNaVqV3N"
      },
      "source": [
        "# import os\n",
        "# torch.save(bow_model.state_dict(), os.path.join(\"models\", \"bow_model.pth\"))"
      ],
      "execution_count": null,
      "outputs": []
    },
    {
      "cell_type": "code",
      "metadata": {
        "id": "bHGG2amoqV3N"
      },
      "source": [
        "# This will plot the validation accuracies across time.\n",
        "# plt.plot(cbow_accuracies)"
      ],
      "execution_count": null,
      "outputs": []
    },
    {
      "cell_type": "code",
      "metadata": {
        "id": "FCFAMhEzqV3N"
      },
      "source": [
        "# This will plot the training loss over time.\n",
        "# plt.plot(cbow_losses)"
      ],
      "execution_count": null,
      "outputs": []
    },
    {
      "cell_type": "markdown",
      "metadata": {
        "id": "zpFt_Fo2TdN0"
      },
      "source": [
        "# Deep CBOW"
      ]
    },
    {
      "cell_type": "markdown",
      "metadata": {
        "id": "iZanOMesTfEZ"
      },
      "source": [
        "To see if we can squeeze some more performance out of the CBOW model, we can make it deeper and non-linear by adding more layers and, e.g., tanh-activations.\n",
        "By using more parameters we can learn more aspects of the data, and by using more layers and non-linearities, we can try to learn a more complex function. \n",
        "This is not something that always works. If the input-output mapping of your data is simple, then a complicated function could easily overfit on your training set, thereby leading to poor generalization. \n",
        "\n",
        "#### Exercise: write Deep CBOW class and train it\n",
        "\n",
        "Write a class `DeepCBOW`.\n",
        "\n",
        "In your code, make sure that your `output_layer` consists of the following:\n",
        "- A linear transformation from E units to D units.\n",
        "- A Tanh activation\n",
        "- A linear transformation from D units to D units\n",
        "- A Tanh activation\n",
        "- A linear transformation from D units to 5 units (our output classes).\n",
        "\n",
        "E is the size of the word embeddings (please use E=300) and D for the size of a hidden layer (please use D=100).\n",
        "\n",
        "We recommend using [nn.Sequential](https://pytorch.org/docs/stable/nn.html?highlight=sequential#torch.nn.Sequential) to implement this exercise."
      ]
    },
    {
      "cell_type": "code",
      "metadata": {
        "id": "l8Z1igvpTrZq"
      },
      "source": [
        "class DeepCBOW(nn.Module):\n",
        "\n",
        "  def __init__(self, vocab_size, n_classes, vocab, embedding_dim):\n",
        "\n",
        "    super(DeepCBOW, self).__init__()\n",
        "    self.vocab = vocab\n",
        "    self.hidden_dim = 100\n",
        "    \n",
        "    # this is a trainable look-up table with word embeddings\n",
        "    self.embed = nn.Embedding(vocab_size, embedding_dim)\n",
        "    \n",
        "    # this is a trainable bias term\n",
        "    self.bias = nn.Parameter(torch.zeros(embedding_dim), requires_grad=True)    \n",
        "    \n",
        "    self.output_layer = nn.Sequential(\n",
        "      nn.Linear(embedding_dim, self.hidden_dim),\n",
        "      nn.Tanh(),\n",
        "      nn.Linear(self.hidden_dim, self.hidden_dim),\n",
        "      nn.Tanh(),\n",
        "      nn.Linear(self.hidden_dim, n_classes)\n",
        "    )\n",
        "\n",
        "  def forward(self, inputs):\n",
        "    # this is the forward pass of the neural network\n",
        "    # it applies a function to the input and returns the output\n",
        "\n",
        "    # this looks up the embeddings for each word ID in inputs\n",
        "    # the result is a sequence of word embeddings\n",
        "    embeds = self.embed(inputs)\n",
        "    \n",
        "    # the output is the sum across the time dimension (1)\n",
        "    # with the bias term added\n",
        "    x = embeds.sum(1) + self.bias\n",
        "\n",
        "    logits = self.output_layer(x)\n",
        "\n",
        "    return logits"
      ],
      "execution_count": null,
      "outputs": []
    },
    {
      "cell_type": "code",
      "metadata": {
        "id": "KR-HNXzRqV3O"
      },
      "source": [
        "# Let's create a model.\n",
        "vocab_size = len(v.w2i)\n",
        "n_classes = len(t2i)\n",
        "dbow_model = DeepCBOW(vocab_size, n_classes, v, embedding_dim = 300)\n",
        "print(dbow_model)"
      ],
      "execution_count": null,
      "outputs": []
    },
    {
      "cell_type": "code",
      "metadata": {
        "id": "6vWm25oCqV3O"
      },
      "source": [
        "# dbow_model = DeepCBOW(len(v.w2i), len(t2i), vocab=v, embedding_dim = 300)\n",
        "# print(dbow_model)\n",
        "\n",
        "# dbow_model = dbow_model.to(device)\n",
        "# print(device)\n",
        "\n",
        "# optimizer = optim.Adam(dbow_model.parameters(), lr=0.0005)\n",
        "# dbow_losses, dbow_accuracies = train_model(\n",
        "#     dbow_model, optimizer, num_iterations=30000, \n",
        "#     print_every=1000, eval_every=1000)"
      ],
      "execution_count": null,
      "outputs": []
    },
    {
      "cell_type": "code",
      "metadata": {
        "id": "YIwC2b3EqV3O"
      },
      "source": [
        "# import os\n",
        "# torch.save(dbow_model.state_dict(), os.path.join(\"models\", \"dbow_model.pth\"))"
      ],
      "execution_count": null,
      "outputs": []
    },
    {
      "cell_type": "code",
      "metadata": {
        "id": "Gh0xg7MyqV3O"
      },
      "source": [
        "# This will plot the validation accuracies across time.\n",
        "# plt.plot(dbow_accuracies)"
      ],
      "execution_count": null,
      "outputs": []
    },
    {
      "cell_type": "code",
      "metadata": {
        "id": "SQe9PxKQqV3O"
      },
      "source": [
        "# This will plot the training loss over time.\n",
        "# plt.plot(dbow_losses)"
      ],
      "execution_count": null,
      "outputs": []
    },
    {
      "cell_type": "markdown",
      "metadata": {
        "id": "MQZ5flHwiiHY"
      },
      "source": [
        "# Pre-trained word embeddings"
      ]
    },
    {
      "cell_type": "markdown",
      "metadata": {
        "id": "9NX35vecmHy6"
      },
      "source": [
        "The Stanford Sentiment Treebank is a rather small data set, since it required fine-grained manual annotatation. This makes it difficult for the Deep CBOW model to learn good word embeddings, i.e. to learn good word representations for the words in our vocabulary.\n",
        "In fact, the only error signal that the network receives is from predicting the sentiment of entire sentences!\n",
        "\n",
        "To start off with better word representations, we can download **pre-trained word embeddings**. \n",
        "You can choose which pre-trained word embeddings to use:\n",
        "\n",
        "- **GloVe**. The \"original\" Stanford Sentiment classification [paper](http://aclweb.org/anthology/P/P15/P15-1150.pdf) used Glove embeddings, which are just another method (like *word2vec*) to get word embeddings from unannotated text. Glove is described in the following paper which you should cite if you use them:\n",
        "> Jeffrey Pennington, Richard Socher, and Christopher Manning. [\"Glove: Global vectors for word representation.\"](https://nlp.stanford.edu/pubs/glove.pdf) EMNLP 2014. \n",
        "\n",
        "- **Word2Vec**. This is the method that you learned about in class, described in:\n",
        "> Mikolov, Tomas, et al. [\"Distributed representations of words and phrases and their compositionality.\"](https://papers.nips.cc/paper/5021-distributed-representations-of-words-and-phrases-and-their-compositionality.pdf) Advances in neural information processing systems. 2013.\n",
        "\n",
        "Using these pre-trained word embeddings, we can initialize our word embedding lookup table and start form a point where similar words are already close to one another in the distributional semantic space. \n",
        "\n",
        "You can choose to keep the word embeddings **fixed** or to train them further, specialising them to the task at hand.\n",
        "We will keep them fixed for now.\n",
        "\n",
        "For the purposes of this lab, it is enough if you understand how word2vec works (whichever vectors you use), but if you are interested, we encourage you to also check out the GloVe paper.\n",
        "\n",
        "You can either download the word2vec vectors, or the Glove vectors.\n",
        "If you want to compare your results to the Stanford paper later on, then you should use Glove. \n",
        "**At the end of this lab you have the option to compare which vectors give you the best performance. For now, simply choose one of them and continue with that.**\n",
        "\n",
        "[**OPTIONAL in case you don't want to mount Google Drive:** instead of running all the 5 boxes below, you can 1) download the GloVe and word2vec in your local machine, 2) upload them on your Drive folder (\"My Drive\"). Then, uncomment the first 2 lines in box 6 before writing your code!]\n"
      ]
    },
    {
      "cell_type": "code",
      "metadata": {
        "id": "lGYr02WWO993"
      },
      "source": [
        "# This downloads the Glove 840B 300d embeddings.\n",
        "# The original file is at http://nlp.stanford.edu/data/glove.840B.300d.zip\n",
        "# Since that file is 2GB, we provide you with a *filtered version*\n",
        "# which contains all the words you need for this data set.\n",
        "\n",
        "# You only need to do this once.\n",
        "# Please comment this cell out after downloading.\n",
        "\n",
        "!wget https://gist.githubusercontent.com/bastings/b094de2813da58056a05e8e7950d4ad1/raw/3fbd3976199c2b88de2ae62afc0ecc6f15e6f7ce/glove.840B.300d.sst.txt"
      ],
      "execution_count": null,
      "outputs": []
    },
    {
      "cell_type": "code",
      "metadata": {
        "id": "6NLsgFGiTjmI",
        "scrolled": true
      },
      "source": [
        "# This downloads the word2vec 300D Google News vectors \n",
        "# The file has been truncated to only contain words that appear in our data set.\n",
        "# You can find the original file here: https://code.google.com/archive/p/word2vec/\n",
        "\n",
        "# You only need to do this once.\n",
        "# Please comment this out after downloading.\n",
        "!wget https://gist.githubusercontent.com/bastings/4d1c346c68969b95f2c34cfbc00ba0a0/raw/76b4fefc9ef635a79d0d8002522543bc53ca2683/googlenews.word2vec.300d.txt"
      ],
      "execution_count": null,
      "outputs": []
    },
    {
      "cell_type": "code",
      "metadata": {
        "cellView": "both",
        "id": "GXBITzPRQUQb",
        "scrolled": true
      },
      "source": [
        "# Mount Google Drive (to save the downloaded files)\n",
        "# from google.colab import drive\n",
        "# drive.mount('/gdrive')"
      ],
      "execution_count": null,
      "outputs": []
    },
    {
      "cell_type": "code",
      "metadata": {
        "id": "uFvzPuiKSCbl"
      },
      "source": [
        "# Copy word vectors *to* Google Drive\n",
        "\n",
        "# You only need to do this once.\n",
        "# Please comment this out after running it. \n",
        "# !cp \"glove.840B.300d.sst.txt\" \"/gdrive/My Drive/\"\n",
        "# !cp \"googlenews.word2vec.300d.txt\" \"/gdrive/My Drive/\""
      ],
      "execution_count": null,
      "outputs": []
    },
    {
      "cell_type": "code",
      "metadata": {
        "id": "kUMH0bM6BuY9"
      },
      "source": [
        "# If you copied the word vectors to your Drive before,\n",
        "# here is where you copy them back to the Colab notebook.\n",
        "\n",
        "# Copy Glove vectors *from* Google Drive\n",
        "# !cp \"/gdrive/My Drive/glove.840B.300d.sst.txt\" .\n",
        "# !cp \"/gdrive/My Drive/googlenews.word2vec.300d.txt\" ."
      ],
      "execution_count": null,
      "outputs": []
    },
    {
      "cell_type": "code",
      "metadata": {
        "id": "xcpkoh6PIjfe"
      },
      "source": [
        "# Uncomment these 2 lines below if went for the OPTIONAL method described above\n",
        "# !cp \"glove.840B.300d.sst.txt\" \"./\"\n",
        "# !cp \"googlenews.word2vec.300d.txt\" \"./\""
      ],
      "execution_count": null,
      "outputs": []
    },
    {
      "cell_type": "markdown",
      "metadata": {
        "id": "MX2GJVHILM8n"
      },
      "source": [
        "At this point you have the pre-trained word embedding files, but what do they look like?"
      ]
    },
    {
      "cell_type": "code",
      "metadata": {
        "id": "ChsChH14Ruxn"
      },
      "source": [
        "# Exercise: Print the first 4 lines of the files that you downloaded.\n",
        "# What do you see?\n",
        "with open('./glove.840B.300d.sst.txt', 'r') as f:\n",
        "  glove_lines = f.readlines()\n",
        "\n",
        "for i in range(4):\n",
        "    print(glove_lines[i])"
      ],
      "execution_count": null,
      "outputs": []
    },
    {
      "cell_type": "markdown",
      "metadata": {
        "id": "WIVCkUkE_IjR"
      },
      "source": [
        "#### Exercise: New Vocabulary\n",
        "\n",
        "Since we now use pre-trained word embeddings, we need to create a new vocabulary. \n",
        "This is because of two reasons:\n",
        "\n",
        "1. We do not have pre-trained word embeddings for all words in our SST training set, and we do not want words in our vocabulary for which we have no word embeddings.\n",
        "2. We should be able to look up the pre-trained word embedding for words in the validation and test set, even if these words are unseen in training. \n",
        "\n",
        "Now, create a new vocabulary object `v` based on the word set of pre-trained embeddings, and load the corresponding embeddings into a list `vectors`.\n",
        "\n",
        "The vocabulary `v` should consist of:\n",
        " - a  `<unk>` token at position 0,\n",
        " - a  `<pad>` token at position 1, \n",
        " - and then all words in the pre-trained embedding set.\n",
        " \n",
        "\n",
        "After storing each vector in a list `vectors`, turn the list into a numpy matrix like this:\n",
        "```python\n",
        " vectors = np.stack(vectors, axis=0)\n",
        "```\n",
        "\n",
        "Remember to add new embeddings for the `<unk>` and `<pad>` tokens, as they're not part of the word2vec/GloVe embeddings. These embeddings can be randomly initialized or 0-valued, think about what makes sense and see what the effects are.\n",
        " "
      ]
    },
    {
      "cell_type": "code",
      "metadata": {
        "id": "NVO6kVnYqV3Q"
      },
      "source": [
        "v_train = v"
      ],
      "execution_count": null,
      "outputs": []
    },
    {
      "cell_type": "code",
      "metadata": {
        "id": "ITyyCvDnCL4U",
        "colab": {
          "base_uri": "https://localhost:8080/"
        },
        "outputId": "264d088d-0db6-4270-d306-285af6c18627"
      },
      "source": [
        "# YOUR CODE HERE\n",
        "# Create new vocabulary that has all tokens in out list of embeddings + <unk> + <pad>\n",
        "def getVectors(emb_path, vocab):\n",
        "  v_unk = np.zeros(300,)\n",
        "  v_pad = np.zeros(300,)\n",
        "  vectors = [v_unk, v_pad]\n",
        "  with open(emb_path, 'r') as f:\n",
        "    lines = f.readlines()\n",
        "  \n",
        "  for l in lines:\n",
        "    w_emb = l.split()\n",
        "    word = w_emb[0]\n",
        "    emb = w_emb[1:]\n",
        "    vectors.append(emb)\n",
        "    vocab.count_token(word)\n",
        "\n",
        "  vectors = np.stack(vectors, axis=0).astype(np.float)\n",
        "  vocab.build()\n",
        "  return vectors\n",
        "\n",
        "v = Vocabulary()\n",
        "vectors = getVectors('./glove.840B.300d.sst.txt', v)\n",
        "print(\"vocabulary size is \", len(v.w2i))\n",
        "print(\"vector.shape is \", vectors.shape)"
      ],
      "execution_count": null,
      "outputs": [
        {
          "output_type": "stream",
          "text": [
            "vocabulary size is  20727\n",
            "vector.shape is  (20727, 300)\n"
          ],
          "name": "stdout"
        }
      ]
    },
    {
      "cell_type": "markdown",
      "metadata": {
        "id": "xC-7mRyYNG9b"
      },
      "source": [
        "#### Exercise: words not in our pre-trained set\n",
        "\n",
        "How many words in the training, dev, and test set are also in your vector set?\n",
        "How many words are not there?\n",
        "\n",
        "Store the words that are not in the word vector set in the set below."
      ]
    },
    {
      "cell_type": "code",
      "metadata": {
        "id": "asC0grwMqV3R"
      },
      "source": [
        "v_dev = Vocabulary()\n",
        "for data_set in (dev_data,):\n",
        "  for ex in data_set:\n",
        "    for token in ex.tokens:\n",
        "      v_dev.count_token(token)\n",
        "\n",
        "v_dev.build()\n",
        "\n",
        "\n",
        "v_test = Vocabulary()\n",
        "for data_set in (test_data,):\n",
        "  for ex in data_set:\n",
        "    for token in ex.tokens:\n",
        "      v_test.count_token(token)\n",
        "\n",
        "v_test.build()"
      ],
      "execution_count": null,
      "outputs": []
    },
    {
      "cell_type": "code",
      "metadata": {
        "colab": {
          "base_uri": "https://localhost:8080/"
        },
        "id": "xRZNR4txqV3R",
        "outputId": "2bf2f843-b8cd-462e-e502-b07d8aa8feb6"
      },
      "source": [
        "print(\"Length of train vocabulary: \", len(v_train.i2w))\n",
        "print(\"Length of pre-trained vocabulary: \", len(v.i2w))\n",
        "print(\"Length of dev vocabulary: \", len(v_dev.i2w))\n",
        "print(\"Length of test vocabulary: \", len(v_test.i2w))"
      ],
      "execution_count": null,
      "outputs": [
        {
          "output_type": "stream",
          "text": [
            "Length of train vocabulary:  18280\n",
            "Length of pre-trained vocabulary:  20727\n",
            "Length of dev vocabulary:  5376\n",
            "Length of test vocabulary:  8549\n"
          ],
          "name": "stdout"
        }
      ]
    },
    {
      "cell_type": "code",
      "metadata": {
        "id": "K6MA3-wF_X5M",
        "colab": {
          "base_uri": "https://localhost:8080/"
        },
        "outputId": "2c673ac3-09e5-4295-fd55-adc736492166"
      },
      "source": [
        "words_not_found = set()\n",
        "\n",
        "print(\"Common words between training vocabulary and pre_trained vocabulary: \", len(set(v_train.freqs.keys()).intersection(v.freqs.keys())))\n",
        "print(\"Words that are not in the word vector set: \", len(list(set(v_train.freqs.keys()) - set(v.freqs.keys()))))\n",
        "\n",
        "print(\"Common words between dev vocabulary and pre_trained vocabulary: \", len(set(v_dev.freqs.keys()).intersection(v.freqs.keys())))\n",
        "print(\"Words that are not in the word vector set: \", len(list(set(v_dev.freqs.keys()) - set(v.freqs.keys()))))\n",
        "\n",
        "print(\"Common words between test vocabulary and pre_trained vocabulary: \", len(set(v_test.freqs.keys()).intersection(v.freqs.keys())))\n",
        "print(\"Words that are not in the word vector set: \", len(list(set(v_test.freqs.keys()) - set(v.freqs.keys()))))\n",
        "\n",
        "words_not_found = set(v_train.freqs.keys()) - set(v.freqs.keys())\n",
        "words_not_found |= set(v_dev.freqs.keys()) - set(v.freqs.keys())\n",
        "words_not_found |= set(v_test.freqs.keys()) - set(v.freqs.keys())\n",
        "print(\"Words not found: \", len(words_not_found))"
      ],
      "execution_count": null,
      "outputs": [
        {
          "output_type": "stream",
          "text": [
            "Common words between training vocabulary and pre_trained vocabulary:  17579\n",
            "Words that are not in the word vector set:  699\n",
            "Common words between dev vocabulary and pre_trained vocabulary:  5269\n",
            "Words that are not in the word vector set:  105\n",
            "Common words between test vocabulary and pre_trained vocabulary:  8357\n",
            "Words that are not in the word vector set:  190\n",
            "Words not found:  976\n"
          ],
          "name": "stdout"
        }
      ]
    },
    {
      "cell_type": "markdown",
      "metadata": {
        "id": "BfEd38W0NnAI"
      },
      "source": [
        "#### Exercise: train Deep CBOW with (fixed) pre-trained embeddings\n",
        "\n",
        "Now train Deep CBOW again using the pre-trained word vectors.\n"
      ]
    },
    {
      "cell_type": "code",
      "metadata": {
        "id": "z_6ooqgEsB20"
      },
      "source": [
        "# We define a new class that inherits from DeepCBOW.\n",
        "class PTDeepCBOW(DeepCBOW):\n",
        "  def __init__(self, vocab_size, n_classes, vocab, embedding_dim):\n",
        "    super(PTDeepCBOW, self).__init__(\n",
        "        vocab_size, n_classes, vocab, embedding_dim)"
      ],
      "execution_count": null,
      "outputs": []
    },
    {
      "cell_type": "code",
      "metadata": {
        "id": "JfIh4Ni6yuAh"
      },
      "source": [
        "# # Create a Deep CBOW model with pre-trained embeddings\n",
        "# # YOUR CODE HERE\n",
        "# pt_deep_cbow_model = PTDeepCBOW(len(v.w2i), len(t2i), vocab=v, embedding_dim = 300)\n",
        "# print(pt_deep_cbow_model)\n",
        "\n",
        "# # copy pre-trained word vectors into embeddings table\n",
        "# pt_deep_cbow_model.embed.weight.data.copy_(torch.from_numpy(vectors))\n",
        "\n",
        "# # disable training the pre-trained embeddings\n",
        "# pt_deep_cbow_model.embed.weight.requires_grad = False\n",
        "\n",
        "# # move model to specified device\n",
        "# pt_deep_cbow_model = pt_deep_cbow_model.to(device)\n",
        "\n",
        "# # train the model\n",
        "# # YOUR CODE HERE\n",
        "\n",
        "# pt_deep_cbow_model = pt_deep_cbow_model.to(device)\n",
        "# print(device)\n",
        "\n",
        "# optimizer = optim.Adam(pt_deep_cbow_model.parameters(), lr=0.0005)\n",
        "# pt_deep_cbow_losses, pt_deep_cbow_accuracies = train_model(\n",
        "#     pt_deep_cbow_model, optimizer, num_iterations=30000, \n",
        "#     print_every=1000, eval_every=1000)"
      ],
      "execution_count": null,
      "outputs": []
    },
    {
      "cell_type": "code",
      "metadata": {
        "id": "I1SVHG8XqV3S"
      },
      "source": [
        "# import os\n",
        "# torch.save(pt_deep_cbow_model.state_dict(), os.path.join(\"models\", \"pt_deep_cbow_model.pth\"))"
      ],
      "execution_count": null,
      "outputs": []
    },
    {
      "cell_type": "code",
      "metadata": {
        "id": "Ufujv3x31ufD"
      },
      "source": [
        "# This will plot the validation accuracies across time.\n",
        "# plt.plot(pt_deep_cbow_accuracies)"
      ],
      "execution_count": null,
      "outputs": []
    },
    {
      "cell_type": "code",
      "metadata": {
        "id": "YTJtKBzd7Qjr"
      },
      "source": [
        "# This will plot the training loss over time.\n",
        "# plt.plot(pt_deep_cbow_losses)"
      ],
      "execution_count": null,
      "outputs": []
    },
    {
      "cell_type": "markdown",
      "metadata": {
        "id": "yFu8xzCy9XDW"
      },
      "source": [
        "**It looks like we've hit what is possible with just using words.**\n",
        "Let's move on by incorporating word order!"
      ]
    },
    {
      "cell_type": "markdown",
      "metadata": {
        "id": "g41yW4PL9jG0"
      },
      "source": [
        "# LSTM"
      ]
    },
    {
      "cell_type": "markdown",
      "metadata": {
        "id": "ODzXEH0MaGpa"
      },
      "source": [
        "It is time to get more serious. Even with pre-trained word embeddings and multiple layers, we still seem to do pretty badly at sentiment classification. \n",
        "The next step we can take is to introduce word order again, dropping our independence assumptions. In this way, we can get a representation of the sentence as an ordered set of tokens.\n",
        "\n",
        "We will get this representation using a **Long Short-Term Memory** (LSTM). As an exercise, we will code our own LSTM cell, so that we get comfortable with its inner workings.\n",
        "Once we have an LSTM cell, we can call it repeatedly, updating its hidden state one word at a time:\n",
        "\n",
        "```python\n",
        "rnn = MyLSTMCell(input_size, hidden_size)\n",
        "\n",
        "hx = torch.zeros(1, hidden_size)  # initial hidden state\n",
        "cx = torch.zeros(1, hidden_size)  # initial memory cell\n",
        "output = []                       # to save intermediate LSTM states\n",
        "\n",
        "# feed one word at a time\n",
        "for i in range(n_timesteps):\n",
        "  hx, cx = rnn(input[i], (hx, cx))\n",
        "  output.append(hx)\n",
        "```\n",
        "\n",
        "If you need some more help understanding LSTMs, you can check out these resources:\n",
        "- Blog post (highly recommended): http://colah.github.io/posts/2015-08-Understanding-LSTMs/\n",
        "- Paper covering LSTM formulas in detail: https://arxiv.org/abs/1503.04069 \n"
      ]
    },
    {
      "cell_type": "markdown",
      "metadata": {
        "id": "v9f4b45BXKFC"
      },
      "source": [
        "#### Exercise: Finish the LSTM cell below. \n",
        "You will need to implement the LSTM formulas:\n",
        "\n",
        "$$\n",
        "\\begin{array}{ll}\n",
        "        i = \\sigma(W_{ii} x + b_{ii} + W_{hi} h + b_{hi}) \\\\\n",
        "        f = \\sigma(W_{if} x + b_{if} + W_{hf} h + b_{hf}) \\\\\n",
        "        g = \\tanh(W_{ig} x + b_{ig} + W_{hg} h + b_{hg}) \\\\\n",
        "        o = \\sigma(W_{io} x + b_{io} + W_{ho} h + b_{ho}) \\\\\n",
        "        c' = f * c + i * g \\\\\n",
        "        h' = o \\tanh(c') \\\\\n",
        "\\end{array}\n",
        " $$\n",
        "\n",
        "where $\\sigma$ is the sigmoid function.\n",
        "\n",
        "*Note that the LSTM formulas can differ slightly between different papers. We use the PyTorch LSTM formulation here.*"
      ]
    },
    {
      "cell_type": "code",
      "metadata": {
        "id": "zJ9m5kLMd7-v"
      },
      "source": [
        "class MyLSTMCell(nn.Module):\n",
        "  \"\"\"Use Efficient Matrix Multiplication\"\"\"\n",
        "\n",
        "  def __init__(self, input_size, hidden_size, bias=True):\n",
        "    \"\"\"Creates the weights for this LSTM\"\"\"\n",
        "    super(MyLSTMCell, self).__init__()\n",
        "\n",
        "    self.input_size = input_size\n",
        "    self.hidden_size = hidden_size\n",
        "    self.bias = bias\n",
        "    \n",
        "    # YOUR CODE HERE\n",
        "    self.W_i = nn.Linear(input_size, hidden_size * 4 , bias=bias) \n",
        "    self.W_h = nn.Linear(hidden_size, hidden_size * 4 , bias=bias)\n",
        "\n",
        "    self.tanh = nn.Tanh()\n",
        "    self.sigmoid = nn.Sigmoid()\n",
        "\n",
        "    self.reset_parameters()\n",
        "\n",
        "  def reset_parameters(self):\n",
        "    \"\"\"This is PyTorch's default initialization method\"\"\"\n",
        "    stdv = 1.0 / math.sqrt(self.hidden_size)\n",
        "    for weight in self.parameters():\n",
        "      weight.data.uniform_(-stdv, stdv)  \n",
        "\n",
        "  def forward(self, input_, hx, mask=None):\n",
        "    \"\"\"\n",
        "    input is (batch, input_size)\n",
        "    hx is ((batch, hidden_size), (batch, hidden_size))\n",
        "    \"\"\"\n",
        "    prev_h, prev_c = hx\n",
        "\n",
        "    # project input and prev state\n",
        "    # YOUR CODE HERE\n",
        "\n",
        "    # main LSTM computation    \n",
        "    temp_i, temp_f, temp_g, temp_o= torch.chunk((self.W_i(input_) + \\\n",
        "                                                 self.W_h(prev_h)), 4, dim = 1)\n",
        "    i = self.sigmoid(temp_i)\n",
        "    f = self.sigmoid(temp_f)\n",
        "    g = self.tanh(temp_g)\n",
        "    o = self.sigmoid(temp_o)\n",
        "    \n",
        "    c = f * prev_c + i * g\n",
        "    h = o * self.tanh(c)\n",
        "\n",
        "    return h, c\n",
        "  \n",
        "  def __repr__(self):\n",
        "    return \"{}({:d}, {:d})\".format(\n",
        "        self.__class__.__name__, self.input_size, self.hidden_size)"
      ],
      "execution_count": null,
      "outputs": []
    },
    {
      "cell_type": "markdown",
      "metadata": {
        "id": "4JM7xPhkQeE5"
      },
      "source": [
        "#### Optional: Efficient Matrix Multiplication\n",
        "\n",
        "It is more efficient to do a few big matrix multiplications than to do many smaller ones. So we will implement the above cell using just **two** linear layers.\n",
        "\n",
        "This is possible because the eight linear transformations contained in one forward pass through an LSTM cell can be reduced to just two:\n",
        "$$W_h h + b_h$$\n",
        "$$W_i x + b_i $$ \n",
        "\n",
        "with $h = $ `prev_h` and $x = $ `input_`.\n",
        "\n",
        "and where: \n",
        "\n",
        "$W_h =  \\begin{pmatrix}\n",
        "W_{hi}\\\\ \n",
        "W_{hf}\\\\ \n",
        "W_{hg}\\\\ \n",
        "W_{ho}\n",
        "\\end{pmatrix}$, $b_h = \\begin{pmatrix}\n",
        "b_{hi}\\\\ \n",
        "b_{hf}\\\\ \n",
        "b_{hg}\\\\ \n",
        "b_{ho}\n",
        "\\end{pmatrix}$,  $W_i = \\begin{pmatrix}\n",
        "W_{ii}\\\\ \n",
        "W_{if}\\\\ \n",
        "W_{ig}\\\\ \n",
        "W_{io}\n",
        "\\end{pmatrix}$ and $b_i = \\begin{pmatrix}\n",
        "b_{ii}\\\\ \n",
        "b_{if}\\\\ \n",
        "b_{ig}\\\\ \n",
        "b_{io}\n",
        "\\end{pmatrix}$.\n",
        "\n",
        "Convince yourself that, after chunking with [torch.chunk](https://pytorch.org/docs/stable/torch.html?highlight=chunk#torch.chunk), the output of those two linear transformations is equivalent to the output of the eight linear transformations in the LSTM cell calculations above."
      ]
    },
    {
      "cell_type": "markdown",
      "metadata": {
        "id": "X9gA-UcqSBe0"
      },
      "source": [
        "#### LSTM Classifier\n",
        "\n",
        "Having an LSTM cell is not enough: we still need some code that calls it repeatedly, and then makes a prediction from the final hidden state. \n",
        "You will find that code below. Make sure that you understand it."
      ]
    },
    {
      "cell_type": "code",
      "metadata": {
        "id": "3iuYZm5poEn5"
      },
      "source": [
        "class LSTMClassifier(nn.Module):\n",
        "  \"\"\"Encodes sentence with an LSTM and projects final hidden state\"\"\"\n",
        "\n",
        "  def __init__(self, vocab_size, embedding_dim, hidden_dim, output_dim, vocab):\n",
        "    super(LSTMClassifier, self).__init__()\n",
        "    self.vocab = vocab\n",
        "    self.hidden_dim = hidden_dim\n",
        "    self.embed = nn.Embedding(vocab_size, embedding_dim, padding_idx=1)\n",
        "    self.rnn = MyLSTMCell(embedding_dim, hidden_dim)\n",
        "    \n",
        "    self.output_layer = nn.Sequential(     \n",
        "        nn.Dropout(p=0.5),  # explained later\n",
        "        nn.Linear(hidden_dim, output_dim)\n",
        "    )\n",
        "\n",
        "  def forward(self, x):\n",
        "    \n",
        "    B = x.size(0)  # batch size (this is 1 for now, i.e. 1 single example)\n",
        "    T = x.size(1)  # timesteps (the number of words in the sentence)\n",
        "    \n",
        "    input_ = self.embed(x)\n",
        "\n",
        "    # here we create initial hidden states containing zeros\n",
        "    # we use a trick here so that, if input is on the GPU, then so are hx and cx\n",
        "    hx = input_.new_zeros(B, self.rnn.hidden_size)\n",
        "    cx = input_.new_zeros(B, self.rnn.hidden_size)\n",
        "    \n",
        "    # process input sentences one word/timestep at a time\n",
        "    # input is batch-major (i.e., batch size is the first dimension)\n",
        "    # so the first word(s) is (are) input_[:, 0]\n",
        "    outputs = []   \n",
        "    for i in range(T):\n",
        "      hx, cx = self.rnn(input_[:, i], (hx, cx))\n",
        "      outputs.append(hx)\n",
        "    \n",
        "    # if we have a single example, our final LSTM state is the last hx\n",
        "    if B == 1:\n",
        "      final = hx\n",
        "    else:\n",
        "      #\n",
        "      # This part is explained in next section, ignore this else-block for now.\n",
        "      #\n",
        "      # We processed sentences with different lengths, so some of the sentences\n",
        "      # had already finished and we have been adding padding inputs to hx.\n",
        "      # We select the final state based on the length of each sentence.\n",
        "      \n",
        "      # two lines below not needed if using LSTM from pytorch\n",
        "      outputs = torch.stack(outputs, dim=0)           # [T, B, D]\n",
        "      outputs = outputs.transpose(0, 1).contiguous()  # [B, T, D]\n",
        "      \n",
        "      # to be super-sure we're not accidentally indexing the wrong state\n",
        "      # we zero out positions that are invalid\n",
        "      pad_positions = (x == 1).unsqueeze(-1)\n",
        "      \n",
        "      outputs = outputs.contiguous()      \n",
        "      outputs = outputs.masked_fill_(pad_positions, 0.)\n",
        "        \n",
        "      mask = (x != 1)  # true for valid positions [B, T]\n",
        "      lengths = mask.sum(dim=1)                 # [B, 1]\n",
        "\n",
        "      indexes = (lengths - 1) + torch.arange(B, device=x.device, dtype=x.dtype) * T\n",
        "      final = outputs.view(-1, self.hidden_dim)[indexes]  # [B, D]\n",
        "    \n",
        "    # we use the last hidden state to classify the sentence\n",
        "    logits = self.output_layer(final)\n",
        "    return logits"
      ],
      "execution_count": null,
      "outputs": []
    },
    {
      "cell_type": "markdown",
      "metadata": {
        "id": "FxFoVpvMPB6g"
      },
      "source": [
        "#### Dropout\n",
        "\n",
        "Data sparsity and a small data set can cause *overfitting*. This is a phenomenom that is very likely to occur when training strong and expressive models, like LSTMs, on small data. In practice, if your model overfits, this means that it will be very good at predicting (or \"remembering\") the sentiment of the training set, but unable to generalise to new, unseen data in the test set. This is undesirable and one technique to mitigate this issue is *dropout*. \n",
        "\n",
        "A dropout layer is defined by the following formula, which can be applied, for example, to a linear layer:\n",
        "\n",
        "$$\\text{tanh}(W(\\mathbf{h}\\odot \\mathbf{d}) + \\mathbf{b})$$\n",
        "\n",
        "where $\\mathbf{d} \\in \\{0, 1\\}^n$, with $d_j \\sim \\text{Bernoulli}(p)$, \n",
        "\n",
        "These formula simply means that we *drop* certain parameters during training (by setting them to zero). Which parameters we drop is stochastically determined by a Bernoulli distribution and the probability of each parameter being dropped is set to $p = 0.5$ in our experiments (see the previous cell of code where we define our output layer). A dropout layer can be applied at many different places in our models. This technique helps against the undesirable effect that a model relies on single parameters for prediction (e.g. if $h^{\\prime}_j$ is large, always predict positive). If we use dropout, the model needs to learn to rely on different parameters, which is desirable to obtain better generalisation to unseen data."
      ]
    },
    {
      "cell_type": "markdown",
      "metadata": {
        "id": "XQjEjLt9z0XW"
      },
      "source": [
        "**Let's train our LSTM!** Note that is will be a lot slower than previous models because we need to do many more computations per sentence.\n",
        "\n",
        "#### Training"
      ]
    },
    {
      "cell_type": "code",
      "metadata": {
        "id": "LgZoSPD4fsf_"
      },
      "source": [
        "# lstm_model = LSTMClassifier(len(v.w2i), 300, 168, len(t2i), v)\n",
        "\n",
        "# # copy pre-trained word vectors into embeddings table\n",
        "# with torch.no_grad():\n",
        "#   lstm_model.embed.weight.data.copy_(torch.from_numpy(vectors))\n",
        "#   lstm_model.embed.weight.requires_grad = False\n",
        "\n",
        "# print(lstm_model)\n",
        "# print_parameters(lstm_model)\n",
        "\n",
        "# lstm_model = lstm_model.to(device)\n",
        "# optimizer = optim.Adam(lstm_model.parameters(), lr=3e-4)\n",
        "\n",
        "# lstm_losses, lstm_accuracies = train_model(\n",
        "#     lstm_model, optimizer, num_iterations=30000, \n",
        "#     print_every=250, eval_every=1000)"
      ],
      "execution_count": null,
      "outputs": []
    },
    {
      "cell_type": "code",
      "metadata": {
        "id": "2BKVnyg0Hq5E"
      },
      "source": [
        "# # plot validation accuracy\n",
        "# plt.title(\"LSTM validation accuracy\")\n",
        "# plt.plot(lstm_accuracies)"
      ],
      "execution_count": null,
      "outputs": []
    },
    {
      "cell_type": "code",
      "metadata": {
        "id": "ZowTV0EBTb3z"
      },
      "source": [
        "# # plot training loss\n",
        "# plt.title(\"lstm training loss\")\n",
        "# plt.plot(lstm_losses)"
      ],
      "execution_count": null,
      "outputs": []
    },
    {
      "cell_type": "markdown",
      "metadata": {
        "id": "YEw6XHQY_AAQ"
      },
      "source": [
        "# Mini-batching\n",
        "\n"
      ]
    },
    {
      "cell_type": "markdown",
      "metadata": {
        "id": "FPf96wGzBTQJ"
      },
      "source": [
        "**Why is the LSTM so slow?** Despite our best efforts, we still need to make a lot of matrix multiplications per example (linear in the length of the example) just to get a single classification, and we can only process the 2nd word once we have computed the hidden state for the 1st word (sequential computation).\n",
        "\n",
        "GPUs are more efficient if we do a few big matrix multiplications, rather than lots of small ones. If we could process multiple examples at the same time, then we could exploit that. That is, we could still process the input sequentially, but doing so for multiple sentences at the same time.\n",
        "\n",
        "Up to now our \"mini-batches\" consisted of a single example. This was for a reason: the sentences in our data sets have **different lengths**, and this makes it difficult to process them at the same time.\n",
        "\n",
        "Consider a batch of 2 sentences:\n",
        "\n",
        "```\n",
        "this movie is bad\n",
        "this movie is super cool !\n",
        "```\n",
        "\n",
        "Let's say the IDs for these sentences are:\n",
        "\n",
        "```\n",
        "2 3 4 5\n",
        "2 3 4 6 7 8\n",
        "```\n",
        "\n",
        "We cannot feed PyTorch an object with rows of variable length! We need to turn this into a matrix.\n",
        "\n",
        "The solution is to add **padding values** to our mini-batch:\n",
        "\n",
        "```\n",
        "2 3 4 5 1 1\n",
        "2 3 4 6 7 8\n",
        "```\n",
        "\n",
        "Whenever a sentence is shorter than the longest sentence in a mini-batch, we just use a padding value (here: 1) to fill the matrix.\n",
        "\n",
        "In our computation, we should **ignore** the padding positions (e.g. mask them out) so that paddings do not contribute to the loss.\n",
        "\n",
        "#### Mini-batch feed\n",
        "We will now implement a `get_minibatch` function which will replace `get_example` and returns a mini-batch of the requested size."
      ]
    },
    {
      "cell_type": "code",
      "metadata": {
        "id": "IoAE2JBiXJ3P"
      },
      "source": [
        "def get_minibatch(data, batch_size=25, shuffle=True):\n",
        "  \"\"\"Return minibatches, optional shuffling\"\"\"\n",
        "  \n",
        "  if shuffle:\n",
        "    print(\"Shuffling training\")\n",
        "    random.shuffle(data)  # shuffle training data each epoch\n",
        "  \n",
        "  batch = []\n",
        "  \n",
        "  # yield minibatches\n",
        "  for example in data:\n",
        "    batch.append(example)\n",
        "    \n",
        "    if len(batch) == batch_size:\n",
        "      yield batch\n",
        "      batch = []\n",
        "      \n",
        "  # in case there is something left\n",
        "  if len(batch) > 0:\n",
        "    yield batch"
      ],
      "execution_count": null,
      "outputs": []
    },
    {
      "cell_type": "markdown",
      "metadata": {
        "id": "DwZM-XYkT8Zx"
      },
      "source": [
        "#### Padding function\n",
        "We will need a function that adds padding 1s to a sequence of IDs so that\n",
        "it becomes as long as the longest sequence in the minibatch."
      ]
    },
    {
      "cell_type": "code",
      "metadata": {
        "id": "sp0sK1ghw4Ft",
        "colab": {
          "base_uri": "https://localhost:8080/"
        },
        "outputId": "cbf3ae1d-772a-485f-f0a7-a20ad7aa8063"
      },
      "source": [
        "def pad(tokens, length, pad_value=1):\n",
        "  \"\"\"add padding 1s to a sequence to that it has the desired length\"\"\"\n",
        "  return tokens + [pad_value] * (length - len(tokens))\n",
        "\n",
        "# example\n",
        "tokens = [2, 3, 4]\n",
        "pad(tokens, 5)"
      ],
      "execution_count": null,
      "outputs": [
        {
          "output_type": "execute_result",
          "data": {
            "text/plain": [
              "[2, 3, 4, 1, 1]"
            ]
          },
          "metadata": {
            "tags": []
          },
          "execution_count": 74
        }
      ]
    },
    {
      "cell_type": "markdown",
      "metadata": {
        "id": "SL2iixMYUgfh"
      },
      "source": [
        "#### New `prepare` function\n",
        "\n",
        "We will also need a new function that turns a mini-batch into PyTorch tensors."
      ]
    },
    {
      "cell_type": "code",
      "metadata": {
        "id": "ZID0cqozWks8"
      },
      "source": [
        "def prepare_minibatch(mb, vocab):\n",
        "  \"\"\"\n",
        "  Minibatch is a list of examples.\n",
        "  This function converts words to IDs and returns\n",
        "  torch tensors to be used as input/targets.\n",
        "  \"\"\"\n",
        "  batch_size = len(mb)\n",
        "  maxlen = max([len(ex.tokens) for ex in mb])\n",
        "  \n",
        "  # vocab returns 0 if the word is not there\n",
        "  x = [pad([vocab.w2i.get(t, 0) for t in ex.tokens], maxlen) for ex in mb]\n",
        "  \n",
        "  x = torch.LongTensor(x)\n",
        "  x = x.to(device)\n",
        "  \n",
        "  y = [ex.label for ex in mb]\n",
        "  y = torch.LongTensor(y)\n",
        "  y = y.to(device)\n",
        "  \n",
        "  return x, y"
      ],
      "execution_count": null,
      "outputs": []
    },
    {
      "cell_type": "code",
      "metadata": {
        "id": "OwDAtCv1x2hB",
        "colab": {
          "base_uri": "https://localhost:8080/"
        },
        "outputId": "af1933d2-7c3a-4eb2-d742-9d51b5bbd894"
      },
      "source": [
        "# Let's test our new function.\n",
        "# This should give us 3 examples.\n",
        "mb = next(get_minibatch(train_data, batch_size=3, shuffle=False))\n",
        "for ex in mb:\n",
        "  print(ex)"
      ],
      "execution_count": null,
      "outputs": [
        {
          "output_type": "stream",
          "text": [
            "Example(tokens=['The', 'Rock', 'is', 'destined', 'to', 'be', 'the', '21st', 'Century', \"'s\", 'new', '``', 'Conan', \"''\", 'and', 'that', 'he', \"'s\", 'going', 'to', 'make', 'a', 'splash', 'even', 'greater', 'than', 'Arnold', 'Schwarzenegger', ',', 'Jean-Claud', 'Van', 'Damme', 'or', 'Steven', 'Segal', '.'], tree=Tree('3', [Tree('2', [Tree('2', ['The']), Tree('2', ['Rock'])]), Tree('4', [Tree('3', [Tree('2', ['is']), Tree('4', [Tree('2', ['destined']), Tree('2', [Tree('2', [Tree('2', [Tree('2', [Tree('2', ['to']), Tree('2', [Tree('2', ['be']), Tree('2', [Tree('2', ['the']), Tree('2', [Tree('2', ['21st']), Tree('2', [Tree('2', [Tree('2', ['Century']), Tree('2', [\"'s\"])]), Tree('2', [Tree('3', ['new']), Tree('2', [Tree('2', ['``']), Tree('2', ['Conan'])])])])])])])]), Tree('2', [\"''\"])]), Tree('2', ['and'])]), Tree('3', [Tree('2', ['that']), Tree('3', [Tree('2', ['he']), Tree('3', [Tree('2', [\"'s\"]), Tree('3', [Tree('2', ['going']), Tree('3', [Tree('2', ['to']), Tree('4', [Tree('3', [Tree('2', ['make']), Tree('3', [Tree('3', [Tree('2', ['a']), Tree('3', ['splash'])]), Tree('2', [Tree('2', ['even']), Tree('3', ['greater'])])])]), Tree('2', [Tree('2', ['than']), Tree('2', [Tree('2', [Tree('2', [Tree('2', [Tree('1', [Tree('2', ['Arnold']), Tree('2', ['Schwarzenegger'])]), Tree('2', [','])]), Tree('2', [Tree('2', ['Jean-Claud']), Tree('2', [Tree('2', ['Van']), Tree('2', ['Damme'])])])]), Tree('2', ['or'])]), Tree('2', [Tree('2', ['Steven']), Tree('2', ['Segal'])])])])])])])])])])])])]), Tree('2', ['.'])])]), label=3, transitions=[0, 0, 1, 0, 0, 0, 0, 0, 0, 0, 0, 1, 0, 0, 0, 1, 1, 1, 1, 1, 1, 1, 0, 1, 0, 1, 0, 0, 0, 0, 0, 0, 0, 0, 1, 0, 0, 1, 1, 1, 0, 0, 0, 1, 0, 1, 0, 0, 0, 1, 1, 1, 0, 1, 0, 0, 1, 1, 1, 1, 1, 1, 1, 1, 1, 1, 1, 1, 0, 1, 1])\n",
            "Example(tokens=['The', 'gorgeously', 'elaborate', 'continuation', 'of', '``', 'The', 'Lord', 'of', 'the', 'Rings', \"''\", 'trilogy', 'is', 'so', 'huge', 'that', 'a', 'column', 'of', 'words', 'can', 'not', 'adequately', 'describe', 'co-writer/director', 'Peter', 'Jackson', \"'s\", 'expanded', 'vision', 'of', 'J.R.R.', 'Tolkien', \"'s\", 'Middle-earth', '.'], tree=Tree('4', [Tree('4', [Tree('4', [Tree('2', ['The']), Tree('4', [Tree('3', ['gorgeously']), Tree('3', [Tree('2', ['elaborate']), Tree('2', ['continuation'])])])]), Tree('2', [Tree('2', [Tree('2', ['of']), Tree('2', ['``'])]), Tree('2', [Tree('2', ['The']), Tree('2', [Tree('2', [Tree('2', ['Lord']), Tree('2', [Tree('2', ['of']), Tree('2', [Tree('2', ['the']), Tree('2', ['Rings'])])])]), Tree('2', [Tree('2', [\"''\"]), Tree('2', ['trilogy'])])])])])]), Tree('2', [Tree('3', [Tree('2', [Tree('2', ['is']), Tree('2', [Tree('2', ['so']), Tree('2', ['huge'])])]), Tree('2', [Tree('2', ['that']), Tree('3', [Tree('2', [Tree('2', [Tree('2', ['a']), Tree('2', ['column'])]), Tree('2', [Tree('2', ['of']), Tree('2', ['words'])])]), Tree('2', [Tree('2', [Tree('2', [Tree('2', ['can']), Tree('1', ['not'])]), Tree('3', ['adequately'])]), Tree('2', [Tree('2', ['describe']), Tree('2', [Tree('3', [Tree('2', [Tree('2', ['co-writer/director']), Tree('2', [Tree('2', ['Peter']), Tree('3', [Tree('2', ['Jackson']), Tree('2', [\"'s\"])])])]), Tree('3', [Tree('2', ['expanded']), Tree('2', ['vision'])])]), Tree('2', [Tree('2', ['of']), Tree('2', [Tree('2', [Tree('2', ['J.R.R.']), Tree('2', [Tree('2', ['Tolkien']), Tree('2', [\"'s\"])])]), Tree('2', ['Middle-earth'])])])])])])])])]), Tree('2', ['.'])])]), label=4, transitions=[0, 0, 0, 0, 1, 1, 1, 0, 0, 1, 0, 0, 0, 0, 0, 1, 1, 1, 0, 0, 1, 1, 1, 1, 1, 0, 0, 0, 1, 1, 0, 0, 0, 1, 0, 0, 1, 1, 0, 0, 1, 0, 1, 0, 0, 0, 0, 0, 1, 1, 1, 0, 0, 1, 1, 0, 0, 0, 0, 1, 1, 0, 1, 1, 1, 1, 1, 1, 1, 1, 0, 1, 1])\n",
            "Example(tokens=['Singer/composer', 'Bryan', 'Adams', 'contributes', 'a', 'slew', 'of', 'songs', '--', 'a', 'few', 'potential', 'hits', ',', 'a', 'few', 'more', 'simply', 'intrusive', 'to', 'the', 'story', '--', 'but', 'the', 'whole', 'package', 'certainly', 'captures', 'the', 'intended', ',', 'er', ',', 'spirit', 'of', 'the', 'piece', '.'], tree=Tree('3', [Tree('3', [Tree('2', [Tree('2', [Tree('2', [Tree('2', [Tree('2', ['Singer/composer']), Tree('2', [Tree('2', ['Bryan']), Tree('2', ['Adams'])])]), Tree('2', [Tree('2', ['contributes']), Tree('2', [Tree('2', [Tree('2', ['a']), Tree('2', ['slew'])]), Tree('2', [Tree('2', ['of']), Tree('2', ['songs'])])])])]), Tree('2', [Tree('2', ['--']), Tree('2', [Tree('2', [Tree('2', [Tree('2', ['a']), Tree('2', [Tree('2', ['few']), Tree('3', ['potential'])])]), Tree('2', [Tree('2', [Tree('2', ['hits']), Tree('2', [','])]), Tree('2', [Tree('2', [Tree('2', ['a']), Tree('2', ['few'])]), Tree('1', [Tree('1', [Tree('2', ['more']), Tree('1', [Tree('2', ['simply']), Tree('2', ['intrusive'])])]), Tree('2', [Tree('2', ['to']), Tree('2', [Tree('2', ['the']), Tree('2', ['story'])])])])])])]), Tree('2', ['--'])])])]), Tree('2', ['but'])]), Tree('3', [Tree('4', [Tree('2', ['the']), Tree('3', [Tree('2', ['whole']), Tree('2', ['package'])])]), Tree('2', [Tree('3', ['certainly']), Tree('3', [Tree('2', ['captures']), Tree('2', [Tree('1', [Tree('2', ['the']), Tree('2', [Tree('2', [Tree('2', ['intended']), Tree('2', [Tree('2', [',']), Tree('2', [Tree('2', ['er']), Tree('2', [','])])])]), Tree('3', ['spirit'])])]), Tree('2', [Tree('2', ['of']), Tree('2', [Tree('2', ['the']), Tree('2', ['piece'])])])])])])])]), Tree('2', ['.'])]), label=3, transitions=[0, 0, 0, 1, 1, 0, 0, 0, 1, 0, 0, 1, 1, 1, 1, 0, 0, 0, 0, 1, 1, 0, 0, 1, 0, 0, 1, 0, 0, 0, 1, 1, 0, 0, 0, 1, 1, 1, 1, 1, 1, 0, 1, 1, 1, 0, 1, 0, 0, 0, 1, 1, 0, 0, 0, 0, 0, 0, 0, 1, 1, 1, 0, 1, 1, 0, 0, 0, 1, 1, 1, 1, 1, 1, 1, 0, 1])\n"
          ],
          "name": "stdout"
        }
      ]
    },
    {
      "cell_type": "code",
      "metadata": {
        "id": "dg8zEK8zyUCH",
        "colab": {
          "base_uri": "https://localhost:8080/"
        },
        "outputId": "f936f1fc-7304-4044-8430-b5dfd161f7f9"
      },
      "source": [
        "# We should find padding 1s at the end\n",
        "x, y = prepare_minibatch(mb, v)\n",
        "print(\"x\", x)\n",
        "print(\"y\", y)"
      ],
      "execution_count": null,
      "outputs": [
        {
          "output_type": "stream",
          "text": [
            "x tensor([[   23,  1414,    11,  8222,     6,    27,     4,  2826,  3764,    21,\n",
            "            92,  5233,  8558, 15010,     5,    16,    53,    21,   183,     6,\n",
            "           107,     8,  7409,   148,  1552,    97,  6000, 10464,     2,     0,\n",
            "          2740, 15451,    33,  4008, 12925,     3,     1,     1,     1],\n",
            "        [   23, 15300,  6665,  8307,     7,  5233,    23,  1383,     7,     4,\n",
            "          4884, 15010,  8681,    11,    59,   933,    16,     8,  3045,     7,\n",
            "           566,    42,    36,  7800,  2886, 20302,  1433,  1977,    21,  4360,\n",
            "          2274,     7, 15256, 10099,    21, 15561,     3,     1,     1],\n",
            "        [    0,  5314,  3878,  7735,     8,  9726,     7,  1261,   158,     8,\n",
            "           219,  1060,  2187,     2,     8,   219,    50,   688, 11605,     6,\n",
            "             4,   414,   158,    43,     4,   494,  1568,  1214,  6985,     4,\n",
            "          2243,     2,  5986,     2,  2320,     7,     4,   982,     3]],\n",
            "       device='cuda:0')\n",
            "y tensor([3, 4, 3], device='cuda:0')\n"
          ],
          "name": "stdout"
        }
      ]
    },
    {
      "cell_type": "markdown",
      "metadata": {
        "id": "xYBJEoSNUwI0"
      },
      "source": [
        "#### Evaluate (mini-batch version)\n",
        "\n",
        "We can now update our evaluation function to use mini-batches"
      ]
    },
    {
      "cell_type": "code",
      "metadata": {
        "id": "eiZZpEghzqou"
      },
      "source": [
        "def evaluate(model, data, \n",
        "             batch_fn=get_minibatch, prep_fn=prepare_minibatch,\n",
        "             batch_size=16):\n",
        "  \"\"\"Accuracy of a model on given data set (using mini-batches)\"\"\"\n",
        "  correct = 0\n",
        "  total = 0\n",
        "  model.eval()  # disable dropout\n",
        "\n",
        "  for mb in batch_fn(data, batch_size=batch_size, shuffle=False):\n",
        "    x, targets = prep_fn(mb, model.vocab)\n",
        "    with torch.no_grad():\n",
        "      logits = model(x)\n",
        "      \n",
        "    predictions = logits.argmax(dim=-1).view(-1)\n",
        "    \n",
        "    # add the number of correct predictions to the total correct\n",
        "    correct += (predictions == targets.view(-1)).sum().item()\n",
        "    total += targets.size(0)\n",
        "\n",
        "  return correct, total, correct / float(total)"
      ],
      "execution_count": null,
      "outputs": []
    },
    {
      "cell_type": "markdown",
      "metadata": {
        "id": "23wAZomozh_2"
      },
      "source": [
        "# LSTM (Mini-batched)"
      ]
    },
    {
      "cell_type": "markdown",
      "metadata": {
        "id": "B-gkPU7jzBe2"
      },
      "source": [
        "With this, let's run the LSTM again but now using mini-batches!"
      ]
    },
    {
      "cell_type": "code",
      "metadata": {
        "id": "226Xg9OPzFbA"
      },
      "source": [
        "# lstm_model = LSTMClassifier(\n",
        "#     len(v.w2i), 300, 168, len(t2i), v)\n",
        "\n",
        "# # copy pre-trained vectors into embeddings table\n",
        "# with torch.no_grad():\n",
        "#   lstm_model.embed.weight.data.copy_(torch.from_numpy(vectors))\n",
        "#   lstm_model.embed.weight.requires_grad = False\n",
        "\n",
        "# print(lstm_model)\n",
        "# print_parameters(lstm_model)  \n",
        "  \n",
        "# lstm_model = lstm_model.to(device)\n",
        "\n",
        "# batch_size = 25\n",
        "# optimizer = optim.Adam(lstm_model.parameters(), lr=2e-4)\n",
        "\n",
        "# lstm_losses_minibatch, lstm_accuracies_minibatch = train_model(\n",
        "#     lstm_model, optimizer, num_iterations=30000, \n",
        "#     print_every=250, eval_every=250,\n",
        "#     batch_size=batch_size,\n",
        "#     batch_fn=get_minibatch, \n",
        "#     prep_fn=prepare_minibatch,\n",
        "#     eval_fn=evaluate)"
      ],
      "execution_count": null,
      "outputs": []
    },
    {
      "cell_type": "code",
      "metadata": {
        "id": "ymj1rLDMvyhp",
        "scrolled": false
      },
      "source": [
        "# plot validation accuracy\n",
        "# plt.title(\"lstm mini-batch validation accuracy\")\n",
        "# plt.plot(lstm_accuracies_minibatch)"
      ],
      "execution_count": null,
      "outputs": []
    },
    {
      "cell_type": "code",
      "metadata": {
        "id": "1je5S1RHVC5R"
      },
      "source": [
        "# plot training loss\n",
        "# plt.title(\"lstm mini-batch training loss\")\n",
        "# plt.plot(lstm_losses_minibatch)"
      ],
      "execution_count": null,
      "outputs": []
    },
    {
      "cell_type": "markdown",
      "metadata": {
        "id": "q7WjcxXntMi5"
      },
      "source": [
        "# Tree-LSTM"
      ]
    },
    {
      "cell_type": "markdown",
      "metadata": {
        "id": "jyj_UD6GtO5M"
      },
      "source": [
        "In the final part of this lab we will exploit the tree structure of the SST data. \n",
        "Until now we only used the surface tokens, but remember that our data examples include binary trees with a sentiment score at every node.\n",
        "\n",
        "In particular, we will implement **N-ary Tree-LSTMs** which are described in:\n",
        "\n",
        "> Kai Sheng Tai, Richard Socher, and Christopher D. Manning. [Improved Semantic Representations From Tree-Structured Long Short-Term Memory Networks](http://aclweb.org/anthology/P/P15/P15-1150.pdf) ACL 2015.\n",
        "\n",
        "Since our trees are binary (i.e., N=2), we can refer to these as *Binary Tree-LSTMs*. If you study equations (9) to (14) in the paper, you will find that they are not all too different from the original LSTM that you already have.\n",
        "\n",
        "You should read this paper carefully and make sure that you understand the approach. You will also find our LSTM baseline there.\n",
        "Note however that Tree-LSTMs were proposed around the same time by two other groups:\n",
        "\n",
        "> Phong Le and Willem Zuidema. [Compositional distributional semantics with long short term memory](http://anthology.aclweb.org/S/S15/S15-1002.pdf). *SEM 2015.\n",
        "\n",
        "> Xiaodan Zhu, Parinaz Sobihani,  and Hongyu Guo. [Long short-term memory over recursive structures](http://proceedings.mlr.press/v37/zhub15.pdf). ICML 2015.\n",
        "\n",
        "It is good scientific practice to cite all three papers in your report.\n",
        "\n",
        "\n"
      ]
    },
    {
      "cell_type": "markdown",
      "metadata": {
        "id": "1rDzvSos3JFp"
      },
      "source": [
        "## Computation\n",
        "\n",
        "Do you remember the `transitions_from_treestring` function all the way in the beginning of this lab? Every example contains a **transition sequence** produced by this function. Let's look at it again:\n",
        "\n"
      ]
    },
    {
      "cell_type": "code",
      "metadata": {
        "id": "5pg0Xumc3ZUS",
        "colab": {
          "base_uri": "https://localhost:8080/"
        },
        "outputId": "a960f9b1-ee4e-493d-e3c3-a8bb648271e6"
      },
      "source": [
        "ex = next(examplereader(\"trees/dev.txt\"))\n",
        "print(TreePrettyPrinter(ex.tree))\n",
        "print(\"Transitions:\")\n",
        "print(ex.transitions)"
      ],
      "execution_count": null,
      "outputs": [
        {
          "output_type": "stream",
          "text": [
            "              3                                                                     \n",
            "  ____________|____________________                                                  \n",
            " |                                 4                                                \n",
            " |        _________________________|______________________________________________   \n",
            " |       4                                                                        | \n",
            " |    ___|______________                                                          |  \n",
            " |   |                  4                                                         | \n",
            " |   |         _________|__________                                               |  \n",
            " |   |        |                    3                                              | \n",
            " |   |        |               _____|______________________                        |  \n",
            " |   |        |              |                            4                       | \n",
            " |   |        |              |            ________________|_______                |  \n",
            " |   |        |              |           |                        2               | \n",
            " |   |        |              |           |                 _______|___            |  \n",
            " |   |        3              |           |                |           2           | \n",
            " |   |    ____|_____         |           |                |        ___|_____      |  \n",
            " |   |   |          4        |           3                |       2         |     | \n",
            " |   |   |     _____|___     |      _____|_______         |    ___|___      |     |  \n",
            " 2   2   2    3         2    2     3             2        2   2       2     2     2 \n",
            " |   |   |    |         |    |     |             |        |   |       |     |     |  \n",
            " It  's  a  lovely     film with lovely     performances  by Buy     and Accorsi  . \n",
            "\n",
            "Transitions:\n",
            "[0, 0, 0, 0, 0, 1, 1, 0, 0, 0, 1, 0, 0, 0, 1, 0, 1, 1, 1, 1, 1, 1, 0, 1, 1]\n"
          ],
          "name": "stdout"
        }
      ]
    },
    {
      "cell_type": "markdown",
      "metadata": {
        "id": "ceBFe9fU4BI_"
      },
      "source": [
        "Note that the tree is **binary**. Every node has two children, except for pre-terminal nodes.\n",
        "\n",
        "A tree like this can be described by a sequence of **SHIFT (0)** and **REDUCE (1)** actions.\n",
        "\n",
        "To construct a tree, we can use the transitions as follows:\n",
        "- **reverse** the sentence (a list of tokens) and call this the **buffer**\n",
        "   - the first word is now on top (last in the list), and we would get it when calling pop() on the buffer\n",
        "- create an empty list and call it the **stack**\n",
        "- iterate through the transition sequence:\n",
        "  - if it says SHIFT(0), we pop a word from the buffer, and push it to the stack\n",
        "  - if it says REDUCE(1), we pop the **top two items** from the stack, and combine them (e.g. with a Tree-LSTM!), creating a new node that we push back on the stack\n",
        "  \n",
        "Convince yourself that going through the transition sequence above will result in the tree that you see.\n",
        "For example, we would start by putting the following words on the stack (by shifting 5 times, starting with `It`):\n",
        "\n",
        "```\n",
        "Top of the stack:\n",
        "-----------------\n",
        "film\n",
        "lovely\n",
        "a \n",
        "'s  \n",
        "It\n",
        "```\n",
        "Now we find a REDUCE in the transition sequence, so we get the top two words (film and lovely), and combine them, so our new stack becomes:\n",
        "```\n",
        "Top of the stack:\n",
        "-----------------\n",
        "lovely film\n",
        "a \n",
        "'s  \n",
        "It\n",
        "```\n",
        "\n",
        "We will use this approach when encoding sentences with our Tree-LSTM.\n",
        "Now, our sentence is a reversed list of word embeddings.\n",
        "When we shift, we move a word embedding to the stack.\n",
        "When we reduce, we apply the Tree-LSTM to the top two vectors, and the result is a single vector that we put back on the stack.\n",
        "After going through the whole transition sequence, we will have the root node on our stack! We can use that to classify the sentence.\n",
        "\n"
      ]
    },
    {
      "cell_type": "markdown",
      "metadata": {
        "id": "pDWKShm1AfmR"
      },
      "source": [
        "## Obtaining the transition sequence\n"
      ]
    },
    {
      "cell_type": "markdown",
      "metadata": {
        "id": "fO7VKWVpAbWj"
      },
      "source": [
        "\n",
        "So what goes on in the `transitions_from_treestring` function?\n",
        "\n",
        "The idea ([explained in this blog post](https://devblogs.nvidia.com/recursive-neural-networks-pytorch/)) is that, if we had a tree, we could traverse through the tree, and every time that we find a node containing only a word, we output a SHIFT.\n",
        "Every time **after** we have finished visiting the children of a node, we output a REDUCE.\n",
        "(What is this tree traversal called?)\n",
        "\n",
        "However, our `transitions_from_treestring` function operates directly on the string representation. It works as follows.\n",
        "\n",
        "We start with the representation:\n",
        "\n",
        "```\n",
        "(3 (2 It) (4 (4 (2 's) (4 (3 (2 a) (4 (3 lovely) (2 film))) (3 (2 with) (4 (3 (3 lovely) (2 performances)) (2 (2 by) (2 (2 (2 Buy) (2 and)) (2 Accorsi))))))) (2 .)))\n",
        "```\n",
        "\n",
        "First we remove pre-terminal nodes (and add spaces before closing brackets):\n",
        "\n",
        "```\n",
        "(3 It (4 (4 's (4 (3 a (4 lovely film ) ) (3 with (4 (3 lovely performances ) (2 by (2 (2 Buy and )  Accorsi ) ) ) ) ) ) . ) )\n",
        "```\n",
        "\n",
        "Then we remove node labels:\n",
        "\n",
        "```\n",
        "( It ( ( 's ( ( a ( lovely film ) ) ( with ( ( lovely performances) ( by ( ( Buy and )  Accorsi ) ) ) ) ) ) . ) )\n",
        "```\n",
        "\n",
        "Then we remove opening brackets:\n",
        "\n",
        "```\n",
        "It 's a lovely film ) ) with lovely performances ) by Buy and ) Accorsi ) ) ) ) ) ) . ) )\n",
        "```\n",
        "\n",
        "Now we replace words by S (for SHIFT), and closing brackets by R (for REDUCE):\n",
        "\n",
        "```\n",
        "S S S S S R R S S S R S S S R S R R R R R R S R R\n",
        "0 0 0 0 0 1 1 0 0 0 1 0 0 0 1 0 1 1 1 1 1 1 0 1 1 \n",
        "```\n",
        "\n",
        "Et voilà. We just obtained the transition sequence!"
      ]
    },
    {
      "cell_type": "code",
      "metadata": {
        "id": "1y069gM4_v64",
        "colab": {
          "base_uri": "https://localhost:8080/"
        },
        "outputId": "2580b889-da85-46cf-b27a-80f4c75ece6d"
      },
      "source": [
        "# for comparison\n",
        "seq = ex.transitions\n",
        "s = \" \".join([\"S\" if t == 0 else \"R\" for t in seq])\n",
        "print(s)\n",
        "print(\" \".join(map(str, seq)))"
      ],
      "execution_count": null,
      "outputs": [
        {
          "output_type": "stream",
          "text": [
            "S S S S S R R S S S R S S S R S R R R R R R S R R\n",
            "0 0 0 0 0 1 1 0 0 0 1 0 0 0 1 0 1 1 1 1 1 1 0 1 1\n"
          ],
          "name": "stdout"
        }
      ]
    },
    {
      "cell_type": "markdown",
      "metadata": {
        "id": "d-qOuKbDAiBn"
      },
      "source": [
        "## Coding the Tree-LSTM\n",
        "\n",
        "The code below contains a Binary Tree-LSTM cell.\n",
        "It is used in the TreeLSTM class below it, which in turn is used in the TreeLSTMClassifier.\n",
        "The job of the TreeLSTM class is to encode a complete sentence and return the root node.\n",
        "The job of the TreeLSTMCell is to return a new state when provided with two children (a reduce action). By repeatedly calling the TreeLSTMCell, the TreeLSTM will encode a sentence. This can be done for multiple sentences at the same time.\n",
        "\n",
        "\n",
        "#### Exercise \n",
        "Check the `forward` function and complete the Tree-LSTM formulas.\n",
        "You can see that we defined a large linear layer for you, that projects the *concatenation* of the left and right child into the input gate, left forget gate, right forget gate, candidate, and output gate."
      ]
    },
    {
      "cell_type": "code",
      "metadata": {
        "id": "J9b9mjMlN7Pb"
      },
      "source": [
        "class TreeLSTMCell(nn.Module):\n",
        "  \"\"\"A Binary Tree LSTM cell\"\"\"\n",
        "\n",
        "  def __init__(self, input_size, hidden_size, bias=True):\n",
        "    \"\"\"Creates the weights for this LSTM\"\"\"\n",
        "    super(TreeLSTMCell, self).__init__()\n",
        "\n",
        "    self.input_size = input_size\n",
        "    self.hidden_size = hidden_size\n",
        "    self.bias = bias\n",
        "\n",
        "    self.reduce_layer = nn.Linear(2 * hidden_size, 5 * hidden_size)\n",
        "    self.dropout_layer = nn.Dropout(p=0.25)\n",
        "\n",
        "    self.reset_parameters()\n",
        "\n",
        "  def reset_parameters(self):\n",
        "    \"\"\"This is PyTorch's default initialization method\"\"\"\n",
        "    stdv = 1.0 / math.sqrt(self.hidden_size)\n",
        "    for weight in self.parameters():\n",
        "      weight.data.uniform_(-stdv, stdv)  \n",
        "\n",
        "  def forward(self, hx_l, hx_r, mask=None):\n",
        "    \"\"\"\n",
        "    hx_l is ((batch, hidden_size), (batch, hidden_size))\n",
        "    hx_r is ((batch, hidden_size), (batch, hidden_size))    \n",
        "    \"\"\"\n",
        "    prev_h_l, prev_c_l = hx_l  # left child\n",
        "    prev_h_r, prev_c_r = hx_r  # right child\n",
        "\n",
        "    B = prev_h_l.size(0)\n",
        "\n",
        "    # we concatenate the left and right children\n",
        "    # you can also project from them separately and then sum\n",
        "    children = torch.cat([prev_h_l, prev_h_r], dim=1)\n",
        "    \n",
        "    # project the combined children into a 5D tensor for i,fl,fr,g,o\n",
        "    # this is done for speed, and you could also do it separately\n",
        "    proj = self.reduce_layer(children)  # shape: B x 5D\n",
        "\n",
        "    # each shape: B x D\n",
        "    i, f_l, f_r, g, o = torch.chunk(proj, 5, dim=-1)\n",
        "\n",
        "    # main Tree LSTM computation\n",
        "    \n",
        "    # YOUR CODE HERE\n",
        "    # You only need to complete the commented lines below.\n",
        "    # raise NotImplementedError(\"Implement this.\")\n",
        "\n",
        "    # The shape of each of these is [batch_size, hidden_size]\n",
        "\n",
        "    i = torch.sigmoid(i)\n",
        "    f_l = torch.sigmoid(f_l) \n",
        "    f_r = torch.sigmoid(f_r)\n",
        "    g = torch.tanh(g)   \n",
        "    o = torch.sigmoid(i)\n",
        "\n",
        "    c = f_l * prev_c_l + f_r * prev_c_r + i * g\n",
        "    h = o * torch.tanh(c)\n",
        "    \n",
        "    return h, c\n",
        "  \n",
        "  def __repr__(self):\n",
        "    return \"{}({:d}, {:d})\".format(\n",
        "        self.__class__.__name__, self.input_size, self.hidden_size)"
      ],
      "execution_count": null,
      "outputs": []
    },
    {
      "cell_type": "markdown",
      "metadata": {
        "id": "Dj5dYSGh_643"
      },
      "source": [
        "## Explanation of the TreeLSTM class\n",
        "\n",
        "\n",
        "The code below contains the TreeLSTM class, which implements everything we need in order to encode a sentence from word embeddings. The calculations are the same as in the paper, implemented such that the class `TreeLSTMCell` above is as general as possible and only takes two children to reduce them into a parent. \n",
        "\n",
        "\n",
        "**Initialize $\\mathbf{h}$ and $\\mathbf{c}$ outside of the cell for the leaves**\n",
        "\n",
        "At the leaves of each tree the children nodes are **empty**, whereas in higher levels the nodes are binary tree nodes that *do* have a left and right child (but no input $x$). By initializing the leaf nodes outside of the cell class (`TreeLSTMCell`), we avoid if-else statements in the forward pass.\n",
        "\n",
        "The `TreeLSTM` class (among other things) pre-calculates an initial $h$ and $c$ for every word in the sentence. Since the initial left and right child are 0, the only calculations we need to do are based on $x$, and we can drop the forget gate calculation (`prev_c_l` and `prev_c_r` are zero). The calculations we do in order to initalize $h$ and $c$ are then:\n",
        "\n",
        "$$\n",
        "c_1 =  W^{(u)}x_1 \\\\\n",
        "o_1 = \\sigma (W^{(i)}x_1) \\\\\n",
        "h_1 = o_1 \\odot \\text{tanh}(c_1)$$\n",
        "*NB: note that these equations are chosen as initializations of $c$ and $h$, other initializations are possible and might work equally well.*\n",
        "\n",
        "**Sentence Representations**\n",
        "\n",
        "All our leaf nodes are now initialized, so we can start processing the sentence in its tree form. Each sentence is represented by a buffer (initially a list with a concatenation of $[h_1, c_1]$ for every word in the reversed sentence), a stack (initially an empty list) and a transition sequence. To encode our sentence, we construct the tree from its transition sequence as explained earlier. \n",
        "\n",
        "*A short example that constructs a tree:*\n",
        "\n",
        "We loop over the time dimension of the batched transition sequences (i.e. row by row), which contain values of 0's, 1's and 2's (representing SHIFT, REDUCE and padding respectively). If we have a batch of size 2 where the first example has a transition sequence given by [0, 0, 1, 0, 0, 0, 1] and the second by [0, 0, 1, 0, 0, 1], our transition batch will be given by the following two-dimensional numpy array:\n",
        "\n",
        "$$\n",
        "\\text{transitions} = \n",
        "\\begin{pmatrix}\n",
        "0 & 0\\\\ \n",
        "0 & 0\\\\ \n",
        "1 & 1\\\\ \n",
        "0 & 0\\\\ \n",
        "0 & 0\\\\ \n",
        "0 & 1\\\\ \n",
        "1 & 2\n",
        "\\end{pmatrix}\n",
        "$$\n",
        "The inner loop (`for transition, buffer, stack in zip(t_batch, buffers, stacks)`) goes over each example in the batch and updates its buffer and stack. The nested loop for this example will then do roughy the following:\n",
        "\n",
        "```\n",
        "Time = 0:  t_batch = [0, 0], the inner loop performs 2 SHIFTs. \n",
        "\n",
        "Time = 1:  t_batch = [0, 0], \"..\"\n",
        "\n",
        "Time = 2:  t_batch = [1, 1], causing the inner loop to fill the list child_l and child_r for both examples in the batch. Now the statement if child_l will return True, triggering a REDUCE action to be performed by our Tree LSTM cell with a batch size of 2. \n",
        "\n",
        "Time = 3:  t_batch = [0, 0], \"..\".\n",
        "\n",
        "Time = 4:  t_batch = [0, 0], \"..\"\n",
        "\n",
        "Time = 5:  t_batch = [0, 1], one SHIFT will be done and another REDUCE action will be performed by our Tree LSTM, this time of batch size 1.  \n",
        "\n",
        "Time = 6:  t_batch = [1, 2], triggering another REDUCE action with batch size 1.\n",
        "```\n",
        "*NB: note that this was an artificial example for the purpose of demonstrating parts of the code, the transition sequences do not necessarily represent actual trees.*\n",
        "\n",
        "**Batching and Unbatching**\n",
        "\n",
        "Within the body of the outer loop over time, we use the functions for batching and unbatching. \n",
        "\n",
        "*Batching*\n",
        "\n",
        "Before passing two lists of children to the reduce layer (an instance of `TreeLSTMCell`), we batch the children as they are at this point a list of tensors of variable length based on how many REDUCE actions there are to perform at a certain time step across the batch (let's call the length `L`). To do an efficient forward pass we want to transform the list to a pair of tensors of shape `([L, D], [L, D])`, which the function `batch` achieves. \n",
        "\n",
        "*Unbatching*\n",
        "\n",
        "In the same line where we batched the children, we unbatch the output of the forward pass to become a list of states of length `L` again. We do this because we need to loop over each example's transition at the current time step and push the children that are reduced into a parent to the stack.\n",
        "\n",
        "*The batch and unbatch functions let us switch between the \"PyTorch world\" (Tensors) and the Python world (easy to manipulate lists).*\n"
      ]
    },
    {
      "cell_type": "code",
      "metadata": {
        "id": "5PixvTd4AqsQ"
      },
      "source": [
        "# Helper functions for batching and unbatching states\n",
        "# For speed we want to combine computations by batching, but \n",
        "# for processing logic we want to turn the output into lists again\n",
        "# to easily manipulate.\n",
        "\n",
        "def batch(states):\n",
        "  \"\"\"\n",
        "  Turns a list of states into a single tensor for fast processing. \n",
        "  This function also chunks (splits) each state into a (h, c) pair\"\"\"\n",
        "  return torch.cat(states, 0).chunk(2, 1)\n",
        "\n",
        "def unbatch(state):\n",
        "  \"\"\"\n",
        "  Turns a tensor back into a list of states.\n",
        "  First, (h, c) are merged into a single state.\n",
        "  Then the result is split into a list of sentences.\n",
        "  \"\"\"\n",
        "  return torch.split(torch.cat(state, 1), 1, 0)"
      ],
      "execution_count": null,
      "outputs": []
    },
    {
      "cell_type": "markdown",
      "metadata": {
        "id": "CynltDasaLPt"
      },
      "source": [
        "Take some time to understand the class below, having read the explanation above."
      ]
    },
    {
      "cell_type": "code",
      "metadata": {
        "id": "rQOqMXG4gX5G"
      },
      "source": [
        "class TreeLSTM(nn.Module):\n",
        "  \"\"\"Encodes a sentence using a TreeLSTMCell\"\"\"\n",
        "\n",
        "  def __init__(self, input_size, hidden_size, bias=True):\n",
        "    \"\"\"Creates the weights for this LSTM\"\"\"\n",
        "    super(TreeLSTM, self).__init__()\n",
        "\n",
        "    self.input_size = input_size\n",
        "    self.hidden_size = hidden_size\n",
        "    self.bias = bias\n",
        "    self.reduce = TreeLSTMCell(input_size, hidden_size)\n",
        "\n",
        "    # project word to initial c\n",
        "    self.proj_x = nn.Linear(input_size, hidden_size)\n",
        "    self.proj_x_gate = nn.Linear(input_size, hidden_size)\n",
        "    \n",
        "    self.buffers_dropout = nn.Dropout(p=0.5)\n",
        "\n",
        "  def forward(self, x, transitions):\n",
        "    \"\"\"\n",
        "    WARNING: assuming x is reversed!\n",
        "    :param x: word embeddings [B, T, E]\n",
        "    :param transitions: [2T-1, B]\n",
        "    :return: root states\n",
        "    \"\"\"\n",
        "\n",
        "    B = x.size(0)  # batch size\n",
        "    T = x.size(1)  # time\n",
        "\n",
        "    # compute an initial c and h for each word\n",
        "    # Note: this corresponds to input x in the Tai et al. Tree LSTM paper.\n",
        "    # We do not handle input x in the TreeLSTMCell itself.\n",
        "    buffers_c = self.proj_x(x)\n",
        "    buffers_h = buffers_c.tanh()\n",
        "    buffers_h_gate = self.proj_x_gate(x).sigmoid()\n",
        "    buffers_h = buffers_h_gate * buffers_h\n",
        "    \n",
        "    # concatenate h and c for each word\n",
        "    buffers = torch.cat([buffers_h, buffers_c], dim=-1)\n",
        "\n",
        "    D = buffers.size(-1) // 2\n",
        "\n",
        "    # we turn buffers into a list of stacks (1 stack for each sentence)\n",
        "    # first we split buffers so that it is a list of sentences (length B)\n",
        "    # then we split each sentence to be a list of word vectors\n",
        "    buffers = buffers.split(1, dim=0)  # Bx[T, 2D]\n",
        "    buffers = [list(b.squeeze(0).split(1, dim=0)) for b in buffers]  # BxTx[2D]\n",
        "\n",
        "    # create B empty stacks\n",
        "    stacks = [[] for _ in buffers]\n",
        "\n",
        "    # t_batch holds 1 transition for each sentence\n",
        "    for t_batch in transitions:\n",
        "\n",
        "      child_l = []  # contains the left child for each sentence with reduce action\n",
        "      child_r = []  # contains the corresponding right child\n",
        "\n",
        "      # iterate over sentences in the batch\n",
        "      # each has a transition t, a buffer and a stack\n",
        "      for transition, buffer, stack in zip(t_batch, buffers, stacks):\n",
        "        if transition == SHIFT:\n",
        "          stack.append(buffer.pop())\n",
        "        elif transition == REDUCE:\n",
        "          assert len(stack) >= 2, \\\n",
        "            \"Stack too small! Should not happen with valid transition sequences\"\n",
        "          child_r.append(stack.pop())  # right child is on top\n",
        "          child_l.append(stack.pop())\n",
        "\n",
        "      # if there are sentences with reduce transition, perform them batched\n",
        "      if child_l:\n",
        "        reduced = iter(unbatch(self.reduce(batch(child_l), batch(child_r))))\n",
        "        for transition, stack in zip(t_batch, stacks):\n",
        "          if transition == REDUCE:\n",
        "            stack.append(next(reduced))\n",
        "\n",
        "    final = [stack.pop().chunk(2, -1)[0] for stack in stacks]\n",
        "    final = torch.cat(final, dim=0)  # tensor [B, D]\n",
        "\n",
        "    return final"
      ],
      "execution_count": null,
      "outputs": []
    },
    {
      "cell_type": "markdown",
      "metadata": {
        "id": "s4EzbVzqaXkw"
      },
      "source": [
        "Just like the LSTM before, we will need an extra class that does the classifications."
      ]
    },
    {
      "cell_type": "code",
      "metadata": {
        "id": "nLxpYRvtQKge"
      },
      "source": [
        "class TreeLSTMClassifier(nn.Module):\n",
        "  \"\"\"Encodes sentence with a TreeLSTM and projects final hidden state\"\"\"\n",
        "\n",
        "  def __init__(self, vocab_size, embedding_dim, hidden_dim, output_dim, vocab):\n",
        "    super(TreeLSTMClassifier, self).__init__()\n",
        "    self.vocab = vocab\n",
        "    self.hidden_dim = hidden_dim\n",
        "    self.embed = nn.Embedding(vocab_size, embedding_dim, padding_idx=1)\n",
        "    self.treelstm = TreeLSTM(embedding_dim, hidden_dim)\n",
        "    self.output_layer = nn.Sequential(     \n",
        "        nn.Dropout(p=0.5),\n",
        "        nn.Linear(hidden_dim, output_dim, bias=True)\n",
        "    )\n",
        "\n",
        "  def forward(self, x):\n",
        "    \n",
        "    # x is a pair here of words and transitions; we unpack it here.\n",
        "    # x is batch-major: [B, T], transitions is time major [2T-1, B]\n",
        "    x, transitions = x\n",
        "    emb = self.embed(x)\n",
        "    \n",
        "    # we use the root/top state of the Tree LSTM to classify the sentence\n",
        "    root_states = self.treelstm(emb, transitions)\n",
        "\n",
        "    # we use the last hidden state to classify the sentence\n",
        "    logits = self.output_layer(root_states)\n",
        "    return logits"
      ],
      "execution_count": null,
      "outputs": []
    },
    {
      "cell_type": "markdown",
      "metadata": {
        "id": "gh9RbhGwaiLg"
      },
      "source": [
        "## Special `prepare` function for Tree-LSTM\n",
        "\n",
        "We need yet another `prepare` function. For our implementation, sentences need to be *reversed*. We will do that here."
      ]
    },
    {
      "cell_type": "code",
      "metadata": {
        "id": "DiqH-_2xdm9H"
      },
      "source": [
        "def prepare_treelstm_minibatch(mb, vocab):\n",
        "  \"\"\"\n",
        "  Returns sentences reversed (last word first)\n",
        "  Returns transitions together with the sentences.  \n",
        "  \"\"\"\n",
        "\n",
        "\n",
        "  batch_size = len(mb)\n",
        "  maxlen = max([len(ex.tokens) for ex in mb])\n",
        "    \n",
        "  # vocab returns 0 if the word is not there\n",
        "  # NOTE: reversed sequence!\n",
        "\n",
        "  x = [pad([vocab.w2i.get(t, 0) for t in ex.tokens], maxlen)[::-1] for ex in mb]\n",
        "\n",
        "  x = torch.LongTensor(x)\n",
        "  x = x.to(device)\n",
        "  \n",
        "  y = [ex.label for ex in mb]\n",
        "  y = torch.LongTensor(y)\n",
        "  y = y.to(device)\n",
        "  \n",
        "  maxlen_t = max([len(ex.transitions) for ex in mb])\n",
        "  transitions = [pad(ex.transitions, maxlen_t, pad_value=2) for ex in mb]\n",
        "  transitions = np.array(transitions)\n",
        "    \n",
        "  transitions = transitions.T  # time-major\n",
        "\n",
        "  return (x, transitions), y"
      ],
      "execution_count": 218,
      "outputs": []
    },
    {
      "cell_type": "markdown",
      "metadata": {
        "id": "IMUsrlL9ayVe"
      },
      "source": [
        "## Training"
      ]
    },
    {
      "cell_type": "code",
      "metadata": {
        "id": "IpOYUdg2D3v0"
      },
      "source": [
        "# # Now let's train the Tree LSTM!\n",
        "\n",
        "# tree_model = TreeLSTMClassifier(\n",
        "#     len(v.w2i), 300, 150, len(t2i), v)\n",
        "\n",
        "# with torch.no_grad():\n",
        "#   tree_model.embed.weight.data.copy_(torch.from_numpy(vectors))\n",
        "#   tree_model.embed.weight.requires_grad = False\n",
        "  \n",
        "# def do_train(model):\n",
        "  \n",
        "#   print(model)\n",
        "#   print_parameters(model)\n",
        "\n",
        "#   model = model.to(device)\n",
        "\n",
        "#   optimizer = optim.Adam(model.parameters(), lr=2e-4)\n",
        "  \n",
        "#   return train_model(\n",
        "#       model, optimizer, num_iterations=5000, \n",
        "#       print_every=1000, eval_every=1000,\n",
        "#       prep_fn=prepare_treelstm_minibatch,\n",
        "#       eval_fn=evaluate,\n",
        "#       batch_fn=get_minibatch,\n",
        "#       batch_size=25, eval_batch_size=25)\n",
        "  \n",
        "# results_tree_lstm = do_train(tree_model)"
      ],
      "execution_count": null,
      "outputs": []
    },
    {
      "cell_type": "code",
      "metadata": {
        "id": "DHcHHaLtguUg"
      },
      "source": [
        "# lstm_losses_tree, lstm_accuracies_tree = results_tree_lstm\n",
        "# plt.plot(lstm_losses_tree)"
      ],
      "execution_count": null,
      "outputs": []
    },
    {
      "cell_type": "code",
      "metadata": {
        "id": "azm1sY1ZqV3Z"
      },
      "source": [
        "# plt.plot(lstm_accuracies_tree)"
      ],
      "execution_count": null,
      "outputs": []
    },
    {
      "cell_type": "markdown",
      "metadata": {
        "id": "0RY2lMpcqV3Z"
      },
      "source": [
        "# Research Questions"
      ]
    },
    {
      "cell_type": "markdown",
      "metadata": {
        "id": "f8RoTkPiqV3a"
      },
      "source": [
        "### Run models using different seeds"
      ]
    },
    {
      "cell_type": "code",
      "metadata": {
        "id": "BXVl6-Y9qV3a"
      },
      "source": [
        "def train_for_testing(model, optimizer, num_iterations=10000, \n",
        "                print_every=1000, eval_every=1000,\n",
        "                batch_fn=get_examples, \n",
        "                prep_fn=prepare_example,\n",
        "                eval_fn=simple_evaluate,\n",
        "                batch_size=1, eval_batch_size=None, shuffle=\"False\",\n",
        "                train_data = train_data):\n",
        "  \"\"\"Train a model.\"\"\"  \n",
        "  iter_i = 0\n",
        "  train_loss = 0.\n",
        "  print_num = 0\n",
        "  start = time.time()\n",
        "  criterion = nn.CrossEntropyLoss() # loss function\n",
        "  best_eval = 0.\n",
        "  best_iter = 0\n",
        "  \n",
        "  # store train loss and validation accuracy during training\n",
        "  # so we can plot them afterwards\n",
        "  # losses = []\n",
        "  # accuracies = []\n",
        "\n",
        "  if eval_batch_size is None:\n",
        "    eval_batch_size = batch_size\n",
        "  \n",
        "  # adding this to make the results reproduciable\n",
        "  train_data_copy = train_data.copy()\n",
        "  while True:  # when we run out of examples, shuffle and continue\n",
        "    for batch in batch_fn(train_data_copy, batch_size=batch_size, shuffle = shuffle):\n",
        "\n",
        "      # forward pass\n",
        "      model.train()\n",
        "      if shuffle == \"True\":\n",
        "        x, targets = prep_fn(batch, model.vocab, shuffle)\n",
        "      else:\n",
        "        x, targets = prep_fn(batch, model.vocab)\n",
        "      logits = model(x)\n",
        "\n",
        "      B = targets.size(0)  # later we will use B examples per update\n",
        "      \n",
        "      # compute cross-entropy loss (our criterion)\n",
        "      # note that the cross entropy loss function computes the softmax for us\n",
        "      loss = criterion(logits.view([B, -1]), targets.view(-1))\n",
        "      train_loss += loss.item()\n",
        "\n",
        "      # backward pass (tip: check the Introduction to PyTorch notebook)\n",
        "\n",
        "      # erase previous gradients\n",
        "      # raise NotImplementedError(\"Implement this\")\n",
        "      # YOUR CODE HERE\n",
        "      optimizer.zero_grad()\n",
        "\n",
        "      # compute gradients\n",
        "      # YOUR CODE HERE\n",
        "      loss.backward()\n",
        "\n",
        "      # update weights - take a small step in the opposite dir of the gradient\n",
        "      # YOUR CODE HERE\n",
        "      optimizer.step()\n",
        "\n",
        "      print_num += 1\n",
        "      iter_i += 1\n",
        "\n",
        "      # print info\n",
        "      # if iter_i % print_every == 0:\n",
        "      #   print(\"Iter %r: loss=%.4f, time=%.2fs\" % \n",
        "      #         (iter_i, train_loss, time.time()-start))\n",
        "      #   losses.append(train_loss)\n",
        "      #   print_num = 0        \n",
        "      #   train_loss = 0.\n",
        "\n",
        "      # evaluate\n",
        "      if iter_i % eval_every == 0:\n",
        "        _, _, accuracy = eval_fn(model, dev_data, batch_size=eval_batch_size,\n",
        "                                 batch_fn=batch_fn, prep_fn=prep_fn)\n",
        "        # accuracies.append(accuracy)\n",
        "        print(\"iter %r: dev acc=%.4f\" % (iter_i, accuracy))       \n",
        "        \n",
        "        # save best model parameters\n",
        "        if accuracy > best_eval:\n",
        "          print(\"new highscore\")\n",
        "          best_eval = accuracy\n",
        "          best_iter = iter_i\n",
        "          path = \"{}.pt\".format(model.__class__.__name__)\n",
        "          ckpt = {\n",
        "              \"state_dict\": model.state_dict(),\n",
        "              \"optimizer_state_dict\": optimizer.state_dict(),\n",
        "              \"best_eval\": best_eval,\n",
        "              \"best_iter\": best_iter\n",
        "          }\n",
        "          torch.save(ckpt, path)\n",
        "\n",
        "      # done training: run through all iterations or best_eval doesn't improve for 2000 steps\n",
        "      if iter_i == num_iterations:\n",
        "        # if iter_i - best_eval > 1000:\n",
        "        #   print(\"Early stopping for the best_eval doesn't improve for 2000 steps\")\n",
        "        print(\"Done training\")\n",
        "        \n",
        "        # evaluate on train, dev, and test with best model\n",
        "        print(\"Loading best model\")\n",
        "        path = \"{}.pt\".format(model.__class__.__name__)        \n",
        "        ckpt = torch.load(path)\n",
        "        model.load_state_dict(ckpt[\"state_dict\"])\n",
        "        \n",
        "        _, _, train_acc = eval_fn(\n",
        "            model, train_data, batch_size=eval_batch_size, \n",
        "            batch_fn=batch_fn, prep_fn=prep_fn)\n",
        "        _, _, dev_acc = eval_fn(\n",
        "            model, dev_data, batch_size=eval_batch_size,\n",
        "            batch_fn=batch_fn, prep_fn=prep_fn)\n",
        "        _, _, test_acc = eval_fn(\n",
        "            model, test_data, batch_size=eval_batch_size, \n",
        "            batch_fn=batch_fn, prep_fn=prep_fn)\n",
        "        \n",
        "        print(\"best model iter {:d}: \"\n",
        "              \"train acc={:.4f}, dev acc={:.4f}, test acc={:.4f}\".format(\n",
        "                  best_iter, train_acc, dev_acc, test_acc))\n",
        "        \n",
        "        return test_acc"
      ],
      "execution_count": null,
      "outputs": []
    },
    {
      "cell_type": "code",
      "metadata": {
        "id": "WRs0TWjZqV3a"
      },
      "source": [
        "num_seeds = 3\n",
        "\n",
        "def set_seed(seed):\n",
        "    random.seed(seed)\n",
        "    np.random.seed(seed)\n",
        "    torch.manual_seed(seed)\n",
        "    if torch.cuda.is_available():\n",
        "        torch.cuda.manual_seed(seed)\n",
        "        torch.cuda.manual_seed_all(seed)\n",
        "        torch.backends.cudnn.deterministic = True\n",
        "        torch.backends.cudnn.benchmark = False\n",
        "\n",
        "def train_with_different_seeds(gen_model, num_seed = 3,\n",
        "                               num_iterations=10000, print_every=1000, \n",
        "                               eval_every=1000,batch_fn=get_examples,\n",
        "                               prep_fn=prepare_example,\n",
        "                               eval_fn=simple_evaluate,\n",
        "                               batch_size=1, eval_batch_size=None, train_data = train_data):\n",
        "  \n",
        "  test_accs = []\n",
        "  best_models = []\n",
        "  for i in range(num_seed):\n",
        "    print(\"-------test case {}---------\".format(i))\n",
        "    set_seed(i)\n",
        "    model, optimizer = gen_model()\n",
        "    test_acc = train_for_testing(model, optimizer, num_iterations, \n",
        "                print_every, eval_every, batch_fn, prep_fn, \n",
        "                eval_fn,batch_size, eval_batch_size, train_data)\n",
        "    test_accs.append(test_acc)\n",
        "    best_models.append(model)\n",
        "\n",
        "  print(\"The accuracy of the model is {:.4f} +/- {:.4f}\".format(np.mean(test_accs), np.std(test_accs)))\n",
        "  return test_accs, best_models"
      ],
      "execution_count": null,
      "outputs": []
    },
    {
      "cell_type": "code",
      "metadata": {
        "id": "Az2_waRbxodO"
      },
      "source": [
        "def gen_bow():\n",
        "  bow_model = BOW(len(v_train.w2i), len(t2i), vocab=v_train)\n",
        "  bow_model = bow_model.to(device)\n",
        "  optimizer = optim.Adam(bow_model.parameters(), lr=0.0005)\n",
        "  return bow_model, optimizer\n",
        "\n",
        "\n",
        "def gen_cbow():\n",
        "  cbow_model = CBOW(len(v_train.w2i), len(t2i), vocab=v_train, embedding_dim = 300)\n",
        "  cbow_model = cbow_model.to(device)\n",
        "  optimizer = optim.Adam(cbow_model.parameters(), lr=0.0005)\n",
        "  return cbow_model, optimizer\n",
        "\n",
        "\n",
        "def gen_dbow():\n",
        "  dbow_model = DeepCBOW(len(v_train.w2i), len(t2i), vocab=v_train, embedding_dim = 300)\n",
        "  dbow_model = dbow_model.to(device)\n",
        "  optimizer = optim.Adam(dbow_model.parameters(), lr=0.0005)\n",
        "  return dbow_model, optimizer\n",
        "\n",
        "\n",
        "def gen_dbow_with_pretrain():\n",
        "  pt_deep_cbow_model = PTDeepCBOW(len(v.w2i), len(t2i), \n",
        "                                  vocab=v, embedding_dim = 300)\n",
        "  pt_deep_cbow_model.embed.weight.data.copy_(torch.from_numpy(vectors))\n",
        "  pt_deep_cbow_model.embed.weight.requires_grad = False\n",
        "  pt_deep_cbow_model = pt_deep_cbow_model.to(device)\n",
        "  optimizer = optim.Adam(pt_deep_cbow_model.parameters(), lr=0.0005)\n",
        "  return pt_deep_cbow_model, optimizer\n",
        "\n",
        "def gen_lstm():\n",
        "  lstm_model = LSTMClassifier(\n",
        "      len(v.w2i), 300, 168, len(t2i), v)\n",
        "\n",
        "  with torch.no_grad():\n",
        "    lstm_model.embed.weight.data.copy_(torch.from_numpy(vectors))\n",
        "    lstm_model.embed.weight.requires_grad = False\n",
        "\n",
        "  lstm_model = lstm_model.to(device)\n",
        "  optimizer = optim.Adam(lstm_model.parameters(), lr=2e-4)\n",
        "  return lstm_model, optimizer\n",
        "\n",
        "def gen_tree_lstm():\n",
        "  tree_model = TreeLSTMClassifier(\n",
        "      len(v.w2i), 300, 150, len(t2i), v)\n",
        "\n",
        "  with torch.no_grad():\n",
        "    tree_model.embed.weight.data.copy_(torch.from_numpy(vectors))\n",
        "    tree_model.embed.weight.requires_grad = False\n",
        "  \n",
        "  tree_model = tree_model.to(device)\n",
        "  optimizer = optim.Adam(tree_model.parameters(), lr=2e-4)\n",
        "  return tree_model, optimizer\n",
        "\n"
      ],
      "execution_count": 99,
      "outputs": []
    },
    {
      "cell_type": "code",
      "metadata": {
        "colab": {
          "base_uri": "https://localhost:8080/"
        },
        "id": "TTxg8_uq6oQm",
        "outputId": "61d3ec9f-686c-4fee-e25a-7b752cf61309"
      },
      "source": [
        "print(\"Runing bow model\")\n",
        "bow_accs, bow_models = train_with_different_seeds(gen_bow, num_iterations=30000, \n",
        "                                      print_every=1000, eval_every=1000)"
      ],
      "execution_count": null,
      "outputs": [
        {
          "output_type": "stream",
          "text": [
            "Runing bow model\n",
            "-------test case 0---------\n",
            "Shuffling training data\n",
            "iter 1000: dev acc=0.1889\n",
            "new highscore\n",
            "iter 2000: dev acc=0.1953\n",
            "new highscore\n",
            "iter 3000: dev acc=0.1998\n",
            "new highscore\n",
            "iter 4000: dev acc=0.2107\n",
            "new highscore\n",
            "iter 5000: dev acc=0.2134\n",
            "new highscore\n",
            "iter 6000: dev acc=0.2153\n",
            "new highscore\n",
            "iter 7000: dev acc=0.2162\n",
            "new highscore\n",
            "iter 8000: dev acc=0.2134\n",
            "Shuffling training data\n",
            "iter 9000: dev acc=0.2162\n",
            "iter 10000: dev acc=0.2216\n",
            "new highscore\n",
            "iter 11000: dev acc=0.2271\n",
            "new highscore\n",
            "iter 12000: dev acc=0.2289\n",
            "new highscore\n",
            "iter 13000: dev acc=0.2307\n",
            "new highscore\n",
            "iter 14000: dev acc=0.2289\n",
            "iter 15000: dev acc=0.2325\n",
            "new highscore\n",
            "iter 16000: dev acc=0.2343\n",
            "new highscore\n",
            "iter 17000: dev acc=0.2343\n",
            "Shuffling training data\n",
            "iter 18000: dev acc=0.2325\n",
            "iter 19000: dev acc=0.2343\n",
            "iter 20000: dev acc=0.2343\n",
            "iter 21000: dev acc=0.2352\n",
            "new highscore\n",
            "iter 22000: dev acc=0.2380\n",
            "new highscore\n",
            "iter 23000: dev acc=0.2371\n",
            "iter 24000: dev acc=0.2380\n",
            "iter 25000: dev acc=0.2407\n",
            "new highscore\n",
            "Shuffling training data\n",
            "iter 26000: dev acc=0.2407\n",
            "iter 27000: dev acc=0.2398\n",
            "iter 28000: dev acc=0.2434\n",
            "new highscore\n",
            "iter 29000: dev acc=0.2389\n",
            "iter 30000: dev acc=0.2470\n",
            "new highscore\n",
            "Done training\n",
            "Loading best model\n",
            "best model iter 30000: train acc=0.3088, dev acc=0.2470, test acc=0.2353\n",
            "-------test case 1---------\n",
            "Shuffling training data\n",
            "iter 1000: dev acc=0.1798\n",
            "new highscore\n",
            "iter 2000: dev acc=0.1826\n",
            "new highscore\n",
            "iter 3000: dev acc=0.1889\n",
            "new highscore\n",
            "iter 4000: dev acc=0.1980\n",
            "new highscore\n",
            "iter 5000: dev acc=0.2007\n",
            "new highscore\n",
            "iter 6000: dev acc=0.2044\n",
            "new highscore\n",
            "iter 7000: dev acc=0.2053\n",
            "new highscore\n",
            "iter 8000: dev acc=0.2098\n",
            "new highscore\n",
            "Shuffling training data\n",
            "iter 9000: dev acc=0.2116\n",
            "new highscore\n",
            "iter 10000: dev acc=0.2189\n",
            "new highscore\n",
            "iter 11000: dev acc=0.2216\n",
            "new highscore\n",
            "iter 12000: dev acc=0.2262\n",
            "new highscore\n",
            "iter 13000: dev acc=0.2298\n",
            "new highscore\n",
            "iter 14000: dev acc=0.2262\n",
            "iter 15000: dev acc=0.2252\n",
            "iter 16000: dev acc=0.2289\n",
            "iter 17000: dev acc=0.2307\n",
            "new highscore\n",
            "Shuffling training data\n",
            "iter 18000: dev acc=0.2334\n",
            "new highscore\n",
            "iter 19000: dev acc=0.2398\n",
            "new highscore\n",
            "iter 20000: dev acc=0.2407\n",
            "new highscore\n",
            "iter 21000: dev acc=0.2425\n",
            "new highscore\n",
            "iter 22000: dev acc=0.2452\n",
            "new highscore\n",
            "iter 23000: dev acc=0.2470\n",
            "new highscore\n",
            "iter 24000: dev acc=0.2507\n",
            "new highscore\n",
            "iter 25000: dev acc=0.2416\n",
            "Shuffling training data\n",
            "iter 26000: dev acc=0.2480\n",
            "iter 27000: dev acc=0.2470\n",
            "iter 28000: dev acc=0.2516\n",
            "new highscore\n",
            "iter 29000: dev acc=0.2552\n",
            "new highscore\n",
            "iter 30000: dev acc=0.2579\n",
            "new highscore\n",
            "Done training\n",
            "Loading best model\n",
            "best model iter 30000: train acc=0.3167, dev acc=0.2579, test acc=0.2579\n",
            "-------test case 2---------\n",
            "Shuffling training data\n",
            "iter 1000: dev acc=0.2007\n",
            "new highscore\n",
            "iter 2000: dev acc=0.2007\n",
            "iter 3000: dev acc=0.2071\n",
            "new highscore\n",
            "iter 4000: dev acc=0.2116\n",
            "new highscore\n",
            "iter 5000: dev acc=0.2162\n",
            "new highscore\n",
            "iter 6000: dev acc=0.2216\n",
            "new highscore\n",
            "iter 7000: dev acc=0.2234\n",
            "new highscore\n",
            "iter 8000: dev acc=0.2243\n",
            "new highscore\n",
            "Shuffling training data\n",
            "iter 9000: dev acc=0.2243\n",
            "iter 10000: dev acc=0.2298\n",
            "new highscore\n",
            "iter 11000: dev acc=0.2316\n",
            "new highscore\n",
            "iter 12000: dev acc=0.2316\n",
            "iter 13000: dev acc=0.2307\n",
            "iter 14000: dev acc=0.2343\n",
            "new highscore\n",
            "iter 15000: dev acc=0.2371\n",
            "new highscore\n",
            "iter 16000: dev acc=0.2425\n",
            "new highscore\n",
            "iter 17000: dev acc=0.2398\n",
            "Shuffling training data\n",
            "iter 18000: dev acc=0.2434\n",
            "new highscore\n",
            "iter 19000: dev acc=0.2452\n",
            "new highscore\n",
            "iter 20000: dev acc=0.2461\n",
            "new highscore\n",
            "iter 21000: dev acc=0.2480\n",
            "new highscore\n",
            "iter 22000: dev acc=0.2452\n",
            "iter 23000: dev acc=0.2498\n",
            "new highscore\n",
            "iter 24000: dev acc=0.2534\n",
            "new highscore\n",
            "iter 25000: dev acc=0.2561\n",
            "new highscore\n",
            "Shuffling training data\n",
            "iter 26000: dev acc=0.2616\n",
            "new highscore\n",
            "iter 27000: dev acc=0.2625\n",
            "new highscore\n",
            "iter 28000: dev acc=0.2652\n",
            "new highscore\n",
            "iter 29000: dev acc=0.2634\n",
            "iter 30000: dev acc=0.2688\n",
            "new highscore\n",
            "Done training\n",
            "Loading best model\n",
            "best model iter 30000: train acc=0.3165, dev acc=0.2688, test acc=0.2846\n",
            "The accuracy of the model is 0.2593 +/- 0.0202\n"
          ],
          "name": "stdout"
        }
      ]
    },
    {
      "cell_type": "code",
      "metadata": {
        "colab": {
          "base_uri": "https://localhost:8080/"
        },
        "id": "jLSBgI2OPa7N",
        "outputId": "be832251-e34a-4d90-e80c-a15743861407"
      },
      "source": [
        "print(\"Running cbow model\")\n",
        "cbow_accs, cbow_models = train_with_different_seeds(gen_cbow, num_iterations=20000, \n",
        "                                      print_every=1000, eval_every=1000)"
      ],
      "execution_count": null,
      "outputs": [
        {
          "output_type": "stream",
          "text": [
            "Running cbow model\n",
            "-------test case 0---------\n",
            "Shuffling training data\n",
            "iter 1000: dev acc=0.2552\n",
            "new highscore\n",
            "iter 2000: dev acc=0.2607\n",
            "new highscore\n",
            "iter 3000: dev acc=0.2943\n",
            "new highscore\n",
            "iter 4000: dev acc=0.2888\n",
            "iter 5000: dev acc=0.2952\n",
            "new highscore\n",
            "iter 6000: dev acc=0.2761\n",
            "iter 7000: dev acc=0.2934\n",
            "iter 8000: dev acc=0.3188\n",
            "new highscore\n",
            "Shuffling training data\n",
            "iter 9000: dev acc=0.2970\n",
            "iter 10000: dev acc=0.3261\n",
            "new highscore\n",
            "iter 11000: dev acc=0.2888\n",
            "iter 12000: dev acc=0.3161\n",
            "iter 13000: dev acc=0.2861\n",
            "iter 14000: dev acc=0.3052\n",
            "iter 15000: dev acc=0.2970\n",
            "iter 16000: dev acc=0.3224\n",
            "iter 17000: dev acc=0.3261\n",
            "Shuffling training data\n",
            "iter 18000: dev acc=0.3270\n",
            "new highscore\n",
            "iter 19000: dev acc=0.3397\n",
            "new highscore\n",
            "iter 20000: dev acc=0.3324\n",
            "Done training\n",
            "Loading best model\n",
            "best model iter 19000: train acc=0.5625, dev acc=0.3397, test acc=0.3403\n",
            "-------test case 1---------\n",
            "Shuffling training data\n",
            "iter 1000: dev acc=0.2225\n",
            "new highscore\n",
            "iter 2000: dev acc=0.2461\n",
            "new highscore\n",
            "iter 3000: dev acc=0.2607\n",
            "new highscore\n",
            "iter 4000: dev acc=0.2843\n",
            "new highscore\n",
            "iter 5000: dev acc=0.3025\n",
            "new highscore\n",
            "iter 6000: dev acc=0.2825\n",
            "iter 7000: dev acc=0.2807\n",
            "iter 8000: dev acc=0.2797\n",
            "Shuffling training data\n",
            "iter 9000: dev acc=0.2380\n",
            "iter 10000: dev acc=0.3206\n",
            "new highscore\n",
            "iter 11000: dev acc=0.3215\n",
            "new highscore\n",
            "iter 12000: dev acc=0.2770\n",
            "iter 13000: dev acc=0.3188\n",
            "iter 14000: dev acc=0.2997\n",
            "iter 15000: dev acc=0.3106\n",
            "iter 16000: dev acc=0.2906\n",
            "iter 17000: dev acc=0.3043\n",
            "Shuffling training data\n",
            "iter 18000: dev acc=0.3233\n",
            "new highscore\n",
            "iter 19000: dev acc=0.3170\n",
            "iter 20000: dev acc=0.3361\n",
            "new highscore\n",
            "Done training\n",
            "Loading best model\n",
            "best model iter 20000: train acc=0.5763, dev acc=0.3361, test acc=0.3443\n",
            "-------test case 2---------\n",
            "Shuffling training data\n",
            "iter 1000: dev acc=0.2343\n",
            "new highscore\n",
            "iter 2000: dev acc=0.2516\n",
            "new highscore\n",
            "iter 3000: dev acc=0.2598\n",
            "new highscore\n",
            "iter 4000: dev acc=0.2816\n",
            "new highscore\n",
            "iter 5000: dev acc=0.2489\n",
            "iter 6000: dev acc=0.2952\n",
            "new highscore\n",
            "iter 7000: dev acc=0.3061\n",
            "new highscore\n",
            "iter 8000: dev acc=0.3079\n",
            "new highscore\n",
            "Shuffling training data\n",
            "iter 9000: dev acc=0.2970\n",
            "iter 10000: dev acc=0.3124\n",
            "new highscore\n",
            "iter 11000: dev acc=0.3233\n",
            "new highscore\n",
            "iter 12000: dev acc=0.3134\n",
            "iter 13000: dev acc=0.3161\n",
            "iter 14000: dev acc=0.3233\n",
            "iter 15000: dev acc=0.3224\n",
            "iter 16000: dev acc=0.3224\n",
            "iter 17000: dev acc=0.3224\n",
            "Shuffling training data\n",
            "iter 18000: dev acc=0.3361\n",
            "new highscore\n",
            "iter 19000: dev acc=0.3315\n",
            "iter 20000: dev acc=0.3170\n",
            "Done training\n",
            "Loading best model\n",
            "best model iter 18000: train acc=0.5274, dev acc=0.3361, test acc=0.3593\n",
            "The accuracy of the model is 0.3480 +/- 0.0082\n"
          ],
          "name": "stdout"
        }
      ]
    },
    {
      "cell_type": "code",
      "metadata": {
        "colab": {
          "base_uri": "https://localhost:8080/"
        },
        "id": "BI1rNbhcP21R",
        "outputId": "6b9fe07f-7032-48b5-a2cf-3d1d7f5d7b8b"
      },
      "source": [
        "print(\"running dbow\")\n",
        "dbow_accs, dbow_models = train_with_different_seeds(gen_dbow, num_iterations=20000, \n",
        "                                           print_every=1000, eval_every=1000)"
      ],
      "execution_count": 100,
      "outputs": [
        {
          "output_type": "stream",
          "text": [
            "running dbow\n",
            "-------test case 0---------\n",
            "Shuffling training data\n",
            "iter 1000: dev acc=0.2652\n",
            "new highscore\n",
            "iter 2000: dev acc=0.3006\n",
            "new highscore\n",
            "iter 3000: dev acc=0.2816\n",
            "iter 4000: dev acc=0.3079\n",
            "new highscore\n",
            "iter 5000: dev acc=0.3315\n",
            "new highscore\n",
            "iter 6000: dev acc=0.3161\n",
            "iter 7000: dev acc=0.3433\n",
            "new highscore\n",
            "iter 8000: dev acc=0.3433\n",
            "Shuffling training data\n",
            "iter 9000: dev acc=0.2970\n",
            "iter 10000: dev acc=0.3433\n",
            "iter 11000: dev acc=0.3488\n",
            "new highscore\n",
            "iter 12000: dev acc=0.3488\n",
            "iter 13000: dev acc=0.3551\n",
            "new highscore\n",
            "iter 14000: dev acc=0.3433\n",
            "iter 15000: dev acc=0.3297\n",
            "iter 16000: dev acc=0.3597\n",
            "new highscore\n",
            "iter 17000: dev acc=0.3560\n",
            "Shuffling training data\n",
            "iter 18000: dev acc=0.3270\n",
            "iter 19000: dev acc=0.3597\n",
            "iter 20000: dev acc=0.3724\n",
            "new highscore\n",
            "Done training\n",
            "Loading best model\n",
            "best model iter 20000: train acc=0.5415, dev acc=0.3724, test acc=0.3679\n",
            "-------test case 1---------\n",
            "Shuffling training data\n",
            "iter 1000: dev acc=0.1989\n",
            "new highscore\n",
            "iter 2000: dev acc=0.2834\n",
            "new highscore\n",
            "iter 3000: dev acc=0.2734\n",
            "iter 4000: dev acc=0.2788\n",
            "iter 5000: dev acc=0.3115\n",
            "new highscore\n",
            "iter 6000: dev acc=0.3152\n",
            "new highscore\n",
            "iter 7000: dev acc=0.3315\n",
            "new highscore\n",
            "iter 8000: dev acc=0.3143\n",
            "Shuffling training data\n",
            "iter 9000: dev acc=0.2361\n",
            "iter 10000: dev acc=0.3633\n",
            "new highscore\n",
            "iter 11000: dev acc=0.3551\n",
            "iter 12000: dev acc=0.3351\n",
            "iter 13000: dev acc=0.3188\n",
            "iter 14000: dev acc=0.3170\n",
            "iter 15000: dev acc=0.3724\n",
            "new highscore\n",
            "iter 16000: dev acc=0.3579\n",
            "iter 17000: dev acc=0.3760\n",
            "new highscore\n",
            "Shuffling training data\n",
            "iter 18000: dev acc=0.3361\n",
            "iter 19000: dev acc=0.3597\n",
            "iter 20000: dev acc=0.3633\n",
            "Done training\n",
            "Loading best model\n",
            "best model iter 17000: train acc=0.5137, dev acc=0.3760, test acc=0.3670\n",
            "-------test case 2---------\n",
            "Shuffling training data\n",
            "iter 1000: dev acc=0.2589\n",
            "new highscore\n",
            "iter 2000: dev acc=0.2879\n",
            "new highscore\n",
            "iter 3000: dev acc=0.3088\n",
            "new highscore\n",
            "iter 4000: dev acc=0.3043\n",
            "iter 5000: dev acc=0.3088\n",
            "iter 6000: dev acc=0.3315\n",
            "new highscore\n",
            "iter 7000: dev acc=0.3179\n",
            "iter 8000: dev acc=0.3261\n",
            "Shuffling training data\n",
            "iter 9000: dev acc=0.3161\n",
            "iter 10000: dev acc=0.3306\n",
            "iter 11000: dev acc=0.3688\n",
            "new highscore\n",
            "iter 12000: dev acc=0.3442\n",
            "iter 13000: dev acc=0.3733\n",
            "new highscore\n",
            "iter 14000: dev acc=0.3597\n",
            "iter 15000: dev acc=0.3497\n",
            "iter 16000: dev acc=0.3624\n",
            "iter 17000: dev acc=0.3388\n",
            "Shuffling training data\n",
            "iter 18000: dev acc=0.3706\n",
            "iter 19000: dev acc=0.3760\n",
            "new highscore\n",
            "iter 20000: dev acc=0.3533\n",
            "Done training\n",
            "Loading best model\n",
            "best model iter 19000: train acc=0.5535, dev acc=0.3760, test acc=0.3937\n",
            "The accuracy of the model is 0.3762 +/- 0.0124\n"
          ],
          "name": "stdout"
        }
      ]
    },
    {
      "cell_type": "code",
      "metadata": {
        "id": "aEhnDiz7P_EH",
        "colab": {
          "base_uri": "https://localhost:8080/"
        },
        "outputId": "355c513b-6a35-428c-8997-2e830d2603f8"
      },
      "source": [
        "print(\"runing dbow using pre-trained embedding\")\n",
        "dbow_with_pretrain_accs, dbow_with_pretrain_models = train_with_different_seeds(gen_dbow_with_pretrain, \n",
        "                                                     num_iterations=20000, \n",
        "                                                     print_every=1000, eval_every=1000)"
      ],
      "execution_count": 101,
      "outputs": [
        {
          "output_type": "stream",
          "text": [
            "runing dbow using pre-trained embedding\n",
            "-------test case 0---------\n",
            "Shuffling training data\n",
            "iter 1000: dev acc=0.3878\n",
            "new highscore\n",
            "iter 2000: dev acc=0.3906\n",
            "new highscore\n",
            "iter 3000: dev acc=0.4024\n",
            "new highscore\n",
            "iter 4000: dev acc=0.4005\n",
            "iter 5000: dev acc=0.4005\n",
            "iter 6000: dev acc=0.3969\n",
            "iter 7000: dev acc=0.3978\n",
            "iter 8000: dev acc=0.3924\n",
            "Shuffling training data\n",
            "iter 9000: dev acc=0.3933\n",
            "iter 10000: dev acc=0.4142\n",
            "new highscore\n",
            "iter 11000: dev acc=0.4033\n",
            "iter 12000: dev acc=0.3887\n",
            "iter 13000: dev acc=0.3987\n",
            "iter 14000: dev acc=0.4005\n",
            "iter 15000: dev acc=0.4160\n",
            "new highscore\n",
            "iter 16000: dev acc=0.3951\n",
            "iter 17000: dev acc=0.4087\n",
            "Shuffling training data\n",
            "iter 18000: dev acc=0.4060\n",
            "iter 19000: dev acc=0.4114\n",
            "iter 20000: dev acc=0.4287\n",
            "new highscore\n",
            "Done training\n",
            "Loading best model\n",
            "best model iter 20000: train acc=0.4683, dev acc=0.4287, test acc=0.4290\n",
            "-------test case 1---------\n",
            "Shuffling training data\n",
            "iter 1000: dev acc=0.3433\n",
            "new highscore\n",
            "iter 2000: dev acc=0.3833\n",
            "new highscore\n",
            "iter 3000: dev acc=0.3933\n",
            "new highscore\n",
            "iter 4000: dev acc=0.4033\n",
            "new highscore\n",
            "iter 5000: dev acc=0.3887\n",
            "iter 6000: dev acc=0.4233\n",
            "new highscore\n",
            "iter 7000: dev acc=0.3969\n",
            "iter 8000: dev acc=0.3987\n",
            "Shuffling training data\n",
            "iter 9000: dev acc=0.3333\n",
            "iter 10000: dev acc=0.3996\n",
            "iter 11000: dev acc=0.4069\n",
            "iter 12000: dev acc=0.4015\n",
            "iter 13000: dev acc=0.4069\n",
            "iter 14000: dev acc=0.3579\n",
            "iter 15000: dev acc=0.4069\n",
            "iter 16000: dev acc=0.3996\n",
            "iter 17000: dev acc=0.4105\n",
            "Shuffling training data\n",
            "iter 18000: dev acc=0.4024\n",
            "iter 19000: dev acc=0.4187\n",
            "iter 20000: dev acc=0.4314\n",
            "new highscore\n",
            "Done training\n",
            "Loading best model\n",
            "best model iter 20000: train acc=0.4716, dev acc=0.4314, test acc=0.4362\n",
            "-------test case 2---------\n",
            "Shuffling training data\n",
            "iter 1000: dev acc=0.3642\n",
            "new highscore\n",
            "iter 2000: dev acc=0.4114\n",
            "new highscore\n",
            "iter 3000: dev acc=0.3878\n",
            "iter 4000: dev acc=0.3969\n",
            "iter 5000: dev acc=0.3896\n",
            "iter 6000: dev acc=0.4033\n",
            "iter 7000: dev acc=0.3896\n",
            "iter 8000: dev acc=0.3751\n",
            "Shuffling training data\n",
            "iter 9000: dev acc=0.3715\n",
            "iter 10000: dev acc=0.3960\n",
            "iter 11000: dev acc=0.3996\n",
            "iter 12000: dev acc=0.4033\n",
            "iter 13000: dev acc=0.4042\n",
            "iter 14000: dev acc=0.4096\n",
            "iter 15000: dev acc=0.4187\n",
            "new highscore\n",
            "iter 16000: dev acc=0.4142\n",
            "iter 17000: dev acc=0.4124\n",
            "Shuffling training data\n",
            "iter 18000: dev acc=0.3960\n",
            "iter 19000: dev acc=0.4114\n",
            "iter 20000: dev acc=0.4078\n",
            "Done training\n",
            "Loading best model\n",
            "best model iter 15000: train acc=0.4517, dev acc=0.4187, test acc=0.4330\n",
            "The accuracy of the model is 0.4327 +/- 0.0030\n"
          ],
          "name": "stdout"
        }
      ]
    },
    {
      "cell_type": "code",
      "metadata": {
        "scrolled": true,
        "id": "Te-PBAgLqV3a",
        "colab": {
          "base_uri": "https://localhost:8080/"
        },
        "outputId": "fdde2f67-9276-41d9-87df-9abf080cd286"
      },
      "source": [
        "print(\"Runing lstm model\")\n",
        "lstm_accs, lstm_models = train_with_different_seeds(gen_lstm, num_iterations=5000, \n",
        "                                      print_every=1000, eval_every=1000,\n",
        "                                      batch_size=25,\n",
        "                                      batch_fn=get_minibatch, \n",
        "                                      prep_fn=prepare_minibatch,\n",
        "                                      eval_fn=evaluate)"
      ],
      "execution_count": 102,
      "outputs": [
        {
          "output_type": "stream",
          "text": [
            "Runing lstm model\n",
            "-------test case 0---------\n",
            "Shuffling training\n",
            "Shuffling training\n",
            "Shuffling training\n",
            "iter 1000: dev acc=0.4441\n",
            "new highscore\n",
            "Shuffling training\n",
            "Shuffling training\n",
            "Shuffling training\n",
            "iter 2000: dev acc=0.4496\n",
            "new highscore\n",
            "Shuffling training\n",
            "Shuffling training\n",
            "Shuffling training\n",
            "iter 3000: dev acc=0.4596\n",
            "new highscore\n",
            "Shuffling training\n",
            "Shuffling training\n",
            "Shuffling training\n",
            "iter 4000: dev acc=0.4750\n",
            "new highscore\n",
            "Shuffling training\n",
            "Shuffling training\n",
            "Shuffling training\n",
            "iter 5000: dev acc=0.4596\n",
            "Done training\n",
            "Loading best model\n",
            "best model iter 4000: train acc=0.5714, dev acc=0.4750, test acc=0.4588\n",
            "-------test case 1---------\n",
            "Shuffling training\n",
            "Shuffling training\n",
            "Shuffling training\n",
            "iter 1000: dev acc=0.4251\n",
            "new highscore\n",
            "Shuffling training\n",
            "Shuffling training\n",
            "Shuffling training\n",
            "iter 2000: dev acc=0.4369\n",
            "new highscore\n",
            "Shuffling training\n",
            "Shuffling training\n",
            "Shuffling training\n",
            "iter 3000: dev acc=0.4578\n",
            "new highscore\n",
            "Shuffling training\n",
            "Shuffling training\n",
            "Shuffling training\n",
            "iter 4000: dev acc=0.4332\n",
            "Shuffling training\n",
            "Shuffling training\n",
            "Shuffling training\n",
            "iter 5000: dev acc=0.4578\n",
            "Done training\n",
            "Loading best model\n",
            "best model iter 3000: train acc=0.5393, dev acc=0.4578, test acc=0.4633\n",
            "-------test case 2---------\n",
            "Shuffling training\n",
            "Shuffling training\n",
            "Shuffling training\n",
            "iter 1000: dev acc=0.4033\n",
            "new highscore\n",
            "Shuffling training\n",
            "Shuffling training\n",
            "Shuffling training\n",
            "iter 2000: dev acc=0.4450\n",
            "new highscore\n",
            "Shuffling training\n",
            "Shuffling training\n",
            "Shuffling training\n",
            "iter 3000: dev acc=0.4550\n",
            "new highscore\n",
            "Shuffling training\n",
            "Shuffling training\n",
            "Shuffling training\n",
            "iter 4000: dev acc=0.4732\n",
            "new highscore\n",
            "Shuffling training\n",
            "Shuffling training\n",
            "Shuffling training\n",
            "iter 5000: dev acc=0.4578\n",
            "Done training\n",
            "Loading best model\n",
            "best model iter 4000: train acc=0.5778, dev acc=0.4732, test acc=0.4842\n",
            "The accuracy of the model is 0.4688 +/- 0.0110\n"
          ],
          "name": "stdout"
        }
      ]
    },
    {
      "cell_type": "code",
      "metadata": {
        "id": "uAuPM0X23T7N",
        "colab": {
          "base_uri": "https://localhost:8080/"
        },
        "outputId": "d6885c94-4fc2-4298-d0c3-0f651b9435f0"
      },
      "source": [
        "print(\"Runing tree-lstm model\")\n",
        "tree_lstm_accs, tree_lstm_models = train_with_different_seeds(gen_tree_lstm, num_iterations=5000, \n",
        "                                          print_every=250, eval_every=1000,\n",
        "                                          prep_fn=prepare_treelstm_minibatch,\n",
        "                                          eval_fn=evaluate,\n",
        "                                          batch_fn=get_minibatch,\n",
        "                                          batch_size=25, eval_batch_size=25)"
      ],
      "execution_count": 103,
      "outputs": [
        {
          "output_type": "stream",
          "text": [
            "Runing tree-lstm model\n",
            "-------test case 0---------\n",
            "Shuffling training\n",
            "Shuffling training\n",
            "Shuffling training\n",
            "iter 1000: dev acc=0.4405\n",
            "new highscore\n",
            "Shuffling training\n",
            "Shuffling training\n",
            "Shuffling training\n",
            "iter 2000: dev acc=0.4405\n",
            "Shuffling training\n",
            "Shuffling training\n",
            "Shuffling training\n",
            "iter 3000: dev acc=0.4496\n",
            "new highscore\n",
            "Shuffling training\n",
            "Shuffling training\n",
            "Shuffling training\n",
            "iter 4000: dev acc=0.4705\n",
            "new highscore\n",
            "Shuffling training\n",
            "Shuffling training\n",
            "Shuffling training\n",
            "iter 5000: dev acc=0.4541\n",
            "Done training\n",
            "Loading best model\n",
            "best model iter 4000: train acc=0.5684, dev acc=0.4705, test acc=0.4679\n",
            "-------test case 1---------\n",
            "Shuffling training\n",
            "Shuffling training\n",
            "Shuffling training\n",
            "iter 1000: dev acc=0.4214\n",
            "new highscore\n",
            "Shuffling training\n",
            "Shuffling training\n",
            "Shuffling training\n",
            "iter 2000: dev acc=0.4387\n",
            "new highscore\n",
            "Shuffling training\n",
            "Shuffling training\n",
            "Shuffling training\n",
            "iter 3000: dev acc=0.4587\n",
            "new highscore\n",
            "Shuffling training\n",
            "Shuffling training\n",
            "Shuffling training\n",
            "iter 4000: dev acc=0.4360\n",
            "Shuffling training\n",
            "Shuffling training\n",
            "Shuffling training\n",
            "iter 5000: dev acc=0.4523\n",
            "Done training\n",
            "Loading best model\n",
            "best model iter 3000: train acc=0.5308, dev acc=0.4587, test acc=0.4633\n",
            "-------test case 2---------\n",
            "Shuffling training\n",
            "Shuffling training\n",
            "Shuffling training\n",
            "iter 1000: dev acc=0.4260\n",
            "new highscore\n",
            "Shuffling training\n",
            "Shuffling training\n",
            "Shuffling training\n",
            "iter 2000: dev acc=0.4387\n",
            "new highscore\n",
            "Shuffling training\n",
            "Shuffling training\n",
            "Shuffling training\n",
            "iter 3000: dev acc=0.4405\n",
            "new highscore\n",
            "Shuffling training\n",
            "Shuffling training\n",
            "Shuffling training\n",
            "iter 4000: dev acc=0.4487\n",
            "new highscore\n",
            "Shuffling training\n",
            "Shuffling training\n",
            "Shuffling training\n",
            "iter 5000: dev acc=0.4487\n",
            "Done training\n",
            "Loading best model\n",
            "best model iter 4000: train acc=0.5774, dev acc=0.4487, test acc=0.4738\n",
            "The accuracy of the model is 0.4683 +/- 0.0043\n"
          ],
          "name": "stdout"
        }
      ]
    },
    {
      "cell_type": "code",
      "metadata": {
        "id": "uxcDIqQRxHj0"
      },
      "source": [
        "# from google.colab import drive\n",
        "# drive.mount('/gdrive')"
      ],
      "execution_count": null,
      "outputs": []
    },
    {
      "cell_type": "code",
      "metadata": {
        "id": "b3He2EsCtxQX"
      },
      "source": [
        "# save the models to disk\n",
        "import os\n",
        "def save_models(models, model_name,  dir = \"models\"):\n",
        "  for i, model in enumerate(models):\n",
        "    if not os.path.exists(dir):\n",
        "      os.mkdir(dir)\n",
        "    torch.save(model.state_dict(), os.path.join(dir, f\"{model_name}_best_model_{i}.pth\"))\n",
        "\n",
        "\n",
        "save_models(bow_models, \"bow\")\n",
        "save_models(cbow_models, \"cbow\")\n",
        "save_models(dbow_models, \"dbow\")\n",
        "save_models(dbow_with_pretrain_models, \"dbow_with_pretrain\")\n",
        "save_models(lstm_models, \"lstm\")\n",
        "save_models(tree_lstm_models, \"tree_lstm\")"
      ],
      "execution_count": 123,
      "outputs": []
    },
    {
      "cell_type": "code",
      "metadata": {
        "colab": {
          "base_uri": "https://localhost:8080/"
        },
        "id": "EbsjrHZ9y8e6",
        "outputId": "2c81d90d-3491-4174-eebf-9bdafe275045"
      },
      "source": [
        "from google.colab import drive\n",
        "drive.mount('/gdrive')"
      ],
      "execution_count": 125,
      "outputs": [
        {
          "output_type": "stream",
          "text": [
            "Mounted at /gdrive\n"
          ],
          "name": "stdout"
        }
      ]
    },
    {
      "cell_type": "code",
      "metadata": {
        "colab": {
          "base_uri": "https://localhost:8080/"
        },
        "id": "aESmCqZ6wOGY",
        "outputId": "701b6c1b-0f12-49d2-bc84-655dc42e1c76"
      },
      "source": [
        "#save model files to colab\n",
        "!cp -r \"./models/\" \"/gdrive/My Drive/models\"\n",
        "!ls \"/gdrive/My Drive/models\""
      ],
      "execution_count": 127,
      "outputs": [
        {
          "output_type": "stream",
          "text": [
            "bow_best_model_0.pth   dbow_with_pretrain_best_model_0.pth\n",
            "bow_best_model_1.pth   dbow_with_pretrain_best_model_1.pth\n",
            "bow_best_model_2.pth   dbow_with_pretrain_best_model_2.pth\n",
            "cbow_best_model_0.pth  lstm_best_model_0.pth\n",
            "cbow_best_model_1.pth  lstm_best_model_1.pth\n",
            "cbow_best_model_2.pth  lstm_best_model_2.pth\n",
            "dbow_best_model_0.pth  tree_lstm_best_model_0.pth\n",
            "dbow_best_model_1.pth  tree_lstm_best_model_1.pth\n",
            "dbow_best_model_2.pth  tree_lstm_best_model_2.pth\n"
          ],
          "name": "stdout"
        }
      ]
    },
    {
      "cell_type": "code",
      "metadata": {
        "colab": {
          "base_uri": "https://localhost:8080/"
        },
        "id": "pxKcxp27zw9k",
        "outputId": "33d5dce8-b105-49ae-c965-93cd5e22029f"
      },
      "source": [
        "#copy back\n",
        "# !cp -r \"/gdrive/My Drive/models\" \"./models/\"\n",
        "!ls \"./models/\"\n",
        "!zip -r \"./models.zip\" \"./models/\""
      ],
      "execution_count": 137,
      "outputs": [
        {
          "output_type": "stream",
          "text": [
            "bow_best_model_0.pth   dbow_with_pretrain_best_model_0.pth\n",
            "bow_best_model_1.pth   dbow_with_pretrain_best_model_1.pth\n",
            "bow_best_model_2.pth   dbow_with_pretrain_best_model_2.pth\n",
            "cbow_best_model_0.pth  lstm_best_model_0.pth\n",
            "cbow_best_model_1.pth  lstm_best_model_1.pth\n",
            "cbow_best_model_2.pth  lstm_best_model_2.pth\n",
            "dbow_best_model_0.pth  tree_lstm_best_model_0.pth\n",
            "dbow_best_model_1.pth  tree_lstm_best_model_1.pth\n",
            "dbow_best_model_2.pth  tree_lstm_best_model_2.pth\n",
            "  adding: models/ (stored 0%)\n",
            "  adding: models/cbow_best_model_0.pth (deflated 7%)\n",
            "  adding: models/dbow_with_pretrain_best_model_0.pth (deflated 9%)\n",
            "  adding: models/tree_lstm_best_model_1.pth (deflated 9%)\n",
            "  adding: models/cbow_best_model_2.pth (deflated 7%)\n",
            "  adding: models/dbow_with_pretrain_best_model_2.pth (deflated 9%)\n",
            "  adding: models/dbow_best_model_1.pth (deflated 7%)\n",
            "  adding: models/lstm_best_model_1.pth (deflated 9%)\n",
            "  adding: models/bow_best_model_2.pth (deflated 8%)\n",
            "  adding: models/dbow_best_model_0.pth (deflated 7%)\n",
            "  adding: models/tree_lstm_best_model_2.pth (deflated 9%)\n",
            "  adding: models/dbow_best_model_2.pth (deflated 7%)\n",
            "  adding: models/bow_best_model_1.pth (deflated 8%)\n",
            "  adding: models/bow_best_model_0.pth (deflated 8%)\n",
            "  adding: models/tree_lstm_best_model_0.pth (deflated 9%)\n",
            "  adding: models/lstm_best_model_0.pth (deflated 9%)\n",
            "  adding: models/lstm_best_model_2.pth (deflated 9%)\n",
            "  adding: models/dbow_with_pretrain_best_model_1.pth (deflated 9%)\n",
            "  adding: models/cbow_best_model_1.pth (deflated 7%)\n"
          ],
          "name": "stdout"
        }
      ]
    },
    {
      "cell_type": "code",
      "metadata": {
        "colab": {
          "base_uri": "https://localhost:8080/",
          "height": 16
        },
        "id": "DRrtOkGL3zOA",
        "outputId": "6014e44f-92bf-4759-f93b-18131b1bdcdb"
      },
      "source": [
        "from google.colab import files\n",
        "files.download('./models.zip')"
      ],
      "execution_count": 140,
      "outputs": [
        {
          "output_type": "display_data",
          "data": {
            "application/javascript": [
              "\n",
              "    async function download(id, filename, size) {\n",
              "      if (!google.colab.kernel.accessAllowed) {\n",
              "        return;\n",
              "      }\n",
              "      const div = document.createElement('div');\n",
              "      const label = document.createElement('label');\n",
              "      label.textContent = `Downloading \"${filename}\": `;\n",
              "      div.appendChild(label);\n",
              "      const progress = document.createElement('progress');\n",
              "      progress.max = size;\n",
              "      div.appendChild(progress);\n",
              "      document.body.appendChild(div);\n",
              "\n",
              "      const buffers = [];\n",
              "      let downloaded = 0;\n",
              "\n",
              "      const channel = await google.colab.kernel.comms.open(id);\n",
              "      // Send a message to notify the kernel that we're ready.\n",
              "      channel.send({})\n",
              "\n",
              "      for await (const message of channel.messages) {\n",
              "        // Send a message to notify the kernel that we're ready.\n",
              "        channel.send({})\n",
              "        if (message.buffers) {\n",
              "          for (const buffer of message.buffers) {\n",
              "            buffers.push(buffer);\n",
              "            downloaded += buffer.byteLength;\n",
              "            progress.value = downloaded;\n",
              "          }\n",
              "        }\n",
              "      }\n",
              "      const blob = new Blob(buffers, {type: 'application/binary'});\n",
              "      const a = document.createElement('a');\n",
              "      a.href = window.URL.createObjectURL(blob);\n",
              "      a.download = filename;\n",
              "      div.appendChild(a);\n",
              "      a.click();\n",
              "      div.remove();\n",
              "    }\n",
              "  "
            ],
            "text/plain": [
              "<IPython.core.display.Javascript object>"
            ]
          },
          "metadata": {
            "tags": []
          }
        },
        {
          "output_type": "display_data",
          "data": {
            "application/javascript": [
              "download(\"download_1f85f05b-6739-47a9-b638-80d6d072c77f\", \"models.zip\", 335508357)"
            ],
            "text/plain": [
              "<IPython.core.display.Javascript object>"
            ]
          },
          "metadata": {
            "tags": []
          }
        }
      ]
    },
    {
      "cell_type": "markdown",
      "metadata": {
        "id": "vtVpEEQxqV3a"
      },
      "source": [
        "### Word order"
      ]
    },
    {
      "cell_type": "code",
      "metadata": {
        "id": "dWL1hlNvqV3b"
      },
      "source": [
        "# print(\"The BOW Model:\")\n",
        "# bow_model_shuffle = BOW(len(v_train.w2i), len(t2i), vocab = v_train)\n",
        "# bow_model_shuffle = bow_model_shuffle.to(device)\n",
        "\n",
        "# optimizer = optim.Adam(bow_model_shuffle.parameters(), lr=0.0005)\n",
        "# bow_losses_shuffle, bow_accuracies_shuffle = train_model(\n",
        "#     bow_model_shuffle, optimizer, num_iterations=30000, \n",
        "#     print_every=1000, eval_every=1000, shuffle = \"True\")\n",
        "\n",
        "# print('\\n')\n",
        "# print(\"The CBOW Model:\")\n",
        "# cbow_model_shuffle = CBOW(len(v.w2i), len(t2i), vocab=v_train, embedding_dim = 300)\n",
        "# cbow_model_shuffle = cbow_model_shuffle.to(device)\n",
        "\n",
        "# optimizer = optim.Adam(cbow_model_shuffle.parameters(), lr=0.0005)\n",
        "# cbow_losses_shuffle, cbow_accuracies_shuffle = train_model(\n",
        "#     cbow_model_shuffle, optimizer, num_iterations=30000, \n",
        "#     print_every=1000, eval_every=1000, shuffle = \"True\")\n",
        "\n",
        "# print('\\n')\n",
        "# print(\"The DBOW Model:\")\n",
        "# dbow_model_shuffle = DeepCBOW(len(v.w2i), len(t2i), vocab=v_train, embedding_dim = 300)\n",
        "# dbow_model_shuffle = dbow_model_shuffle.to(device)\n",
        "\n",
        "# optimizer = optim.Adam(dbow_model_shuffle.parameters(), lr=0.0005)\n",
        "# dbow_losses_shuffle, dbow_accuracies_shuffle = train_model(\n",
        "#     dbow_model_shuffle, optimizer, num_iterations=30000, \n",
        "#     print_every=1000, eval_every=1000, shuffle = \"True\")\n",
        "\n",
        "print('\\n')\n",
        "print(\"The LSTM Model:\")\n",
        "lstm_model_shuffle = LSTMClassifier(len(v.w2i), 300, 168, len(t2i), v)\n",
        "\n",
        "# copy pre-trained word vectors into embeddings table\n",
        "with torch.no_grad():\n",
        "  lstm_model_shuffle.embed.weight.data.copy_(torch.from_numpy(vectors))\n",
        "  lstm_model_shuffle.embed.weight.requires_grad = False\n",
        "\n",
        "print_parameters(lstm_model)\n",
        "\n",
        "lstm_model_shuffle = lstm_model_shuffle.to(device)\n",
        "optimizer = optim.Adam(lstm_model_shuffle.parameters(), lr=3e-4)\n",
        "\n",
        "lstm_losses_shuffle, lstm_accuracies_shuffle = train_model(\n",
        "    lstm_model_shuffle, optimizer, num_iterations=30000, \n",
        "    print_every=250, eval_every=1000, shuffle = \"True\")\n",
        "\n",
        "# print('\\n')\n",
        "# print(\"The Tree LSTM Model:\")\n",
        "# tree_model_shuffle = TreeLSTMClassifier(\n",
        "#     len(v.w2i), 300, 150, len(t2i), v)\n",
        "\n",
        "# with torch.no_grad():\n",
        "#   tree_model_shuffle.embed.weight.data.copy_(torch.from_numpy(vectors))\n",
        "#   tree_model_shuffle.embed.weight.requires_grad = False\n",
        "  \n",
        "# def do_train(model):\n",
        "  \n",
        "#   print(model)\n",
        "#   print_parameters(model)\n",
        "\n",
        "#   model = model.to(device)\n",
        "\n",
        "#   optimizer = optim.Adam(model.parameters(), lr=2e-4)\n",
        "  \n",
        "#   return train_model(\n",
        "#       model, optimizer, num_iterations=30000, \n",
        "#       print_every=250, eval_every=1000,\n",
        "#       prep_fn=prepare_treelstm_minibatch,\n",
        "#       eval_fn=evaluate,\n",
        "#       batch_fn=get_minibatch,\n",
        "#       batch_size=25, eval_batch_size=25)\n",
        "  \n",
        "# results = do_train(tree_model_shuffle)"
      ],
      "execution_count": null,
      "outputs": []
    },
    {
      "cell_type": "code",
      "metadata": {
        "id": "x0_o7sYTda8z",
        "outputId": "533817e2-4d41-40ad-8b7e-95e2bd1dc1c7",
        "colab": {
          "base_uri": "https://localhost:8080/",
          "height": 406
        }
      },
      "source": [
        "print(\"Runing shuffle-tree-lstm model\")\n",
        "shuffle_tree_lstm_accs, shuffle_tree_lstm_models = train_with_different_seeds(gen_tree_lstm, num_iterations=5000, \n",
        "                                          print_every=250, eval_every=1000,\n",
        "                                          prep_fn=prepare_treelstm_minibatch,\n",
        "                                          eval_fn=evaluate,\n",
        "                                          batch_fn=get_minibatch,\n",
        "                                          batch_size=25, eval_batch_size=25)"
      ],
      "execution_count": 219,
      "outputs": [
        {
          "output_type": "stream",
          "text": [
            "Runing shuffle-tree-lstm model\n",
            "-------test case 0---------\n",
            "Shuffling training\n"
          ],
          "name": "stdout"
        },
        {
          "output_type": "error",
          "ename": "KeyboardInterrupt",
          "evalue": "ignored",
          "traceback": [
            "\u001b[0;31m---------------------------------------------------------------------------\u001b[0m",
            "\u001b[0;31mKeyboardInterrupt\u001b[0m                         Traceback (most recent call last)",
            "\u001b[0;32m<ipython-input-219-ae9cc7daeb64>\u001b[0m in \u001b[0;36m<module>\u001b[0;34m()\u001b[0m\n\u001b[1;32m      5\u001b[0m                                           \u001b[0meval_fn\u001b[0m\u001b[0;34m=\u001b[0m\u001b[0mevaluate\u001b[0m\u001b[0;34m,\u001b[0m\u001b[0;34m\u001b[0m\u001b[0;34m\u001b[0m\u001b[0m\n\u001b[1;32m      6\u001b[0m                                           \u001b[0mbatch_fn\u001b[0m\u001b[0;34m=\u001b[0m\u001b[0mget_minibatch\u001b[0m\u001b[0;34m,\u001b[0m\u001b[0;34m\u001b[0m\u001b[0;34m\u001b[0m\u001b[0m\n\u001b[0;32m----> 7\u001b[0;31m                                           batch_size=25, eval_batch_size=25)\n\u001b[0m",
            "\u001b[0;32m<ipython-input-93-f6b35c4515d4>\u001b[0m in \u001b[0;36mtrain_with_different_seeds\u001b[0;34m(gen_model, num_seed, num_iterations, print_every, eval_every, batch_fn, prep_fn, eval_fn, batch_size, eval_batch_size, train_data)\u001b[0m\n\u001b[1;32m     26\u001b[0m     test_acc = train_for_testing(model, optimizer, num_iterations, \n\u001b[1;32m     27\u001b[0m                 \u001b[0mprint_every\u001b[0m\u001b[0;34m,\u001b[0m \u001b[0meval_every\u001b[0m\u001b[0;34m,\u001b[0m \u001b[0mbatch_fn\u001b[0m\u001b[0;34m,\u001b[0m \u001b[0mprep_fn\u001b[0m\u001b[0;34m,\u001b[0m\u001b[0;34m\u001b[0m\u001b[0;34m\u001b[0m\u001b[0m\n\u001b[0;32m---> 28\u001b[0;31m                 eval_fn,batch_size, eval_batch_size, train_data)\n\u001b[0m\u001b[1;32m     29\u001b[0m     \u001b[0mtest_accs\u001b[0m\u001b[0;34m.\u001b[0m\u001b[0mappend\u001b[0m\u001b[0;34m(\u001b[0m\u001b[0mtest_acc\u001b[0m\u001b[0;34m)\u001b[0m\u001b[0;34m\u001b[0m\u001b[0;34m\u001b[0m\u001b[0m\n\u001b[1;32m     30\u001b[0m     \u001b[0mbest_models\u001b[0m\u001b[0;34m.\u001b[0m\u001b[0mappend\u001b[0m\u001b[0;34m(\u001b[0m\u001b[0mmodel\u001b[0m\u001b[0;34m)\u001b[0m\u001b[0;34m\u001b[0m\u001b[0;34m\u001b[0m\u001b[0m\n",
            "\u001b[0;32m<ipython-input-92-c68478929fad>\u001b[0m in \u001b[0;36mtrain_for_testing\u001b[0;34m(model, optimizer, num_iterations, print_every, eval_every, batch_fn, prep_fn, eval_fn, batch_size, eval_batch_size, train_data)\u001b[0m\n\u001b[1;32m     30\u001b[0m       \u001b[0mmodel\u001b[0m\u001b[0;34m.\u001b[0m\u001b[0mtrain\u001b[0m\u001b[0;34m(\u001b[0m\u001b[0;34m)\u001b[0m\u001b[0;34m\u001b[0m\u001b[0;34m\u001b[0m\u001b[0m\n\u001b[1;32m     31\u001b[0m       \u001b[0mx\u001b[0m\u001b[0;34m,\u001b[0m \u001b[0mtargets\u001b[0m \u001b[0;34m=\u001b[0m \u001b[0mprep_fn\u001b[0m\u001b[0;34m(\u001b[0m\u001b[0mbatch\u001b[0m\u001b[0;34m,\u001b[0m \u001b[0mmodel\u001b[0m\u001b[0;34m.\u001b[0m\u001b[0mvocab\u001b[0m\u001b[0;34m)\u001b[0m\u001b[0;34m\u001b[0m\u001b[0;34m\u001b[0m\u001b[0m\n\u001b[0;32m---> 32\u001b[0;31m       \u001b[0mlogits\u001b[0m \u001b[0;34m=\u001b[0m \u001b[0mmodel\u001b[0m\u001b[0;34m(\u001b[0m\u001b[0mx\u001b[0m\u001b[0;34m)\u001b[0m\u001b[0;34m\u001b[0m\u001b[0;34m\u001b[0m\u001b[0m\n\u001b[0m\u001b[1;32m     33\u001b[0m \u001b[0;34m\u001b[0m\u001b[0m\n\u001b[1;32m     34\u001b[0m       \u001b[0mB\u001b[0m \u001b[0;34m=\u001b[0m \u001b[0mtargets\u001b[0m\u001b[0;34m.\u001b[0m\u001b[0msize\u001b[0m\u001b[0;34m(\u001b[0m\u001b[0;36m0\u001b[0m\u001b[0;34m)\u001b[0m  \u001b[0;31m# later we will use B examples per update\u001b[0m\u001b[0;34m\u001b[0m\u001b[0;34m\u001b[0m\u001b[0m\n",
            "\u001b[0;32m/usr/local/lib/python3.6/dist-packages/torch/nn/modules/module.py\u001b[0m in \u001b[0;36m_call_impl\u001b[0;34m(self, *input, **kwargs)\u001b[0m\n\u001b[1;32m    725\u001b[0m             \u001b[0mresult\u001b[0m \u001b[0;34m=\u001b[0m \u001b[0mself\u001b[0m\u001b[0;34m.\u001b[0m\u001b[0m_slow_forward\u001b[0m\u001b[0;34m(\u001b[0m\u001b[0;34m*\u001b[0m\u001b[0minput\u001b[0m\u001b[0;34m,\u001b[0m \u001b[0;34m**\u001b[0m\u001b[0mkwargs\u001b[0m\u001b[0;34m)\u001b[0m\u001b[0;34m\u001b[0m\u001b[0;34m\u001b[0m\u001b[0m\n\u001b[1;32m    726\u001b[0m         \u001b[0;32melse\u001b[0m\u001b[0;34m:\u001b[0m\u001b[0;34m\u001b[0m\u001b[0;34m\u001b[0m\u001b[0m\n\u001b[0;32m--> 727\u001b[0;31m             \u001b[0mresult\u001b[0m \u001b[0;34m=\u001b[0m \u001b[0mself\u001b[0m\u001b[0;34m.\u001b[0m\u001b[0mforward\u001b[0m\u001b[0;34m(\u001b[0m\u001b[0;34m*\u001b[0m\u001b[0minput\u001b[0m\u001b[0;34m,\u001b[0m \u001b[0;34m**\u001b[0m\u001b[0mkwargs\u001b[0m\u001b[0;34m)\u001b[0m\u001b[0;34m\u001b[0m\u001b[0;34m\u001b[0m\u001b[0m\n\u001b[0m\u001b[1;32m    728\u001b[0m         for hook in itertools.chain(\n\u001b[1;32m    729\u001b[0m                 \u001b[0m_global_forward_hooks\u001b[0m\u001b[0;34m.\u001b[0m\u001b[0mvalues\u001b[0m\u001b[0;34m(\u001b[0m\u001b[0;34m)\u001b[0m\u001b[0;34m,\u001b[0m\u001b[0;34m\u001b[0m\u001b[0;34m\u001b[0m\u001b[0m\n",
            "\u001b[0;32m<ipython-input-87-16b784492014>\u001b[0m in \u001b[0;36mforward\u001b[0;34m(self, x)\u001b[0m\n\u001b[1;32m     21\u001b[0m \u001b[0;34m\u001b[0m\u001b[0m\n\u001b[1;32m     22\u001b[0m     \u001b[0;31m# we use the root/top state of the Tree LSTM to classify the sentence\u001b[0m\u001b[0;34m\u001b[0m\u001b[0;34m\u001b[0m\u001b[0;34m\u001b[0m\u001b[0m\n\u001b[0;32m---> 23\u001b[0;31m     \u001b[0mroot_states\u001b[0m \u001b[0;34m=\u001b[0m \u001b[0mself\u001b[0m\u001b[0;34m.\u001b[0m\u001b[0mtreelstm\u001b[0m\u001b[0;34m(\u001b[0m\u001b[0memb\u001b[0m\u001b[0;34m,\u001b[0m \u001b[0mtransitions\u001b[0m\u001b[0;34m)\u001b[0m\u001b[0;34m\u001b[0m\u001b[0;34m\u001b[0m\u001b[0m\n\u001b[0m\u001b[1;32m     24\u001b[0m \u001b[0;34m\u001b[0m\u001b[0m\n\u001b[1;32m     25\u001b[0m     \u001b[0;31m# we use the last hidden state to classify the sentence\u001b[0m\u001b[0;34m\u001b[0m\u001b[0;34m\u001b[0m\u001b[0;34m\u001b[0m\u001b[0m\n",
            "\u001b[0;32m/usr/local/lib/python3.6/dist-packages/torch/nn/modules/module.py\u001b[0m in \u001b[0;36m_call_impl\u001b[0;34m(self, *input, **kwargs)\u001b[0m\n\u001b[1;32m    725\u001b[0m             \u001b[0mresult\u001b[0m \u001b[0;34m=\u001b[0m \u001b[0mself\u001b[0m\u001b[0;34m.\u001b[0m\u001b[0m_slow_forward\u001b[0m\u001b[0;34m(\u001b[0m\u001b[0;34m*\u001b[0m\u001b[0minput\u001b[0m\u001b[0;34m,\u001b[0m \u001b[0;34m**\u001b[0m\u001b[0mkwargs\u001b[0m\u001b[0;34m)\u001b[0m\u001b[0;34m\u001b[0m\u001b[0;34m\u001b[0m\u001b[0m\n\u001b[1;32m    726\u001b[0m         \u001b[0;32melse\u001b[0m\u001b[0;34m:\u001b[0m\u001b[0;34m\u001b[0m\u001b[0;34m\u001b[0m\u001b[0m\n\u001b[0;32m--> 727\u001b[0;31m             \u001b[0mresult\u001b[0m \u001b[0;34m=\u001b[0m \u001b[0mself\u001b[0m\u001b[0;34m.\u001b[0m\u001b[0mforward\u001b[0m\u001b[0;34m(\u001b[0m\u001b[0;34m*\u001b[0m\u001b[0minput\u001b[0m\u001b[0;34m,\u001b[0m \u001b[0;34m**\u001b[0m\u001b[0mkwargs\u001b[0m\u001b[0;34m)\u001b[0m\u001b[0;34m\u001b[0m\u001b[0;34m\u001b[0m\u001b[0m\n\u001b[0m\u001b[1;32m    728\u001b[0m         for hook in itertools.chain(\n\u001b[1;32m    729\u001b[0m                 \u001b[0m_global_forward_hooks\u001b[0m\u001b[0;34m.\u001b[0m\u001b[0mvalues\u001b[0m\u001b[0;34m(\u001b[0m\u001b[0;34m)\u001b[0m\u001b[0;34m,\u001b[0m\u001b[0;34m\u001b[0m\u001b[0;34m\u001b[0m\u001b[0m\n",
            "\u001b[0;32m<ipython-input-86-757145164fb2>\u001b[0m in \u001b[0;36mforward\u001b[0;34m(self, x, transitions)\u001b[0m\n\u001b[1;32m     68\u001b[0m       \u001b[0;31m# if there are sentences with reduce transition, perform them batched\u001b[0m\u001b[0;34m\u001b[0m\u001b[0;34m\u001b[0m\u001b[0;34m\u001b[0m\u001b[0m\n\u001b[1;32m     69\u001b[0m       \u001b[0;32mif\u001b[0m \u001b[0mchild_l\u001b[0m\u001b[0;34m:\u001b[0m\u001b[0;34m\u001b[0m\u001b[0;34m\u001b[0m\u001b[0m\n\u001b[0;32m---> 70\u001b[0;31m         \u001b[0mreduced\u001b[0m \u001b[0;34m=\u001b[0m \u001b[0miter\u001b[0m\u001b[0;34m(\u001b[0m\u001b[0munbatch\u001b[0m\u001b[0;34m(\u001b[0m\u001b[0mself\u001b[0m\u001b[0;34m.\u001b[0m\u001b[0mreduce\u001b[0m\u001b[0;34m(\u001b[0m\u001b[0mbatch\u001b[0m\u001b[0;34m(\u001b[0m\u001b[0mchild_l\u001b[0m\u001b[0;34m)\u001b[0m\u001b[0;34m,\u001b[0m \u001b[0mbatch\u001b[0m\u001b[0;34m(\u001b[0m\u001b[0mchild_r\u001b[0m\u001b[0;34m)\u001b[0m\u001b[0;34m)\u001b[0m\u001b[0;34m)\u001b[0m\u001b[0;34m)\u001b[0m\u001b[0;34m\u001b[0m\u001b[0;34m\u001b[0m\u001b[0m\n\u001b[0m\u001b[1;32m     71\u001b[0m         \u001b[0;32mfor\u001b[0m \u001b[0mtransition\u001b[0m\u001b[0;34m,\u001b[0m \u001b[0mstack\u001b[0m \u001b[0;32min\u001b[0m \u001b[0mzip\u001b[0m\u001b[0;34m(\u001b[0m\u001b[0mt_batch\u001b[0m\u001b[0;34m,\u001b[0m \u001b[0mstacks\u001b[0m\u001b[0;34m)\u001b[0m\u001b[0;34m:\u001b[0m\u001b[0;34m\u001b[0m\u001b[0;34m\u001b[0m\u001b[0m\n\u001b[1;32m     72\u001b[0m           \u001b[0;32mif\u001b[0m \u001b[0mtransition\u001b[0m \u001b[0;34m==\u001b[0m \u001b[0mREDUCE\u001b[0m\u001b[0;34m:\u001b[0m\u001b[0;34m\u001b[0m\u001b[0;34m\u001b[0m\u001b[0m\n",
            "\u001b[0;32m/usr/local/lib/python3.6/dist-packages/torch/nn/modules/module.py\u001b[0m in \u001b[0;36m_call_impl\u001b[0;34m(self, *input, **kwargs)\u001b[0m\n\u001b[1;32m    725\u001b[0m             \u001b[0mresult\u001b[0m \u001b[0;34m=\u001b[0m \u001b[0mself\u001b[0m\u001b[0;34m.\u001b[0m\u001b[0m_slow_forward\u001b[0m\u001b[0;34m(\u001b[0m\u001b[0;34m*\u001b[0m\u001b[0minput\u001b[0m\u001b[0;34m,\u001b[0m \u001b[0;34m**\u001b[0m\u001b[0mkwargs\u001b[0m\u001b[0;34m)\u001b[0m\u001b[0;34m\u001b[0m\u001b[0;34m\u001b[0m\u001b[0m\n\u001b[1;32m    726\u001b[0m         \u001b[0;32melse\u001b[0m\u001b[0;34m:\u001b[0m\u001b[0;34m\u001b[0m\u001b[0;34m\u001b[0m\u001b[0m\n\u001b[0;32m--> 727\u001b[0;31m             \u001b[0mresult\u001b[0m \u001b[0;34m=\u001b[0m \u001b[0mself\u001b[0m\u001b[0;34m.\u001b[0m\u001b[0mforward\u001b[0m\u001b[0;34m(\u001b[0m\u001b[0;34m*\u001b[0m\u001b[0minput\u001b[0m\u001b[0;34m,\u001b[0m \u001b[0;34m**\u001b[0m\u001b[0mkwargs\u001b[0m\u001b[0;34m)\u001b[0m\u001b[0;34m\u001b[0m\u001b[0;34m\u001b[0m\u001b[0m\n\u001b[0m\u001b[1;32m    728\u001b[0m         for hook in itertools.chain(\n\u001b[1;32m    729\u001b[0m                 \u001b[0m_global_forward_hooks\u001b[0m\u001b[0;34m.\u001b[0m\u001b[0mvalues\u001b[0m\u001b[0;34m(\u001b[0m\u001b[0;34m)\u001b[0m\u001b[0;34m,\u001b[0m\u001b[0;34m\u001b[0m\u001b[0;34m\u001b[0m\u001b[0m\n",
            "\u001b[0;32m<ipython-input-84-7230c20e6d62>\u001b[0m in \u001b[0;36mforward\u001b[0;34m(self, hx_l, hx_r, mask)\u001b[0m\n\u001b[1;32m     40\u001b[0m \u001b[0;34m\u001b[0m\u001b[0m\n\u001b[1;32m     41\u001b[0m     \u001b[0;31m# each shape: B x D\u001b[0m\u001b[0;34m\u001b[0m\u001b[0;34m\u001b[0m\u001b[0;34m\u001b[0m\u001b[0m\n\u001b[0;32m---> 42\u001b[0;31m     \u001b[0mi\u001b[0m\u001b[0;34m,\u001b[0m \u001b[0mf_l\u001b[0m\u001b[0;34m,\u001b[0m \u001b[0mf_r\u001b[0m\u001b[0;34m,\u001b[0m \u001b[0mg\u001b[0m\u001b[0;34m,\u001b[0m \u001b[0mo\u001b[0m \u001b[0;34m=\u001b[0m \u001b[0mtorch\u001b[0m\u001b[0;34m.\u001b[0m\u001b[0mchunk\u001b[0m\u001b[0;34m(\u001b[0m\u001b[0mproj\u001b[0m\u001b[0;34m,\u001b[0m \u001b[0;36m5\u001b[0m\u001b[0;34m,\u001b[0m \u001b[0mdim\u001b[0m\u001b[0;34m=\u001b[0m\u001b[0;34m-\u001b[0m\u001b[0;36m1\u001b[0m\u001b[0;34m)\u001b[0m\u001b[0;34m\u001b[0m\u001b[0;34m\u001b[0m\u001b[0m\n\u001b[0m\u001b[1;32m     43\u001b[0m \u001b[0;34m\u001b[0m\u001b[0m\n\u001b[1;32m     44\u001b[0m     \u001b[0;31m# main Tree LSTM computation\u001b[0m\u001b[0;34m\u001b[0m\u001b[0;34m\u001b[0m\u001b[0;34m\u001b[0m\u001b[0m\n",
            "\u001b[0;31mKeyboardInterrupt\u001b[0m: "
          ]
        }
      ]
    },
    {
      "cell_type": "code",
      "metadata": {
        "id": "79kG4CrBqV3b"
      },
      "source": [
        "# For the first research question, we wish to analyze whether shuffling the order of the words in a sentence changes the models'\n",
        "# performance. Thus, we can identify which models take into account the syntactic structure of the sentences\n",
        "\n",
        "\n",
        "plt.plot(bow_accuracies, label = 'BOW')\n",
        "plt.plot(cbow_accuracies, label = 'CBOW')\n",
        "plt.plot(dbow_accuracies, label = 'DBOW')\n",
        "plt.plot(lstm_accuracies, label = 'LSTM')\n",
        "# plt.plot(lstm_accuracies_tree, label = 'Tree LSTM')\n",
        "\n",
        "plt.plot(bow_accuracies_shuffle, '--', label = 'BOW Shuffle', color = '#1f77b4')\n",
        "plt.plot(cbow_accuracies_shuffle, '--', label = 'CBOW Shuffle', color = '#ff7f0e')\n",
        "plt.plot(dbow_accuracies_shuffle, '--', label = 'DBOW Shuffle', color = '#2ca02c')\n",
        "plt.plot(lstm_accuracies_shuffle, '--', label = 'LSTM Shuffle', color = '#d62728')\n",
        "plt.legend(bbox_to_anchor = (1.05, 1), loc = 'upper left')"
      ],
      "execution_count": null,
      "outputs": []
    },
    {
      "cell_type": "markdown",
      "metadata": {
        "id": "g7VM_4oyqV3b"
      },
      "source": [
        "### Further investigations : Child-Sum LSTM"
      ]
    },
    {
      "cell_type": "code",
      "metadata": {
        "id": "ME5TvWw2qV3c"
      },
      "source": [
        "class ChildSumTreeLSTMCell(nn.Module):\n",
        "  \"\"\"A Binary Tree LSTM cell\"\"\"\n",
        "\n",
        "  def __init__(self, input_size, hidden_size, bias=True):\n",
        "    \"\"\"Creates the weights for this LSTM\"\"\"\n",
        "    super(ChildSumTreeLSTMCell, self).__init__()\n",
        "\n",
        "    self.input_size = input_size\n",
        "    self.hidden_size = hidden_size\n",
        "    self.bias = bias\n",
        "\n",
        "    self.reduce_layer = nn.Linear(hidden_size, 3 * hidden_size)\n",
        "    self.forget_left_layer = nn.Linear(hidden_size, hidden_size)\n",
        "    self.forget_right_layer = nn.Linear(hidden_size, hidden_size)\n",
        "    self.dropout_layer = nn.Dropout(p=0.25)\n",
        "\n",
        "    self.reset_parameters()\n",
        "\n",
        "  def reset_parameters(self):\n",
        "    \"\"\"This is PyTorch's default initialization method\"\"\"\n",
        "    stdv = 1.0 / math.sqrt(self.hidden_size)\n",
        "    for weight in self.parameters():\n",
        "      weight.data.uniform_(-stdv, stdv)  \n",
        "\n",
        "  def forward(self, hx_l, hx_r, mask=None):\n",
        "    \"\"\"\n",
        "    hx_l is ((batch, hidden_size), (batch, hidden_size))\n",
        "    hx_r is ((batch, hidden_size), (batch, hidden_size))    \n",
        "    \"\"\"\n",
        "    prev_h_l, prev_c_l = hx_l  # left child\n",
        "    prev_h_r, prev_c_r = hx_r  # right child\n",
        "\n",
        "    B = prev_h_l.size(0)\n",
        "\n",
        "    h_tilde = prev_h_l + prev_h_r\n",
        "    \n",
        "    proj = self.reduce_layer(h_tilde)\n",
        "    f_l = self.forget_left_layer(prev_h_l)\n",
        "    f_r = self.forget_right_layer(prev_h_r)\n",
        "\n",
        "    i, g, o = torch.chunk(proj, 3, dim=-1)\n",
        "\n",
        "    i = torch.sigmoid(i)\n",
        "    f_l = torch.sigmoid(f_l) \n",
        "    f_r = torch.sigmoid(f_r)\n",
        "    g = torch.tanh(g)   \n",
        "    o = torch.sigmoid(i)\n",
        "\n",
        "    c = f_l * prev_c_l + f_r * prev_c_r + i * g\n",
        "    h = o * torch.tanh(c)\n",
        "    \n",
        "    return h, c\n",
        "  \n",
        "  def __repr__(self):\n",
        "    return \"{}({:d}, {:d})\".format(\n",
        "        self.__class__.__name__, self.input_size, self.hidden_size)"
      ],
      "execution_count": 196,
      "outputs": []
    },
    {
      "cell_type": "code",
      "metadata": {
        "id": "VYx-UiApqV3c"
      },
      "source": [
        "class ChildSumTreeLSTM(nn.Module):\n",
        "  \"\"\"Encodes a sentence using a ChildTreeSumLSTMCell\"\"\"\n",
        "\n",
        "  def __init__(self, input_size, hidden_size, bias=True):\n",
        "    \"\"\"Creates the weights for this LSTM\"\"\"\n",
        "    super(ChildSumTreeLSTM, self).__init__()\n",
        "\n",
        "    self.input_size = input_size\n",
        "    self.hidden_size = hidden_size\n",
        "    self.bias = bias\n",
        "    self.reduce = ChildSumTreeLSTMCell(input_size, hidden_size)\n",
        "\n",
        "    self.proj_x = nn.Linear(input_size, hidden_size)\n",
        "    self.proj_x_gate = nn.Linear(input_size, hidden_size)\n",
        "    \n",
        "    self.buffers_dropout = nn.Dropout(p=0.5)\n",
        "\n",
        "  def forward(self, x, transitions):\n",
        "    \"\"\"\n",
        "    WARNING: assuming x is reversed!\n",
        "    :param x: word embeddings [B, T, E]\n",
        "    :param transitions: [2T-1, B]\n",
        "    :return: root states\n",
        "    \"\"\"\n",
        "\n",
        "    B = x.size(0)  # batch size\n",
        "    T = x.size(1)  # time\n",
        "\n",
        "    buffers_c = self.proj_x(x)\n",
        "    buffers_h = buffers_c.tanh()\n",
        "    buffers_h_gate = self.proj_x_gate(x).sigmoid()\n",
        "    buffers_h = buffers_h_gate * buffers_h\n",
        "    \n",
        "    buffers = torch.cat([buffers_h, buffers_c], dim=-1)\n",
        "\n",
        "    D = buffers.size(-1) // 2\n",
        "\n",
        "    buffers = buffers.split(1, dim=0) \n",
        "    buffers = [list(b.squeeze(0).split(1, dim=0)) for b in buffers ]\n",
        "\n",
        "    # create B empty stacks\n",
        "    stacks = [[] for _ in buffers]\n",
        "\n",
        "    # t_batch holds 1 transition for each sentence\n",
        "    for t_batch in transitions:\n",
        "\n",
        "      child_l = []  # contains the left child for each sentence with reduce action\n",
        "      child_r = []  # contains the corresponding right child\n",
        "\n",
        "      for transition, buffer, stack in zip(t_batch, buffers, stacks):\n",
        "        if transition == SHIFT:\n",
        "          stack.append(buffer.pop())\n",
        "        elif transition == REDUCE:\n",
        "          assert len(stack) >= 2, \\\n",
        "            \"Stack too small! Should not happen with valid transition sequences\"\n",
        "          child_r.append(stack.pop())  # right child is on top\n",
        "          child_l.append(stack.pop())\n",
        "\n",
        "      if child_l:\n",
        "        reduced = iter(unbatch(self.reduce(batch(child_l), batch(child_r))))\n",
        "        for transition, stack in zip(t_batch, stacks):\n",
        "          if transition == REDUCE:\n",
        "            stack.append(next(reduced))\n",
        "\n",
        "    final = [stack.pop().chunk(2, -1)[0] for stack in stacks]\n",
        "    final = torch.cat(final, dim=0)  # tensor [B, D]\n",
        "\n",
        "    return final"
      ],
      "execution_count": 198,
      "outputs": []
    },
    {
      "cell_type": "code",
      "metadata": {
        "id": "Mi9eNUH7qV3c"
      },
      "source": [
        "class ChildSumTreeLSTMClassifier(nn.Module):\n",
        "  \"\"\"Encodes sentence with a TreeLSTM and projects final hidden state\"\"\"\n",
        "\n",
        "  def __init__(self, vocab_size, embedding_dim, hidden_dim, output_dim, vocab):\n",
        "    super(ChildSumTreeLSTMClassifier, self).__init__()\n",
        "    self.vocab = vocab\n",
        "    self.hidden_dim = hidden_dim\n",
        "    self.embed = nn.Embedding(vocab_size, embedding_dim, padding_idx=1)\n",
        "    self.treelstm = ChildSumTreeLSTM(embedding_dim, hidden_dim)\n",
        "    self.output_layer = nn.Sequential(     \n",
        "        nn.Dropout(p=0.5),\n",
        "        nn.Linear(hidden_dim, output_dim, bias=True)\n",
        "    )\n",
        "\n",
        "  def forward(self, x):\n",
        "\n",
        "    x, transitions = x\n",
        "    emb = self.embed(x)\n",
        "\n",
        "    root_states = self.treelstm(emb, transitions)\n",
        "\n",
        "    logits = self.output_layer(root_states)\n",
        "    return logits"
      ],
      "execution_count": 199,
      "outputs": []
    },
    {
      "cell_type": "code",
      "metadata": {
        "id": "DmA7RzPdqV3c"
      },
      "source": [
        "# child_sum_tree_model = ChildSumTreeLSTMClassifier(\n",
        "#     len(v.w2i), 300, 150, len(t2i), v)\n",
        "\n",
        "# with torch.no_grad():\n",
        "#   child_sum_tree_model.embed.weight.data.copy_(torch.from_numpy(vectors))\n",
        "#   child_sum_tree_model.embed.weight.requires_grad = False\n",
        "  \n",
        "# def do_train(model):\n",
        "  \n",
        "#   print(model)\n",
        "#   print_parameters(model)\n",
        "\n",
        "#   model = model.to(device)\n",
        "\n",
        "#   optimizer = optim.Adam(model.parameters(), lr=2e-4)\n",
        "  \n",
        "#   return train_model(\n",
        "#       model, optimizer, num_iterations=30000, \n",
        "#       print_every=250, eval_every=250,\n",
        "#       prep_fn=prepare_treelstm_minibatch,\n",
        "#       eval_fn=evaluate,\n",
        "#       batch_fn=get_minibatch,\n",
        "#       batch_size=25, eval_batch_size=25)\n",
        "  \n",
        "# results_child_sum_lstm = do_train(child_sum_tree_model)"
      ],
      "execution_count": null,
      "outputs": []
    },
    {
      "cell_type": "code",
      "metadata": {
        "id": "XhR0AK3FqV3c"
      },
      "source": [
        "# # plot\n",
        "# losses_child_sum_lstm, accuracies_child_sum_lstm = results_child_sum_lstm\n",
        "# plt.plot(losses_child_sum_lstm)"
      ],
      "execution_count": null,
      "outputs": []
    },
    {
      "cell_type": "code",
      "metadata": {
        "id": "GqBlZ9Sd-grn",
        "outputId": "5820f4a2-105e-4d5a-ffda-56815e7306cd",
        "colab": {
          "base_uri": "https://localhost:8080/"
        }
      },
      "source": [
        "def gen_child_sum_tree_model():\n",
        "  child_sum_tree_model = ChildSumTreeLSTMClassifier(\n",
        "    len(v.w2i), 300, 150, len(t2i), v)\n",
        "  with torch.no_grad():\n",
        "    child_sum_tree_model.embed.weight.data.copy_(torch.from_numpy(vectors))\n",
        "    child_sum_tree_model.embed.weight.requires_grad = False\n",
        "    child_sum_tree_model = child_sum_tree_model.to(device)\n",
        "    optimizer = optim.Adam(child_sum_tree_model.parameters(), lr=2e-4)\n",
        "  return child_sum_tree_model, optimizer\n",
        "\n",
        "child_sum_tree_accs, child_sum_tree_models = train_with_different_seeds(\n",
        "    gen_child_sum_tree_model, num_iterations=5000, \n",
        "    print_every=250, eval_every=1000,\n",
        "    prep_fn=prepare_treelstm_minibatch,\n",
        "    eval_fn=evaluate,\n",
        "    batch_fn=get_minibatch,\n",
        "    batch_size=25, eval_batch_size=25)\n",
        "\n",
        "save_models(child_sum_tree_models,\"child_sum_tree\")"
      ],
      "execution_count": 200,
      "outputs": [
        {
          "output_type": "stream",
          "text": [
            "-------test case 0---------\n",
            "Shuffling training\n",
            "Shuffling training\n",
            "Shuffling training\n",
            "iter 1000: dev acc=0.4178\n",
            "new highscore\n",
            "Shuffling training\n",
            "Shuffling training\n",
            "Shuffling training\n",
            "iter 2000: dev acc=0.4405\n",
            "new highscore\n",
            "Shuffling training\n",
            "Shuffling training\n",
            "Shuffling training\n",
            "iter 3000: dev acc=0.4314\n",
            "Shuffling training\n",
            "Shuffling training\n",
            "Shuffling training\n",
            "iter 4000: dev acc=0.4569\n",
            "new highscore\n",
            "Shuffling training\n",
            "Shuffling training\n",
            "Shuffling training\n",
            "iter 5000: dev acc=0.4505\n",
            "Done training\n",
            "Loading best model\n",
            "best model iter 4000: train acc=0.5336, dev acc=0.4569, test acc=0.4688\n",
            "-------test case 1---------\n",
            "Shuffling training\n",
            "Shuffling training\n",
            "Shuffling training\n",
            "iter 1000: dev acc=0.4214\n",
            "new highscore\n",
            "Shuffling training\n",
            "Shuffling training\n",
            "Shuffling training\n",
            "iter 2000: dev acc=0.4450\n",
            "new highscore\n",
            "Shuffling training\n",
            "Shuffling training\n",
            "Shuffling training\n",
            "iter 3000: dev acc=0.4578\n",
            "new highscore\n",
            "Shuffling training\n",
            "Shuffling training\n",
            "Shuffling training\n",
            "iter 4000: dev acc=0.4569\n",
            "Shuffling training\n",
            "Shuffling training\n",
            "Shuffling training\n",
            "iter 5000: dev acc=0.4605\n",
            "new highscore\n",
            "Done training\n",
            "Loading best model\n",
            "best model iter 5000: train acc=0.5550, dev acc=0.4605, test acc=0.4670\n",
            "-------test case 2---------\n",
            "Shuffling training\n",
            "Shuffling training\n",
            "Shuffling training\n",
            "iter 1000: dev acc=0.4178\n",
            "new highscore\n",
            "Shuffling training\n",
            "Shuffling training\n",
            "Shuffling training\n",
            "iter 2000: dev acc=0.4441\n",
            "new highscore\n",
            "Shuffling training\n",
            "Shuffling training\n",
            "Shuffling training\n",
            "iter 3000: dev acc=0.4378\n",
            "Shuffling training\n",
            "Shuffling training\n",
            "Shuffling training\n",
            "iter 4000: dev acc=0.4450\n",
            "new highscore\n",
            "Shuffling training\n",
            "Shuffling training\n",
            "Shuffling training\n",
            "iter 5000: dev acc=0.4641\n",
            "new highscore\n",
            "Done training\n",
            "Loading best model\n",
            "best model iter 5000: train acc=0.5541, dev acc=0.4641, test acc=0.4683\n",
            "The accuracy of the model is 0.4680 +/- 0.0008\n"
          ],
          "name": "stdout"
        }
      ]
    },
    {
      "cell_type": "code",
      "metadata": {
        "id": "FhPAwQ66XD_x",
        "outputId": "4ec2c406-c653-42b2-9f1a-69627e58f105",
        "colab": {
          "base_uri": "https://localhost:8080/"
        }
      },
      "source": [
        "# save model files to colab\n",
        "!cp -r \"./models/\" \"/gdrive/My Drive/\"\n",
        "!ls \"/gdrive/My Drive/models\""
      ],
      "execution_count": 201,
      "outputs": [
        {
          "output_type": "stream",
          "text": [
            "bow_best_model_0.pth\t\t     dbow_with_pretrain_best_model_1.pth\n",
            "bow_best_model_1.pth\t\t     dbow_with_pretrain_best_model_2.pth\n",
            "bow_best_model_2.pth\t\t     lstm_best_model_0.pth\n",
            "cbow_best_model_0.pth\t\t     lstm_best_model_1.pth\n",
            "cbow_best_model_1.pth\t\t     lstm_best_model_2.pth\n",
            "cbow_best_model_2.pth\t\t     models\n",
            "child_sum_tree_best_model_0.pth      tree_lstm_best_model_0.pth\n",
            "child_sum_tree_best_model_1.pth      tree_lstm_best_model_1.pth\n",
            "child_sum_tree_best_model_2.pth      tree_lstm_best_model_2.pth\n",
            "dbow_best_model_0.pth\t\t     tree_lstm_sn_best_model_0.pth\n",
            "dbow_best_model_1.pth\t\t     tree_lstm_sn_best_model_1.pth\n",
            "dbow_best_model_2.pth\t\t     tree_lstm_sn_best_model_2.pth\n",
            "dbow_with_pretrain_best_model_0.pth\n"
          ],
          "name": "stdout"
        }
      ]
    },
    {
      "cell_type": "code",
      "metadata": {
        "id": "PMfMwmsIqV3c"
      },
      "source": [
        "# plt.plot(accuracies_child_sum_lstm)"
      ],
      "execution_count": null,
      "outputs": []
    },
    {
      "cell_type": "markdown",
      "metadata": {
        "id": "NL277YnNqV3b"
      },
      "source": [
        "### Sentence Length "
      ]
    },
    {
      "cell_type": "code",
      "metadata": {
        "id": "VBdRpTHzqV3b",
        "colab": {
          "base_uri": "https://localhost:8080/"
        },
        "outputId": "ed393f58-8316-402c-990c-fc4610ff3551"
      },
      "source": [
        "lengths = [] \n",
        "for example in test_data:\n",
        "    lengths.append(len(example[0]))\n",
        "lengths.sort()\n",
        "\n",
        "first_treshold = lengths[int(len(test_data)/3)]\n",
        "second_treshold = lengths[int(2 * len(test_data)/3)]\n",
        "\n",
        "\n",
        "small = []\n",
        "medium = []\n",
        "large = []\n",
        "\n",
        "\n",
        "for example in test_data: \n",
        "    if len(example[0]) < first_treshold:\n",
        "        small.append(example)\n",
        "    elif len(example[0]) >= first_treshold and len(example[0]) < second_treshold:\n",
        "        medium.append(example)\n",
        "    else:\n",
        "        large.append(example)\n",
        "        \n",
        "print(len(small))\n",
        "print(len(medium))\n",
        "print(len(large))"
      ],
      "execution_count": 202,
      "outputs": [
        {
          "output_type": "stream",
          "text": [
            "661\n",
            "780\n",
            "769\n"
          ],
          "name": "stdout"
        }
      ]
    },
    {
      "cell_type": "code",
      "metadata": {
        "id": "v9b8UXgQqV3b"
      },
      "source": [
        "# Given the simple_evaluate function defined above:\n",
        "\n",
        "# all_sentences = [small, medium, large]\n",
        "\n",
        "# accuracies = []\n",
        "# for length in all_sentences:\n",
        "#     _, _, accuracy = simple_evaluate(bow_model.to(device), length, batch_size=1, batch_fn=get_examples, prep_fn=prepare_example)\n",
        "#     accuracies.append(accuracy)\n",
        "# print(\"The BOW Model Accuracy for datasets that are small = {:.2f}, medium = {:.2f}, large = {:.2f}\".format(accuracies[0], accuracies[1], accuracies[2]))\n",
        "\n",
        "# accuracies = []\n",
        "# for length in all_sentences:\n",
        "#     _, _, accuracy = simple_evaluate(cbow_model.to(device), length, batch_size=1, batch_fn=get_examples, prep_fn=prepare_example)\n",
        "#     accuracies.append(accuracy)\n",
        "# print(\"The CBOW Model Accuracy for datasets that are small = {:.2f}, medium = {:.2f}, large = {:.2f}\".format(accuracies[0], accuracies[1], accuracies[2]))\n",
        "\n",
        "# accuracies = []\n",
        "# for length in all_sentences:\n",
        "#     _, _, accuracy = simple_evaluate(dbow_model.to(device), length, batch_size=1, batch_fn=get_examples, prep_fn=prepare_example)\n",
        "#     accuracies.append(accuracy)\n",
        "# print(\"The DBOW Model Accuracy for datasets that are small = {:.2f}, medium = {:.2f}, large = {:.2f}\".format(accuracies[0], accuracies[1], accuracies[2]))\n",
        "\n",
        "# accuracies = []\n",
        "# for length in all_sentences:\n",
        "#     _, _, accuracy = simple_evaluate(lstm_model.to(device), length, batch_size=1, batch_fn=get_examples, prep_fn=prepare_example)\n",
        "#     accuracies.append(accuracy)\n",
        "# print(\"The LSTM Model Accuracy for datasets that are small = {:.2f}, medium = {:.2f}, large = {:.2f}\".format(accuracies[0], accuracies[1], accuracies[2]))\n",
        "\n",
        "# # accuracies = []\n",
        "# for length in all_sentences:\n",
        "#     _, _, accuracy = evaluate(tree_model.to(device), length, batch_size=1, batch_fn=get_minibatch, prep_fn=prepare_treelstm_minibatch)\n",
        "    \n",
        "#     accuracies.append(accuracy)\n",
        "# print(\"The Tree LSTM Model Accuracy for datasets that are small = {:.2f}, medium = {:.2f}, large = {:.2f} datasets\".format(accuracies[0], accuracies[1], accuracies[2]))\n"
      ],
      "execution_count": null,
      "outputs": []
    },
    {
      "cell_type": "code",
      "metadata": {
        "id": "VVgT1loEF_SW"
      },
      "source": [
        "# Use model with different seeds to test\n",
        "\n",
        "def test_with_diff_len(models, all_sentences, tree=False):\n",
        "  accs = np.zeros([len(models), len(all_sentences)])\n",
        "  for i, model in enumerate(models):\n",
        "    set_seed(i)\n",
        "    for j, length in enumerate(all_sentences):\n",
        "      if tree:\n",
        "        _, _, accs[i][j] = evaluate(model.to(device), length, batch_size=1, \n",
        "                                          batch_fn=get_minibatch, prep_fn=prepare_treelstm_minibatch)\n",
        "      else:\n",
        "        _, _, accs[i][j] = simple_evaluate(model.to(device), length, batch_size=1, \n",
        "                                          batch_fn=get_examples, prep_fn=prepare_example)\n",
        "  # tree_lstm_models[0].to(device), all_sentences[0], batch_size=1, batch_fn=get_minibatch, prep_fn=prepare_treelstm_minibatch\n",
        "  mean_accs = np.mean(accs, axis = 0)\n",
        "  std_accs = np.std(accs, axis = 0)\n",
        "  for k in range(len(mean_accs)):\n",
        "    print(\"{:4f} +/- {:4f}\".format( mean_accs[k], std_accs[k]), end = \"\\t\")\n",
        "  print()\n",
        "  return accs"
      ],
      "execution_count": 234,
      "outputs": []
    },
    {
      "cell_type": "code",
      "metadata": {
        "id": "_uvLLJcCHxbE",
        "colab": {
          "base_uri": "https://localhost:8080/"
        },
        "outputId": "2709c4d4-6025-4975-c7f8-52126d04c6d0"
      },
      "source": [
        "all_sentences = [small, medium, large]\n",
        "print(\"small\\t\\t\\t medium\\t\\t\\tlarge\")\n",
        "print(\"bow\")\n",
        "bow_accs = test_with_diff_len(bow_models, all_sentences)\n",
        "print(\"cbow\")\n",
        "cbow_accs = test_with_diff_len(cbow_models, all_sentences)\n",
        "print(\"dbow\")\n",
        "dbow_accs = test_with_diff_len(dbow_models, all_sentences)\n",
        "print(\"dbow_with_pretrain\")\n",
        "dbow_with_pretrain_accs = test_with_diff_len(dbow_with_pretrain_models, all_sentences)\n",
        "print(\"lstm\")\n",
        "lstm_accs = test_with_diff_len(lstm_models, all_sentences)\n"
      ],
      "execution_count": 215,
      "outputs": [
        {
          "output_type": "stream",
          "text": [
            "small\t\t\t medium\t\t\tlarge\n",
            "bow\n",
            "0.247605 +/- 0.012857\t0.260256 +/- 0.018520\t0.268314 +/- 0.032246\t\n",
            "cbow\n",
            "0.361573 +/- 0.003706\t0.340598 +/- 0.010995\t0.343736 +/- 0.014139\t\n",
            "dbow\n",
            "0.396369 +/- 0.023567\t0.363675 +/- 0.011905\t0.371478 +/- 0.008648\t\n",
            "dbow_with_pretrain\n",
            "0.468482 +/- 0.003971\t0.423932 +/- 0.003365\t0.410923 +/- 0.005517\t\n",
            "lstm\n",
            "0.523954 +/- 0.017352\t0.457265 +/- 0.011483\t0.433030 +/- 0.011085\t\n"
          ],
          "name": "stdout"
        }
      ]
    },
    {
      "cell_type": "code",
      "metadata": {
        "id": "hIvf_y7yfKwX",
        "outputId": "0ae7ad53-6c06-45d1-8f35-7bd6b56fe759",
        "colab": {
          "base_uri": "https://localhost:8080/"
        }
      },
      "source": [
        "print(\"tree_lstm\")\n",
        "tree_lstm_accs = test_with_diff_len(tree_lstm_models, all_sentences, tree=True)"
      ],
      "execution_count": 235,
      "outputs": [
        {
          "output_type": "stream",
          "text": [
            "tree_lstm\n",
            "0.496722 +/- 0.003774\t0.464957 +/- 0.006648\t0.447334 +/- 0.003678\t\n"
          ],
          "name": "stdout"
        }
      ]
    },
    {
      "cell_type": "code",
      "metadata": {
        "id": "uO5cor-4jDz1",
        "outputId": "cda65f0c-b6f1-4d6e-c83d-1f7fcdd39de1",
        "colab": {
          "base_uri": "https://localhost:8080/"
        }
      },
      "source": [
        "print(\"child sum tree lstm\")\n",
        "child_sum_tree_accs = test_with_diff_len(child_sum_tree_models, all_sentences, tree=True)"
      ],
      "execution_count": 236,
      "outputs": [
        {
          "output_type": "stream",
          "text": [
            "child sum tree lstm\n",
            "0.502774 +/- 0.008225\t0.472650 +/- 0.003963\t0.433463 +/- 0.007458\t\n"
          ],
          "name": "stdout"
        }
      ]
    },
    {
      "cell_type": "markdown",
      "metadata": {
        "id": "uzO7-VIKqV3c"
      },
      "source": [
        "### Add node supervision for Tree-LSTM"
      ]
    },
    {
      "cell_type": "code",
      "metadata": {
        "id": "vJ3gM9DbqV3c"
      },
      "source": [
        "def get_subtrees(s): # simple method to extact sub-trees\n",
        "  stack=[]\n",
        "  subtrees=[]\n",
        "  for c in s:\n",
        "    if c is not ')':\n",
        "      stack.append(c)\n",
        "    else:\n",
        "      s0 = stack.pop()\n",
        "      string = s0 + c\n",
        "      while string.count('(') != string.count(')'):  \n",
        "        s0 = stack.pop()\n",
        "        string = s0 + string\n",
        "      for c0 in string:\n",
        "        stack.append(c0)\n",
        "      subtrees.append(string)\n",
        "  return subtrees\n"
      ],
      "execution_count": 131,
      "outputs": []
    },
    {
      "cell_type": "code",
      "metadata": {
        "id": "kmSbsuPAqV3d"
      },
      "source": [
        "def examplereader_subtree(path, lower=False):\n",
        " \"\"\"Returns all examples in a file one by one.\"\"\"\n",
        " for line in filereader(path):\n",
        "    line = line.lower() if lower else line\n",
        "    subtrees = get_subtrees(line)\n",
        "    for subtree in subtrees:\n",
        "      tokens = tokens_from_treestring(subtree)\n",
        "      tree = Tree.fromstring(subtree)  # use NLTK's Tree\n",
        "      label = int(subtree[1])\n",
        "      trans = transitions_from_treestring(subtree)\n",
        "      yield Example(tokens=tokens, tree=tree, label=label, transitions=trans)"
      ],
      "execution_count": 132,
      "outputs": []
    },
    {
      "cell_type": "code",
      "metadata": {
        "id": "Bkcv_WIMqV3d",
        "colab": {
          "base_uri": "https://localhost:8080/"
        },
        "outputId": "dddc619c-35b3-4066-d1d6-cf3d0d9abaf1"
      },
      "source": [
        "# Create new train data\n",
        "subtree_train_data = list(examplereader_subtree(\"trees/train.txt\", lower=LOWER))\n",
        "len(subtree_train_data)"
      ],
      "execution_count": 133,
      "outputs": [
        {
          "output_type": "execute_result",
          "data": {
            "text/plain": [
              "318582"
            ]
          },
          "metadata": {
            "tags": []
          },
          "execution_count": 133
        }
      ]
    },
    {
      "cell_type": "code",
      "metadata": {
        "id": "upooviFIeqQa",
        "colab": {
          "base_uri": "https://localhost:8080/"
        },
        "outputId": "27df5853-05e3-493b-c991-53ce7d6c8317"
      },
      "source": [
        "len(train_data)"
      ],
      "execution_count": 134,
      "outputs": [
        {
          "output_type": "execute_result",
          "data": {
            "text/plain": [
              "8544"
            ]
          },
          "metadata": {
            "tags": []
          },
          "execution_count": 134
        }
      ]
    },
    {
      "cell_type": "code",
      "metadata": {
        "id": "uFvOatuvWEhL",
        "colab": {
          "base_uri": "https://localhost:8080/"
        },
        "outputId": "4594bff5-3b90-42a3-8459-db6a8b541580"
      },
      "source": [
        "tree_lstm_sn_accs, tree_lstm_sn_models = train_with_different_seeds(gen_tree_lstm, num_iterations=5000, \n",
        "                                          print_every=250, eval_every=1000,\n",
        "                                          prep_fn=prepare_treelstm_minibatch,\n",
        "                                          eval_fn=evaluate,\n",
        "                                          batch_fn=get_minibatch,\n",
        "                                          batch_size=256, eval_batch_size=256, train_data=subtree_train_data)"
      ],
      "execution_count": 141,
      "outputs": [
        {
          "output_type": "stream",
          "text": [
            "-------test case 0---------\n",
            "Shuffling training\n",
            "iter 1000: dev acc=0.4405\n",
            "new highscore\n",
            "Shuffling training\n",
            "iter 2000: dev acc=0.4678\n",
            "new highscore\n",
            "Shuffling training\n",
            "iter 3000: dev acc=0.4478\n",
            "Shuffling training\n",
            "iter 4000: dev acc=0.4687\n",
            "new highscore\n",
            "Shuffling training\n",
            "iter 5000: dev acc=0.4868\n",
            "new highscore\n",
            "Done training\n",
            "Loading best model\n",
            "best model iter 5000: train acc=0.7882, dev acc=0.4868, test acc=0.4774\n",
            "-------test case 1---------\n",
            "Shuffling training\n",
            "iter 1000: dev acc=0.4505\n",
            "new highscore\n",
            "Shuffling training\n",
            "iter 2000: dev acc=0.4587\n",
            "new highscore\n",
            "Shuffling training\n",
            "iter 3000: dev acc=0.4650\n",
            "new highscore\n",
            "Shuffling training\n",
            "iter 4000: dev acc=0.4687\n",
            "new highscore\n",
            "Shuffling training\n",
            "iter 5000: dev acc=0.4768\n",
            "new highscore\n",
            "Done training\n",
            "Loading best model\n",
            "best model iter 5000: train acc=0.7879, dev acc=0.4768, test acc=0.4638\n",
            "-------test case 2---------\n",
            "Shuffling training\n",
            "iter 1000: dev acc=0.4351\n",
            "new highscore\n",
            "Shuffling training\n",
            "iter 2000: dev acc=0.4659\n",
            "new highscore\n",
            "Shuffling training\n",
            "iter 3000: dev acc=0.4641\n",
            "Shuffling training\n",
            "iter 4000: dev acc=0.4678\n",
            "new highscore\n",
            "Shuffling training\n",
            "iter 5000: dev acc=0.4741\n",
            "new highscore\n",
            "Done training\n",
            "Loading best model\n",
            "best model iter 5000: train acc=0.7896, dev acc=0.4741, test acc=0.4914\n",
            "The accuracy of the model is 0.4775 +/- 0.0113\n"
          ],
          "name": "stdout"
        }
      ]
    },
    {
      "cell_type": "code",
      "metadata": {
        "colab": {
          "base_uri": "https://localhost:8080/"
        },
        "id": "nE172uOV1Mng",
        "outputId": "64a55218-9c2f-445c-f9d2-aabb7be31e1c"
      },
      "source": [
        "save_models(tree_lstm_sn_models , \"tree_lstm_sn\")\n",
        "!ls \"./models\""
      ],
      "execution_count": 144,
      "outputs": [
        {
          "output_type": "stream",
          "text": [
            "bow_best_model_0.pth\t\t     dbow_with_pretrain_best_model_2.pth\n",
            "bow_best_model_1.pth\t\t     lstm_best_model_0.pth\n",
            "bow_best_model_2.pth\t\t     lstm_best_model_1.pth\n",
            "cbow_best_model_0.pth\t\t     lstm_best_model_2.pth\n",
            "cbow_best_model_1.pth\t\t     tree_lstm_best_model_0.pth\n",
            "cbow_best_model_2.pth\t\t     tree_lstm_best_model_1.pth\n",
            "dbow_best_model_0.pth\t\t     tree_lstm_best_model_2.pth\n",
            "dbow_best_model_1.pth\t\t     tree_lstm_sn_best_model_0.pth\n",
            "dbow_best_model_2.pth\t\t     tree_lstm_sn_best_model_1.pth\n",
            "dbow_with_pretrain_best_model_0.pth  tree_lstm_sn_best_model_2.pth\n",
            "dbow_with_pretrain_best_model_1.pth\n"
          ],
          "name": "stdout"
        }
      ]
    },
    {
      "cell_type": "code",
      "metadata": {
        "id": "CNhME2_6Jkfp",
        "outputId": "f3665463-7c42-4718-e196-bdee002a29db",
        "colab": {
          "base_uri": "https://localhost:8080/"
        }
      },
      "source": [
        "# save model files to colab\n",
        "!cp -r \"./models/\" \"/gdrive/My Drive/\"\n",
        "!ls \"/gdrive/My Drive/models\""
      ],
      "execution_count": 146,
      "outputs": [
        {
          "output_type": "stream",
          "text": [
            "'Colab Notebooks'\t   googlenews.word2vec.300d.txt\n",
            " glove.840B.300d.sst.txt   models\n"
          ],
          "name": "stdout"
        }
      ]
    },
    {
      "cell_type": "markdown",
      "metadata": {
        "id": "f7QZZH86eHqu"
      },
      "source": [
        "# Further experiments and report\n",
        "\n",
        "For your report, you are expected to answer research questions by doing further experiments.\n",
        "\n",
        "## Research Questions\n",
        "\n",
        "Make sure you cover at least the following:\n",
        "\n",
        "- How important is word order for this task?\n",
        "- Does the tree structure help to get a better accuracy?\n",
        "- How does performance depend on the sentence length? Compare the various models. Is there a model that does better on longer sentences? If so, why?\n",
        "- Do you get better performance if you supervise the sentiment **at each node in the tree**? You can extract more training examples by treating every node in each tree as a separate tree. You will need to write a function that extracts all subtrees given a treestring. \n",
        "    - Warning: NLTK's Tree function seems to result in invalid trees in some cases, so be careful if you want to parse the string to a tree structure before extraction the phrases.\n",
        "\n",
        "**To obtain a full grade, you should conduct further investigations.** For example, you can also investigate the following:\n",
        "\n",
        "- When making a wrong prediction, can you figure out at what point in the tree (sentence) the model fails? You can make a prediction at each node to investigate.\n",
        "- How does N-ary Tree LSTM compare to the Child-Sum Tree LSTM? \n",
        "- How do the Tai et al. Tree LSTMs compare to Le & Zuidema's formulation?\n",
        "- Or... your own research question!\n",
        "\n",
        "In general:\n",
        "\n",
        "- ***When you report numbers, please report the mean accuracy across 3 (or more) runs with different random seed, together with the standard deviation.*** This is because the final performance may vary per random seed. \n",
        "More precisely, you should run each model with 3 different seeds, and for each of these 3 runs, evaluate the best model (according to the validation) on the test dataset. The validation dataset is used for finding the best model over iterations, but the accuracy you report should be on the test dataset.\n",
        "\n",
        "## Report instructions\n",
        "\n",
        "Your report needs to be written in LaTeX. You are required to use the ACL 2020 template which you can download from or edit directly on [Overleaf](https://www.overleaf.com/latex/templates/instructions-for-acl-2018-proceedings/xzmhqgnmkppc). Make sure your names and student numbers are visible at the top. (Tip: you need to uncomment `\\aclfinalcopy`).\n",
        "You can find some general tips about writing a research paper [here](https://www.microsoft.com/en-us/research/academic-program/write-great-research-paper/), but note that you need to make your own judgment about what is appropriate for this project. \n",
        "\n",
        "We expect you to use the following structure:\n",
        "1. Introduction (~1 page) - describe the problem, your research questions and goals, a summary of your findings and contributions. Please cite related work (models, data set) as part of your introduction here, since this is a short paper.\n",
        "    - Introduce the task and the main goal\n",
        "    - Clear research questions\n",
        "    - Motivating the importance of the questions and explaining the expectations\n",
        "    - How are these addressed or not addressed in the literature\n",
        "    - What is your approach\n",
        "    - Short summary of your findings\n",
        "2. Background (~1/2-1 page) -\n",
        "cover the main techniques (\"building blocks\") used in your project (e.g. word embeddings, LSTM, Tree-LSTM) and intuitions behind them. Be accurate and concise.\n",
        "    - How each technique that you use works (don't just copy the formulas)\n",
        "    - The relation between the techniques\n",
        "3. Models (~1/2 page) - Cover the models that you used.\n",
        "    - The architecture of the final models (How do you use LSTM or Tree-LSTM for the sentiment classification task? What layers do you have, how do you do classification? What is your loss function?)\n",
        "4. Experiments (~1/2 page) - Describe your experimental setup. The information here should allow someone else to reproduce your experiments. Describe how you evaluate the models.\n",
        "    - Explain the task and the data\n",
        "    - Training the models (model, data, parameters and hyper parameters if the models, training algorithms, what supervision signals you use, etc.)\n",
        "    - Evaluation (e.g. metrics)\n",
        "5. Results and Analysis (~1 page). Go over the results and analyse your findings.\n",
        "    - Answer each of the research questions you raised in the introduction.\n",
        "    - Plots and figures highlighting interesting patterns\n",
        "    - What are the factors that make model A better than model B in task C? Investigate to prove their effect!\n",
        "6. Conclusion (~1/4 page). The main conclusions of your experiments.\n",
        "    - What have you learned from you experiments? How does it relate to what is already known in the literature?\n",
        "    - Were the results as expected? Any surprising results? Why?\n",
        "    - Based on what you learned what would you suggest doing next?\n",
        "\n",
        "\n",
        "General Tips:\n",
        "\n",
        "- Math notation – define each variable (either in running text, or in a pseudo-legenda after or before the equation).\n",
        "- Define technical terminology you need.\n",
        "- Avoid colloquial language – everything can be said in a scientific-sounding way.\n",
        "- Avoid lengthy sentences, stay to the point.\n",
        "- Do not spend space on \"obvious\" things.\n",
        "- Do not go over the page limit. (We will deduct points for that.)\n",
        "- The page limit is 4 pages excluding references and appendix. There is no strict limit to references and appendix. However, the report needs to remain fully self-contained: the appendix should only include content that is not necessary to understand your work. For example, preprocessing decisions, model parameters, pseudocode, sample system inputs/outputs, and other details that are necessary for the exact replication of your work can be put into the appendix. However, \n",
        "\n",
        "\n",
        "An ideal report:\n",
        "- Precise, scientific-sounding, technical, to the point \n",
        "  - Little general “waffle”/chit-chat\n",
        "- Not boring – because you don’t explain obvious things too much\n",
        "- Efficient delivery of (only) the facts that we need to know to understand/reimplement\n",
        "- Results visually well-presented and described with the correct priority of importance of sub-results\n",
        "- Insightful analysis – speculation should connect to something interesting and not be too much; the reader “learns something new”\n",
        "- No typos, no colloquialisms – well-considered language\n",
        "- This normally means several re-draftings (re-orderings of information)\n"
      ]
    },
    {
      "cell_type": "code",
      "metadata": {
        "id": "uCINIXV1q1oe"
      },
      "source": [
        ""
      ],
      "execution_count": null,
      "outputs": []
    }
  ]
}